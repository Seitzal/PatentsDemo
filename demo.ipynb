{
 "cells": [
  {
   "attachments": {},
   "cell_type": "markdown",
   "metadata": {},
   "source": [
    "# JuliaPatents + Lens.org demo\n",
    "\n",
    "(c) 2023 Alex Seitz <ei271@uni-heidelberg.de>\n",
    "\n",
    "JuliaPatents is a Julia package ecosystem currently in development for patent data analysis.\n",
    "It currently provides support for [Lens.org](https://lens.org) as a data source,\n",
    "and will eventually also support [PatStat](https://www.epo.org/searching-for-patents/business/patstat.html).\n",
    "\n",
    "## Components\n",
    "\n",
    "The ecosystem consists of the following packages:\n",
    "- *PatentsBase* for general interface functions\n",
    "- *PatentsLandscapes* for analysis functions and custom taxonomies\n",
    "- *PatentsLens* for use of the Lens.org data source\n",
    "\n",
    "## Scope of this demo\n",
    "\n",
    "This demo is focused on the SQLite data model.\n",
    "See the [official PatentsBase documentation](https://juliapatents.github.io/PatentsBase.jl/) for information on the object model and general functionality.\n",
    "\n",
    "## 0. Preparation\n",
    "\n",
    "### Subscribing to the registry\n",
    "\n",
    "JuliaPatents packages are currently not in the general registry.\n",
    "Therefore, the JuliaPatents registry must be added once on every device."
   ]
  },
  {
   "cell_type": "code",
   "execution_count": 17,
   "metadata": {},
   "outputs": [
    {
     "name": "stderr",
     "output_type": "stream",
     "text": [
      "\u001b[32m\u001b[1m     Cloning\u001b[22m\u001b[39m registry from \"https://github.com/JuliaPatents/Registry\"\n"
     ]
    },
    {
     "name": "stderr",
     "output_type": "stream",
     "text": [
      "Registry `JuliaPatents` already exists in `~/.julia/registries/JuliaPatents`.\n"
     ]
    }
   ],
   "source": [
    "using Pkg\n",
    "pkg\"registry add https://github.com/JuliaPatents/Registry\""
   ]
  },
  {
   "attachments": {},
   "cell_type": "markdown",
   "metadata": {},
   "source": [
    "### Acquiring the packages"
   ]
  },
  {
   "cell_type": "code",
   "execution_count": 18,
   "metadata": {},
   "outputs": [
    {
     "name": "stderr",
     "output_type": "stream",
     "text": [
      "\u001b[32m\u001b[1m   Resolving\u001b[22m\u001b[39m package versions...\n"
     ]
    },
    {
     "name": "stderr",
     "output_type": "stream",
     "text": [
      "\u001b[32m\u001b[1m  No Changes\u001b[22m\u001b[39m to `~/.julia/environments/v1.8/Project.toml`\n",
      "\u001b[32m\u001b[1m  No Changes\u001b[22m\u001b[39m to `~/.julia/environments/v1.8/Manifest.toml`\n"
     ]
    },
    {
     "name": "stderr",
     "output_type": "stream",
     "text": [
      "\u001b[32m\u001b[1m   Resolving\u001b[22m\u001b[39m package versions...\n"
     ]
    },
    {
     "name": "stderr",
     "output_type": "stream",
     "text": [
      "\u001b[32m\u001b[1m  No Changes\u001b[22m\u001b[39m to `~/.julia/environments/v1.8/Project.toml`\n",
      "\u001b[32m\u001b[1m  No Changes\u001b[22m\u001b[39m to `~/.julia/environments/v1.8/Manifest.toml`\n"
     ]
    },
    {
     "name": "stderr",
     "output_type": "stream",
     "text": [
      "\u001b[32m\u001b[1m   Resolving\u001b[22m\u001b[39m package versions...\n"
     ]
    },
    {
     "name": "stderr",
     "output_type": "stream",
     "text": [
      "\u001b[32m\u001b[1m  No Changes\u001b[22m\u001b[39m to `~/.julia/environments/v1.8/Project.toml`\n",
      "\u001b[32m\u001b[1m  No Changes\u001b[22m\u001b[39m to `~/.julia/environments/v1.8/Manifest.toml`\n"
     ]
    }
   ],
   "source": [
    "Pkg.add(\"PatentsBase\")\n",
    "Pkg.add(\"PatentsLandscapes\")\n",
    "Pkg.add(\"PatentsLens\")"
   ]
  },
  {
   "attachments": {},
   "cell_type": "markdown",
   "metadata": {},
   "source": [
    "### Loading the packages"
   ]
  },
  {
   "cell_type": "code",
   "execution_count": 2,
   "metadata": {},
   "outputs": [],
   "source": [
    "using PatentsBase, PatentsLens, PatentsLandscapes"
   ]
  },
  {
   "attachments": {},
   "cell_type": "markdown",
   "metadata": {},
   "source": [
    "## 1. Loading data into the database\n",
    "\n",
    "### Acquiring data\n",
    "\n",
    "Data should be downloaded from [Lens.org](https://lens.org) in the JSON Lines (.jsonl) format.\n",
    "For this demo, we'll be using a dataset of technical textiles patents.\n",
    "We will download the 50,000 most relevant patent documents related to the search term \"technical textile\" from Lens.\n",
    "Note: To download more than 1,000 documents at a time, a free Lens.org account is required.\n",
    "\n",
    "### Creating a database\n",
    "\n",
    "PatentsLens uses an SQLite backend, so there is no database server and databases are simply files."
   ]
  },
  {
   "cell_type": "code",
   "execution_count": 3,
   "metadata": {},
   "outputs": [
    {
     "data": {
      "text/plain": [
       "LensDB(SQLite.DB(\"demo.db\"))"
      ]
     },
     "metadata": {},
     "output_type": "display_data"
    }
   ],
   "source": [
    "demo_db = LensDB(\"demo.db\")"
   ]
  },
  {
   "attachments": {},
   "cell_type": "markdown",
   "metadata": {},
   "source": [
    "### Loading the data\n",
    "\n",
    "This step is quite computationally expensive as the data needs to transformed.\n",
    "It may take several minutes for larger datasets such as this one.\n",
    "The `skip_on_error` flag allows the loading process to skip malformatted lines in the data rather than fail when it encounters an error."
   ]
  },
  {
   "cell_type": "code",
   "execution_count": 21,
   "metadata": {},
   "outputs": [
    {
     "name": "stdout",
     "output_type": "stream",
     "text": [
      "Processing chunk #1 (app #1 - #5000)\n"
     ]
    },
    {
     "name": "stdout",
     "output_type": "stream",
     "text": [
      "Processing chunk #2 (app #5001 - #10000)\n"
     ]
    },
    {
     "name": "stdout",
     "output_type": "stream",
     "text": [
      "Processing chunk #3 (app #10001 - #15000)\n"
     ]
    },
    {
     "name": "stdout",
     "output_type": "stream",
     "text": [
      "Processing chunk #4 (app #15001 - #20000)\n"
     ]
    },
    {
     "name": "stdout",
     "output_type": "stream",
     "text": [
      "Processing chunk #5 (app #20001 - #25000)\n"
     ]
    },
    {
     "name": "stderr",
     "output_type": "stream",
     "text": [
      "Encountered parsing error in file technical-textile-50000.jsonl at line 20381:\n"
     ]
    },
    {
     "name": "stderr",
     "output_type": "stream",
     "text": [
      "MethodError: \u001b[0mCannot `convert` an object of type "
     ]
    },
    {
     "name": "stderr",
     "output_type": "stream",
     "text": [
      "\u001b[92mNothing\u001b[39m\u001b[0m to an object of type \u001b[91mDate\u001b[39m\n",
      "\u001b[0mClosest candidates are:\n",
      "\u001b[0m  convert(::Type{Date}, \u001b[91m::DateTime\u001b[39m) at /usr/share/julia/stdlib/v1.8/Dates/src/conversions.jl:31\n",
      "\u001b[0m  convert(::Type{Date}, \u001b[91m::Day\u001b[39m) at /usr/share/julia/stdlib/v1.8/Dates/src/conversions.jl:36\n",
      "\u001b[0m  convert(::Type{T}, \u001b[91m::T\u001b[39m) where T at Base.jl:61\n",
      "\u001b[0m  ..."
     ]
    },
    {
     "name": "stderr",
     "output_type": "stream",
     "text": [
      "\n"
     ]
    },
    {
     "name": "stdout",
     "output_type": "stream",
     "text": [
      "Processing chunk #6 (app #25001 - #30000)\n"
     ]
    },
    {
     "name": "stdout",
     "output_type": "stream",
     "text": [
      "Processing chunk #7 (app #30001 - #35000)\n"
     ]
    },
    {
     "name": "stdout",
     "output_type": "stream",
     "text": [
      "Processing chunk #8 (app #35001 - #40000)\n"
     ]
    },
    {
     "name": "stdout",
     "output_type": "stream",
     "text": [
      "Processing chunk #9 (app #40001 - #45000)\n"
     ]
    },
    {
     "name": "stdout",
     "output_type": "stream",
     "text": [
      "Processing chunk #10 (app #45001 - #50000)\n"
     ]
    },
    {
     "name": "stdout",
     "output_type": "stream",
     "text": [
      "Processing chunk #11 (app #50001 - #55000)\n"
     ]
    }
   ],
   "source": [
    "PatentsLens.load_jsonl!(demo_db, \"technical-textile-50000.jsonl\", skip_on_error = true)"
   ]
  },
  {
   "attachments": {},
   "cell_type": "markdown",
   "metadata": {},
   "source": [
    "### Checking if it worked\n",
    "\n",
    "(the syntax for this command will be explained further below)"
   ]
  },
  {
   "cell_type": "code",
   "execution_count": 5,
   "metadata": {},
   "outputs": [
    {
     "data": {
      "text/html": [
       "<div><div style = \"float: left;\"><span>1×1 DataFrame</span></div><div style = \"clear: both;\"></div></div><div class = \"data-frame\" style = \"overflow-x: scroll;\"><table class = \"data-frame\" style = \"margin-bottom: 6px;\"><thead><tr class = \"header\"><th class = \"rowNumber\" style = \"font-weight: bold; text-align: right;\">Row</th><th style = \"text-align: left;\">applications</th></tr><tr class = \"subheader headerLastRow\"><th class = \"rowNumber\" style = \"font-weight: bold; text-align: right;\"></th><th title = \"Int64\" style = \"text-align: left;\">Int64</th></tr></thead><tbody><tr><td class = \"rowNumber\" style = \"font-weight: bold; text-align: right;\">1</td><td style = \"text-align: right;\">49999</td></tr></tbody></table></div>"
      ],
      "text/latex": [
       "\\begin{tabular}{r|c}\n",
       "\t& applications\\\\\n",
       "\t\\hline\n",
       "\t& Int64\\\\\n",
       "\t\\hline\n",
       "\t1 & 49999 \\\\\n",
       "\\end{tabular}\n"
      ],
      "text/plain": [
       "\u001b[1m1×1 DataFrame\u001b[0m\n",
       "\u001b[1m Row \u001b[0m│\u001b[1m applications \u001b[0m\n",
       "     │\u001b[90m Int64        \u001b[0m\n",
       "─────┼──────────────\n",
       "   1 │        49999"
      ]
     },
     "metadata": {},
     "output_type": "display_data"
    }
   ],
   "source": [
    "prepdata(demo_db, Frequency(), ApplicationLevel())"
   ]
  },
  {
   "attachments": {},
   "cell_type": "markdown",
   "metadata": {},
   "source": [
    "## 2. Simple frequency analyses\n",
    "\n",
    "The main function for database-backed analyses is called [`prepdata`](https://juliapatents.github.io/PatentsLandscapes.jl/dev/#PatentsLandscapes.prepdata).\n",
    "As its first argument, it takes a data source, in this case the database we created.\n",
    "The second argument is the analysis type, in this case `Frequency()`.\n",
    "The third argument is the analysis level, which can be `ApplicationLevel()` or `FamilyLevel()`.\n",
    "Arguments after this can be filters and groupings.\n",
    "The code above is the most simple example, it simply counts the applications in the database.\n",
    "We can also do this with families:"
   ]
  },
  {
   "cell_type": "code",
   "execution_count": 6,
   "metadata": {},
   "outputs": [
    {
     "data": {
      "text/html": [
       "<div><div style = \"float: left;\"><span>1×1 DataFrame</span></div><div style = \"clear: both;\"></div></div><div class = \"data-frame\" style = \"overflow-x: scroll;\"><table class = \"data-frame\" style = \"margin-bottom: 6px;\"><thead><tr class = \"header\"><th class = \"rowNumber\" style = \"font-weight: bold; text-align: right;\">Row</th><th style = \"text-align: left;\">families</th></tr><tr class = \"subheader headerLastRow\"><th class = \"rowNumber\" style = \"font-weight: bold; text-align: right;\"></th><th title = \"Int64\" style = \"text-align: left;\">Int64</th></tr></thead><tbody><tr><td class = \"rowNumber\" style = \"font-weight: bold; text-align: right;\">1</td><td style = \"text-align: right;\">41591</td></tr></tbody></table></div>"
      ],
      "text/latex": [
       "\\begin{tabular}{r|c}\n",
       "\t& families\\\\\n",
       "\t\\hline\n",
       "\t& Int64\\\\\n",
       "\t\\hline\n",
       "\t1 & 41591 \\\\\n",
       "\\end{tabular}\n"
      ],
      "text/plain": [
       "\u001b[1m1×1 DataFrame\u001b[0m\n",
       "\u001b[1m Row \u001b[0m│\u001b[1m families \u001b[0m\n",
       "     │\u001b[90m Int64    \u001b[0m\n",
       "─────┼──────────\n",
       "   1 │    41591"
      ]
     },
     "metadata": {},
     "output_type": "display_data"
    }
   ],
   "source": [
    "prepdata(demo_db, Frequency(), FamilyLevel())"
   ]
  },
  {
   "attachments": {},
   "cell_type": "markdown",
   "metadata": {},
   "source": [
    "Simple families are usually a better unit of analysis than applications, since each simple families roughly corresponds to an invention.\n",
    "Hence, all examples here will use families.\n",
    "\n",
    "### Groupings\n",
    "\n",
    "Frequency analysis starts becoming useful when we can differentiate across groups.\n",
    "The prepdata command allows us to specify a grouping as the fourth argument:"
   ]
  },
  {
   "cell_type": "code",
   "execution_count": 7,
   "metadata": {},
   "outputs": [
    {
     "data": {
      "text/html": [
       "<div><div style = \"float: left;\"><span>44×2 DataFrame</span></div><div style = \"float: right;\"><span style = \"font-style: italic;\">19 rows omitted</span></div><div style = \"clear: both;\"></div></div><div class = \"data-frame\" style = \"overflow-x: scroll;\"><table class = \"data-frame\" style = \"margin-bottom: 6px;\"><thead><tr class = \"header\"><th class = \"rowNumber\" style = \"font-weight: bold; text-align: right;\">Row</th><th style = \"text-align: left;\">jurisdiction</th><th style = \"text-align: left;\">families</th></tr><tr class = \"subheader headerLastRow\"><th class = \"rowNumber\" style = \"font-weight: bold; text-align: right;\"></th><th title = \"String\" style = \"text-align: left;\">String</th><th title = \"Int64\" style = \"text-align: left;\">Int64</th></tr></thead><tbody><tr><td class = \"rowNumber\" style = \"font-weight: bold; text-align: right;\">1</td><td style = \"text-align: left;\">AU</td><td style = \"text-align: right;\">18</td></tr><tr><td class = \"rowNumber\" style = \"font-weight: bold; text-align: right;\">2</td><td style = \"text-align: left;\">BE</td><td style = \"text-align: right;\">1</td></tr><tr><td class = \"rowNumber\" style = \"font-weight: bold; text-align: right;\">3</td><td style = \"text-align: left;\">BG</td><td style = \"text-align: right;\">7</td></tr><tr><td class = \"rowNumber\" style = \"font-weight: bold; text-align: right;\">4</td><td style = \"text-align: left;\">CA</td><td style = \"text-align: right;\">28</td></tr><tr><td class = \"rowNumber\" style = \"font-weight: bold; text-align: right;\">5</td><td style = \"text-align: left;\">CH</td><td style = \"text-align: right;\">8</td></tr><tr><td class = \"rowNumber\" style = \"font-weight: bold; text-align: right;\">6</td><td style = \"text-align: left;\">CN</td><td style = \"text-align: right;\">32077</td></tr><tr><td class = \"rowNumber\" style = \"font-weight: bold; text-align: right;\">7</td><td style = \"text-align: left;\">CS</td><td style = \"text-align: right;\">2</td></tr><tr><td class = \"rowNumber\" style = \"font-weight: bold; text-align: right;\">8</td><td style = \"text-align: left;\">CZ</td><td style = \"text-align: right;\">5</td></tr><tr><td class = \"rowNumber\" style = \"font-weight: bold; text-align: right;\">9</td><td style = \"text-align: left;\">DE</td><td style = \"text-align: right;\">90</td></tr><tr><td class = \"rowNumber\" style = \"font-weight: bold; text-align: right;\">10</td><td style = \"text-align: left;\">EA</td><td style = \"text-align: right;\">6</td></tr><tr><td class = \"rowNumber\" style = \"font-weight: bold; text-align: right;\">11</td><td style = \"text-align: left;\">EE</td><td style = \"text-align: right;\">1</td></tr><tr><td class = \"rowNumber\" style = \"font-weight: bold; text-align: right;\">12</td><td style = \"text-align: left;\">EP</td><td style = \"text-align: right;\">2487</td></tr><tr><td class = \"rowNumber\" style = \"font-weight: bold; text-align: right;\">13</td><td style = \"text-align: left;\">ES</td><td style = \"text-align: right;\">28</td></tr><tr><td style = \"text-align: right;\">&vellip;</td><td style = \"text-align: right;\">&vellip;</td><td style = \"text-align: right;\">&vellip;</td></tr><tr><td class = \"rowNumber\" style = \"font-weight: bold; text-align: right;\">33</td><td style = \"text-align: left;\">RO</td><td style = \"text-align: right;\">12</td></tr><tr><td class = \"rowNumber\" style = \"font-weight: bold; text-align: right;\">34</td><td style = \"text-align: left;\">RS</td><td style = \"text-align: right;\">1</td></tr><tr><td class = \"rowNumber\" style = \"font-weight: bold; text-align: right;\">35</td><td style = \"text-align: left;\">RU</td><td style = \"text-align: right;\">229</td></tr><tr><td class = \"rowNumber\" style = \"font-weight: bold; text-align: right;\">36</td><td style = \"text-align: left;\">SI</td><td style = \"text-align: right;\">4</td></tr><tr><td class = \"rowNumber\" style = \"font-weight: bold; text-align: right;\">37</td><td style = \"text-align: left;\">SK</td><td style = \"text-align: right;\">1</td></tr><tr><td class = \"rowNumber\" style = \"font-weight: bold; text-align: right;\">38</td><td style = \"text-align: left;\">SU</td><td style = \"text-align: right;\">1</td></tr><tr><td class = \"rowNumber\" style = \"font-weight: bold; text-align: right;\">39</td><td style = \"text-align: left;\">TR</td><td style = \"text-align: right;\">1</td></tr><tr><td class = \"rowNumber\" style = \"font-weight: bold; text-align: right;\">40</td><td style = \"text-align: left;\">TW</td><td style = \"text-align: right;\">12</td></tr><tr><td class = \"rowNumber\" style = \"font-weight: bold; text-align: right;\">41</td><td style = \"text-align: left;\">UA</td><td style = \"text-align: right;\">21</td></tr><tr><td class = \"rowNumber\" style = \"font-weight: bold; text-align: right;\">42</td><td style = \"text-align: left;\">US</td><td style = \"text-align: right;\">6599</td></tr><tr><td class = \"rowNumber\" style = \"font-weight: bold; text-align: right;\">43</td><td style = \"text-align: left;\">WO</td><td style = \"text-align: right;\">3403</td></tr><tr><td class = \"rowNumber\" style = \"font-weight: bold; text-align: right;\">44</td><td style = \"text-align: left;\">ZA</td><td style = \"text-align: right;\">1</td></tr></tbody></table></div>"
      ],
      "text/latex": [
       "\\begin{tabular}{r|cc}\n",
       "\t& jurisdiction & families\\\\\n",
       "\t\\hline\n",
       "\t& String & Int64\\\\\n",
       "\t\\hline\n",
       "\t1 & AU & 18 \\\\\n",
       "\t2 & BE & 1 \\\\\n",
       "\t3 & BG & 7 \\\\\n",
       "\t4 & CA & 28 \\\\\n",
       "\t5 & CH & 8 \\\\\n",
       "\t6 & CN & 32077 \\\\\n",
       "\t7 & CS & 2 \\\\\n",
       "\t8 & CZ & 5 \\\\\n",
       "\t9 & DE & 90 \\\\\n",
       "\t10 & EA & 6 \\\\\n",
       "\t11 & EE & 1 \\\\\n",
       "\t12 & EP & 2487 \\\\\n",
       "\t13 & ES & 28 \\\\\n",
       "\t14 & FR & 22 \\\\\n",
       "\t15 & GB & 26 \\\\\n",
       "\t16 & GE & 38 \\\\\n",
       "\t17 & GR & 3 \\\\\n",
       "\t18 & HR & 2 \\\\\n",
       "\t19 & HU & 7 \\\\\n",
       "\t20 & IN & 2 \\\\\n",
       "\t21 & IT & 3 \\\\\n",
       "\t22 & JP & 7 \\\\\n",
       "\t23 & KR & 10 \\\\\n",
       "\t24 & LT & 2 \\\\\n",
       "\t$\\dots$ & $\\dots$ & $\\dots$ \\\\\n",
       "\\end{tabular}\n"
      ],
      "text/plain": [
       "\u001b[1m44×2 DataFrame\u001b[0m\n",
       "\u001b[1m Row \u001b[0m│\u001b[1m jurisdiction \u001b[0m\u001b[1m families \u001b[0m\n",
       "     │\u001b[90m String       \u001b[0m\u001b[90m Int64    \u001b[0m\n",
       "─────┼────────────────────────\n",
       "   1 │ AU                  18\n",
       "   2 │ BE                   1\n",
       "   3 │ BG                   7\n",
       "   4 │ CA                  28\n",
       "   5 │ CH                   8\n",
       "   6 │ CN               32077\n",
       "   7 │ CS                   2\n",
       "   8 │ CZ                   5\n",
       "  ⋮  │      ⋮           ⋮\n",
       "  38 │ SU                   1\n",
       "  39 │ TR                   1\n",
       "  40 │ TW                  12\n",
       "  41 │ UA                  21\n",
       "  42 │ US                6599\n",
       "  43 │ WO                3403\n",
       "  44 │ ZA                   1\n",
       "\u001b[36m               29 rows omitted\u001b[0m"
      ]
     },
     "metadata": {},
     "output_type": "display_data"
    }
   ],
   "source": [
    "res = prepdata(demo_db, Frequency(), FamilyLevel(), Jurisdictions())"
   ]
  },
  {
   "attachments": {},
   "cell_type": "markdown",
   "metadata": {},
   "source": [
    "The above example gives us the number of patent families in the dataset for each jurisdiction.\n",
    "We can sort the output to get a better view of the important ones:"
   ]
  },
  {
   "cell_type": "code",
   "execution_count": 8,
   "metadata": {},
   "outputs": [
    {
     "data": {
      "text/html": [
       "<div><div style = \"float: left;\"><span>44×2 DataFrame</span></div><div style = \"float: right;\"><span style = \"font-style: italic;\">19 rows omitted</span></div><div style = \"clear: both;\"></div></div><div class = \"data-frame\" style = \"overflow-x: scroll;\"><table class = \"data-frame\" style = \"margin-bottom: 6px;\"><thead><tr class = \"header\"><th class = \"rowNumber\" style = \"font-weight: bold; text-align: right;\">Row</th><th style = \"text-align: left;\">jurisdiction</th><th style = \"text-align: left;\">families</th></tr><tr class = \"subheader headerLastRow\"><th class = \"rowNumber\" style = \"font-weight: bold; text-align: right;\"></th><th title = \"String\" style = \"text-align: left;\">String</th><th title = \"Int64\" style = \"text-align: left;\">Int64</th></tr></thead><tbody><tr><td class = \"rowNumber\" style = \"font-weight: bold; text-align: right;\">1</td><td style = \"text-align: left;\">CN</td><td style = \"text-align: right;\">32077</td></tr><tr><td class = \"rowNumber\" style = \"font-weight: bold; text-align: right;\">2</td><td style = \"text-align: left;\">US</td><td style = \"text-align: right;\">6599</td></tr><tr><td class = \"rowNumber\" style = \"font-weight: bold; text-align: right;\">3</td><td style = \"text-align: left;\">WO</td><td style = \"text-align: right;\">3403</td></tr><tr><td class = \"rowNumber\" style = \"font-weight: bold; text-align: right;\">4</td><td style = \"text-align: left;\">EP</td><td style = \"text-align: right;\">2487</td></tr><tr><td class = \"rowNumber\" style = \"font-weight: bold; text-align: right;\">5</td><td style = \"text-align: left;\">RU</td><td style = \"text-align: right;\">229</td></tr><tr><td class = \"rowNumber\" style = \"font-weight: bold; text-align: right;\">6</td><td style = \"text-align: left;\">DE</td><td style = \"text-align: right;\">90</td></tr><tr><td class = \"rowNumber\" style = \"font-weight: bold; text-align: right;\">7</td><td style = \"text-align: left;\">GE</td><td style = \"text-align: right;\">38</td></tr><tr><td class = \"rowNumber\" style = \"font-weight: bold; text-align: right;\">8</td><td style = \"text-align: left;\">CA</td><td style = \"text-align: right;\">28</td></tr><tr><td class = \"rowNumber\" style = \"font-weight: bold; text-align: right;\">9</td><td style = \"text-align: left;\">ES</td><td style = \"text-align: right;\">28</td></tr><tr><td class = \"rowNumber\" style = \"font-weight: bold; text-align: right;\">10</td><td style = \"text-align: left;\">GB</td><td style = \"text-align: right;\">26</td></tr><tr><td class = \"rowNumber\" style = \"font-weight: bold; text-align: right;\">11</td><td style = \"text-align: left;\">FR</td><td style = \"text-align: right;\">22</td></tr><tr><td class = \"rowNumber\" style = \"font-weight: bold; text-align: right;\">12</td><td style = \"text-align: left;\">UA</td><td style = \"text-align: right;\">21</td></tr><tr><td class = \"rowNumber\" style = \"font-weight: bold; text-align: right;\">13</td><td style = \"text-align: left;\">AU</td><td style = \"text-align: right;\">18</td></tr><tr><td style = \"text-align: right;\">&vellip;</td><td style = \"text-align: right;\">&vellip;</td><td style = \"text-align: right;\">&vellip;</td></tr><tr><td class = \"rowNumber\" style = \"font-weight: bold; text-align: right;\">33</td><td style = \"text-align: left;\">IN</td><td style = \"text-align: right;\">2</td></tr><tr><td class = \"rowNumber\" style = \"font-weight: bold; text-align: right;\">34</td><td style = \"text-align: left;\">LT</td><td style = \"text-align: right;\">2</td></tr><tr><td class = \"rowNumber\" style = \"font-weight: bold; text-align: right;\">35</td><td style = \"text-align: left;\">LV</td><td style = \"text-align: right;\">2</td></tr><tr><td class = \"rowNumber\" style = \"font-weight: bold; text-align: right;\">36</td><td style = \"text-align: left;\">PT</td><td style = \"text-align: right;\">2</td></tr><tr><td class = \"rowNumber\" style = \"font-weight: bold; text-align: right;\">37</td><td style = \"text-align: left;\">BE</td><td style = \"text-align: right;\">1</td></tr><tr><td class = \"rowNumber\" style = \"font-weight: bold; text-align: right;\">38</td><td style = \"text-align: left;\">EE</td><td style = \"text-align: right;\">1</td></tr><tr><td class = \"rowNumber\" style = \"font-weight: bold; text-align: right;\">39</td><td style = \"text-align: left;\">NL</td><td style = \"text-align: right;\">1</td></tr><tr><td class = \"rowNumber\" style = \"font-weight: bold; text-align: right;\">40</td><td style = \"text-align: left;\">RS</td><td style = \"text-align: right;\">1</td></tr><tr><td class = \"rowNumber\" style = \"font-weight: bold; text-align: right;\">41</td><td style = \"text-align: left;\">SK</td><td style = \"text-align: right;\">1</td></tr><tr><td class = \"rowNumber\" style = \"font-weight: bold; text-align: right;\">42</td><td style = \"text-align: left;\">SU</td><td style = \"text-align: right;\">1</td></tr><tr><td class = \"rowNumber\" style = \"font-weight: bold; text-align: right;\">43</td><td style = \"text-align: left;\">TR</td><td style = \"text-align: right;\">1</td></tr><tr><td class = \"rowNumber\" style = \"font-weight: bold; text-align: right;\">44</td><td style = \"text-align: left;\">ZA</td><td style = \"text-align: right;\">1</td></tr></tbody></table></div>"
      ],
      "text/latex": [
       "\\begin{tabular}{r|cc}\n",
       "\t& jurisdiction & families\\\\\n",
       "\t\\hline\n",
       "\t& String & Int64\\\\\n",
       "\t\\hline\n",
       "\t1 & CN & 32077 \\\\\n",
       "\t2 & US & 6599 \\\\\n",
       "\t3 & WO & 3403 \\\\\n",
       "\t4 & EP & 2487 \\\\\n",
       "\t5 & RU & 229 \\\\\n",
       "\t6 & DE & 90 \\\\\n",
       "\t7 & GE & 38 \\\\\n",
       "\t8 & CA & 28 \\\\\n",
       "\t9 & ES & 28 \\\\\n",
       "\t10 & GB & 26 \\\\\n",
       "\t11 & FR & 22 \\\\\n",
       "\t12 & UA & 21 \\\\\n",
       "\t13 & AU & 18 \\\\\n",
       "\t14 & RO & 12 \\\\\n",
       "\t15 & TW & 12 \\\\\n",
       "\t16 & KR & 10 \\\\\n",
       "\t17 & CH & 8 \\\\\n",
       "\t18 & MD & 8 \\\\\n",
       "\t19 & BG & 7 \\\\\n",
       "\t20 & HU & 7 \\\\\n",
       "\t21 & JP & 7 \\\\\n",
       "\t22 & MX & 7 \\\\\n",
       "\t23 & EA & 6 \\\\\n",
       "\t24 & PL & 6 \\\\\n",
       "\t$\\dots$ & $\\dots$ & $\\dots$ \\\\\n",
       "\\end{tabular}\n"
      ],
      "text/plain": [
       "\u001b[1m44×2 DataFrame\u001b[0m\n",
       "\u001b[1m Row \u001b[0m│\u001b[1m jurisdiction \u001b[0m\u001b[1m families \u001b[0m\n",
       "     │\u001b[90m String       \u001b[0m\u001b[90m Int64    \u001b[0m\n",
       "─────┼────────────────────────\n",
       "   1 │ CN               32077\n",
       "   2 │ US                6599\n",
       "   3 │ WO                3403\n",
       "   4 │ EP                2487\n",
       "   5 │ RU                 229\n",
       "   6 │ DE                  90\n",
       "   7 │ GE                  38\n",
       "   8 │ CA                  28\n",
       "  ⋮  │      ⋮           ⋮\n",
       "  38 │ EE                   1\n",
       "  39 │ NL                   1\n",
       "  40 │ RS                   1\n",
       "  41 │ SK                   1\n",
       "  42 │ SU                   1\n",
       "  43 │ TR                   1\n",
       "  44 │ ZA                   1\n",
       "\u001b[36m               29 rows omitted\u001b[0m"
      ]
     },
     "metadata": {},
     "output_type": "display_data"
    }
   ],
   "source": [
    "sort(res, :families, rev = true)"
   ]
  },
  {
   "attachments": {},
   "cell_type": "markdown",
   "metadata": {},
   "source": [
    "For most groupings (not just jurisdictions), we can also specify which groups we're interested in:"
   ]
  },
  {
   "cell_type": "code",
   "execution_count": 9,
   "metadata": {},
   "outputs": [
    {
     "data": {
      "text/html": [
       "<div><div style = \"float: left;\"><span>5×2 DataFrame</span></div><div style = \"clear: both;\"></div></div><div class = \"data-frame\" style = \"overflow-x: scroll;\"><table class = \"data-frame\" style = \"margin-bottom: 6px;\"><thead><tr class = \"header\"><th class = \"rowNumber\" style = \"font-weight: bold; text-align: right;\">Row</th><th style = \"text-align: left;\">jurisdiction</th><th style = \"text-align: left;\">families</th></tr><tr class = \"subheader headerLastRow\"><th class = \"rowNumber\" style = \"font-weight: bold; text-align: right;\"></th><th title = \"String\" style = \"text-align: left;\">String</th><th title = \"Int64\" style = \"text-align: left;\">Int64</th></tr></thead><tbody><tr><td class = \"rowNumber\" style = \"font-weight: bold; text-align: right;\">1</td><td style = \"text-align: left;\">CN</td><td style = \"text-align: right;\">32077</td></tr><tr><td class = \"rowNumber\" style = \"font-weight: bold; text-align: right;\">2</td><td style = \"text-align: left;\">JP</td><td style = \"text-align: right;\">7</td></tr><tr><td class = \"rowNumber\" style = \"font-weight: bold; text-align: right;\">3</td><td style = \"text-align: left;\">RU</td><td style = \"text-align: right;\">229</td></tr><tr><td class = \"rowNumber\" style = \"font-weight: bold; text-align: right;\">4</td><td style = \"text-align: left;\">US</td><td style = \"text-align: right;\">6599</td></tr><tr><td class = \"rowNumber\" style = \"font-weight: bold; text-align: right;\">5</td><td style = \"text-align: left;\">WO</td><td style = \"text-align: right;\">3403</td></tr></tbody></table></div>"
      ],
      "text/latex": [
       "\\begin{tabular}{r|cc}\n",
       "\t& jurisdiction & families\\\\\n",
       "\t\\hline\n",
       "\t& String & Int64\\\\\n",
       "\t\\hline\n",
       "\t1 & CN & 32077 \\\\\n",
       "\t2 & JP & 7 \\\\\n",
       "\t3 & RU & 229 \\\\\n",
       "\t4 & US & 6599 \\\\\n",
       "\t5 & WO & 3403 \\\\\n",
       "\\end{tabular}\n"
      ],
      "text/plain": [
       "\u001b[1m5×2 DataFrame\u001b[0m\n",
       "\u001b[1m Row \u001b[0m│\u001b[1m jurisdiction \u001b[0m\u001b[1m families \u001b[0m\n",
       "     │\u001b[90m String       \u001b[0m\u001b[90m Int64    \u001b[0m\n",
       "─────┼────────────────────────\n",
       "   1 │ CN               32077\n",
       "   2 │ JP                   7\n",
       "   3 │ RU                 229\n",
       "   4 │ US                6599\n",
       "   5 │ WO                3403"
      ]
     },
     "metadata": {},
     "output_type": "display_data"
    }
   ],
   "source": [
    "res = prepdata(demo_db, Frequency(), FamilyLevel(), Jurisdictions([\"CN\", \"US\", \"WO\", \"RU\", \"JP\"]))"
   ]
  },
  {
   "attachments": {},
   "cell_type": "markdown",
   "metadata": {},
   "source": [
    "Other groupings currently available are Applicants, Time Trends, and custom Taxonomies (see chapter 5).\n",
    "More grouping options will be added as the package matures."
   ]
  },
  {
   "cell_type": "code",
   "execution_count": 10,
   "metadata": {},
   "outputs": [
    {
     "data": {
      "text/html": [
       "<div><div style = \"float: left;\"><span>10×4 DataFrame</span></div><div style = \"clear: both;\"></div></div><div class = \"data-frame\" style = \"overflow-x: scroll;\"><table class = \"data-frame\" style = \"margin-bottom: 6px;\"><thead><tr class = \"header\"><th class = \"rowNumber\" style = \"font-weight: bold; text-align: right;\">Row</th><th style = \"text-align: left;\">applicant_id</th><th style = \"text-align: left;\">country</th><th style = \"text-align: left;\">name</th><th style = \"text-align: left;\">families</th></tr><tr class = \"subheader headerLastRow\"><th class = \"rowNumber\" style = \"font-weight: bold; text-align: right;\"></th><th title = \"Int64\" style = \"text-align: left;\">Int64</th><th title = \"String\" style = \"text-align: left;\">String</th><th title = \"String\" style = \"text-align: left;\">String</th><th title = \"Int64\" style = \"text-align: left;\">Int64</th></tr></thead><tbody><tr><td class = \"rowNumber\" style = \"font-weight: bold; text-align: right;\">1</td><td style = \"text-align: right;\">744</td><td style = \"text-align: left;\">??</td><td style = \"text-align: left;\">UNIV JIANGNAN</td><td style = \"text-align: right;\">350</td></tr><tr><td class = \"rowNumber\" style = \"font-weight: bold; text-align: right;\">2</td><td style = \"text-align: right;\">852</td><td style = \"text-align: left;\">??</td><td style = \"text-align: left;\">UNIV WUHAN TEXTILE</td><td style = \"text-align: right;\">285</td></tr><tr><td class = \"rowNumber\" style = \"font-weight: bold; text-align: right;\">3</td><td style = \"text-align: right;\">2764</td><td style = \"text-align: left;\">??</td><td style = \"text-align: left;\">LUTHAI TEXTILE CO LTD</td><td style = \"text-align: right;\">156</td></tr><tr><td class = \"rowNumber\" style = \"font-weight: bold; text-align: right;\">4</td><td style = \"text-align: right;\">22</td><td style = \"text-align: left;\">US</td><td style = \"text-align: left;\">MILLIKEN &amp; CO</td><td style = \"text-align: right;\">155</td></tr><tr><td class = \"rowNumber\" style = \"font-weight: bold; text-align: right;\">5</td><td style = \"text-align: right;\">7</td><td style = \"text-align: left;\">US</td><td style = \"text-align: left;\">NIKE INC</td><td style = \"text-align: right;\">134</td></tr><tr><td class = \"rowNumber\" style = \"font-weight: bold; text-align: right;\">6</td><td style = \"text-align: right;\">4297</td><td style = \"text-align: left;\">DE</td><td style = \"text-align: left;\">HENKEL AG &amp; CO KGAA</td><td style = \"text-align: right;\">118</td></tr><tr><td class = \"rowNumber\" style = \"font-weight: bold; text-align: right;\">7</td><td style = \"text-align: right;\">1824</td><td style = \"text-align: left;\">??</td><td style = \"text-align: left;\">LUFENG KNITTING &amp; DYEING CO LTD</td><td style = \"text-align: right;\">105</td></tr><tr><td class = \"rowNumber\" style = \"font-weight: bold; text-align: right;\">8</td><td style = \"text-align: right;\">4535</td><td style = \"text-align: left;\">??</td><td style = \"text-align: left;\">JIHUA 3542 TEXTILE CO LTD</td><td style = \"text-align: right;\">105</td></tr><tr><td class = \"rowNumber\" style = \"font-weight: bold; text-align: right;\">9</td><td style = \"text-align: right;\">299</td><td style = \"text-align: left;\">DE</td><td style = \"text-align: left;\">BASF SE</td><td style = \"text-align: right;\">79</td></tr><tr><td class = \"rowNumber\" style = \"font-weight: bold; text-align: right;\">10</td><td style = \"text-align: right;\">840</td><td style = \"text-align: left;\">??</td><td style = \"text-align: left;\">UNIV QINGDAO</td><td style = \"text-align: right;\">75</td></tr></tbody></table></div>"
      ],
      "text/latex": [
       "\\begin{tabular}{r|cccc}\n",
       "\t& applicant\\_id & country & name & families\\\\\n",
       "\t\\hline\n",
       "\t& Int64 & String & String & Int64\\\\\n",
       "\t\\hline\n",
       "\t1 & 744 & ?? & UNIV JIANGNAN & 350 \\\\\n",
       "\t2 & 852 & ?? & UNIV WUHAN TEXTILE & 285 \\\\\n",
       "\t3 & 2764 & ?? & LUTHAI TEXTILE CO LTD & 156 \\\\\n",
       "\t4 & 22 & US & MILLIKEN \\& CO & 155 \\\\\n",
       "\t5 & 7 & US & NIKE INC & 134 \\\\\n",
       "\t6 & 4297 & DE & HENKEL AG \\& CO KGAA & 118 \\\\\n",
       "\t7 & 1824 & ?? & LUFENG KNITTING \\& DYEING CO LTD & 105 \\\\\n",
       "\t8 & 4535 & ?? & JIHUA 3542 TEXTILE CO LTD & 105 \\\\\n",
       "\t9 & 299 & DE & BASF SE & 79 \\\\\n",
       "\t10 & 840 & ?? & UNIV QINGDAO & 75 \\\\\n",
       "\\end{tabular}\n"
      ],
      "text/plain": [
       "\u001b[1m10×4 DataFrame\u001b[0m\n",
       "\u001b[1m Row \u001b[0m│\u001b[1m applicant_id \u001b[0m\u001b[1m country \u001b[0m\u001b[1m name                            \u001b[0m\u001b[1m families \u001b[0m\n",
       "     │\u001b[90m Int64        \u001b[0m\u001b[90m String  \u001b[0m\u001b[90m String                          \u001b[0m\u001b[90m Int64    \u001b[0m\n",
       "─────┼──────────────────────────────────────────────────────────────────\n",
       "   1 │          744  ??       UNIV JIANGNAN                         350\n",
       "   2 │          852  ??       UNIV WUHAN TEXTILE                    285\n",
       "   3 │         2764  ??       LUTHAI TEXTILE CO LTD                 156\n",
       "   4 │           22  US       MILLIKEN & CO                         155\n",
       "   5 │            7  US       NIKE INC                              134\n",
       "   6 │         4297  DE       HENKEL AG & CO KGAA                   118\n",
       "   7 │         1824  ??       LUFENG KNITTING & DYEING CO LTD       105\n",
       "   8 │         4535  ??       JIHUA 3542 TEXTILE CO LTD             105\n",
       "   9 │          299  DE       BASF SE                                79\n",
       "  10 │          840  ??       UNIV QINGDAO                           75"
      ]
     },
     "metadata": {},
     "output_type": "display_data"
    }
   ],
   "source": [
    "prepdata(demo_db, Frequency(), FamilyLevel(), Applicants()) |> \n",
    "res -> sort(res, :families, rev = true) |> \n",
    "res -> first(res, 10)"
   ]
  },
  {
   "cell_type": "code",
   "execution_count": 11,
   "metadata": {},
   "outputs": [
    {
     "data": {
      "text/html": [
       "<div><div style = \"float: left;\"><span>181×2 DataFrame</span></div><div style = \"float: right;\"><span style = \"font-style: italic;\">156 rows omitted</span></div><div style = \"clear: both;\"></div></div><div class = \"data-frame\" style = \"overflow-x: scroll;\"><table class = \"data-frame\" style = \"margin-bottom: 6px;\"><thead><tr class = \"header\"><th class = \"rowNumber\" style = \"font-weight: bold; text-align: right;\">Row</th><th style = \"text-align: left;\">month</th><th style = \"text-align: left;\">families</th></tr><tr class = \"subheader headerLastRow\"><th class = \"rowNumber\" style = \"font-weight: bold; text-align: right;\"></th><th title = \"String\" style = \"text-align: left;\">String</th><th title = \"Int64\" style = \"text-align: left;\">Int64</th></tr></thead><tbody><tr><td class = \"rowNumber\" style = \"font-weight: bold; text-align: right;\">1</td><td style = \"text-align: left;\">2005-01</td><td style = \"text-align: right;\">29</td></tr><tr><td class = \"rowNumber\" style = \"font-weight: bold; text-align: right;\">2</td><td style = \"text-align: left;\">2005-02</td><td style = \"text-align: right;\">21</td></tr><tr><td class = \"rowNumber\" style = \"font-weight: bold; text-align: right;\">3</td><td style = \"text-align: left;\">2005-03</td><td style = \"text-align: right;\">21</td></tr><tr><td class = \"rowNumber\" style = \"font-weight: bold; text-align: right;\">4</td><td style = \"text-align: left;\">2005-04</td><td style = \"text-align: right;\">16</td></tr><tr><td class = \"rowNumber\" style = \"font-weight: bold; text-align: right;\">5</td><td style = \"text-align: left;\">2005-05</td><td style = \"text-align: right;\">19</td></tr><tr><td class = \"rowNumber\" style = \"font-weight: bold; text-align: right;\">6</td><td style = \"text-align: left;\">2005-06</td><td style = \"text-align: right;\">24</td></tr><tr><td class = \"rowNumber\" style = \"font-weight: bold; text-align: right;\">7</td><td style = \"text-align: left;\">2005-07</td><td style = \"text-align: right;\">24</td></tr><tr><td class = \"rowNumber\" style = \"font-weight: bold; text-align: right;\">8</td><td style = \"text-align: left;\">2005-08</td><td style = \"text-align: right;\">25</td></tr><tr><td class = \"rowNumber\" style = \"font-weight: bold; text-align: right;\">9</td><td style = \"text-align: left;\">2005-09</td><td style = \"text-align: right;\">20</td></tr><tr><td class = \"rowNumber\" style = \"font-weight: bold; text-align: right;\">10</td><td style = \"text-align: left;\">2005-10</td><td style = \"text-align: right;\">20</td></tr><tr><td class = \"rowNumber\" style = \"font-weight: bold; text-align: right;\">11</td><td style = \"text-align: left;\">2005-11</td><td style = \"text-align: right;\">19</td></tr><tr><td class = \"rowNumber\" style = \"font-weight: bold; text-align: right;\">12</td><td style = \"text-align: left;\">2005-12</td><td style = \"text-align: right;\">32</td></tr><tr><td class = \"rowNumber\" style = \"font-weight: bold; text-align: right;\">13</td><td style = \"text-align: left;\">2006-01</td><td style = \"text-align: right;\">25</td></tr><tr><td style = \"text-align: right;\">&vellip;</td><td style = \"text-align: right;\">&vellip;</td><td style = \"text-align: right;\">&vellip;</td></tr><tr><td class = \"rowNumber\" style = \"font-weight: bold; text-align: right;\">170</td><td style = \"text-align: left;\">2019-02</td><td style = \"text-align: right;\">262</td></tr><tr><td class = \"rowNumber\" style = \"font-weight: bold; text-align: right;\">171</td><td style = \"text-align: left;\">2019-03</td><td style = \"text-align: right;\">235</td></tr><tr><td class = \"rowNumber\" style = \"font-weight: bold; text-align: right;\">172</td><td style = \"text-align: left;\">2019-04</td><td style = \"text-align: right;\">279</td></tr><tr><td class = \"rowNumber\" style = \"font-weight: bold; text-align: right;\">173</td><td style = \"text-align: left;\">2019-05</td><td style = \"text-align: right;\">342</td></tr><tr><td class = \"rowNumber\" style = \"font-weight: bold; text-align: right;\">174</td><td style = \"text-align: left;\">2019-06</td><td style = \"text-align: right;\">323</td></tr><tr><td class = \"rowNumber\" style = \"font-weight: bold; text-align: right;\">175</td><td style = \"text-align: left;\">2019-07</td><td style = \"text-align: right;\">314</td></tr><tr><td class = \"rowNumber\" style = \"font-weight: bold; text-align: right;\">176</td><td style = \"text-align: left;\">2019-08</td><td style = \"text-align: right;\">289</td></tr><tr><td class = \"rowNumber\" style = \"font-weight: bold; text-align: right;\">177</td><td style = \"text-align: left;\">2019-09</td><td style = \"text-align: right;\">223</td></tr><tr><td class = \"rowNumber\" style = \"font-weight: bold; text-align: right;\">178</td><td style = \"text-align: left;\">2019-10</td><td style = \"text-align: right;\">256</td></tr><tr><td class = \"rowNumber\" style = \"font-weight: bold; text-align: right;\">179</td><td style = \"text-align: left;\">2019-11</td><td style = \"text-align: right;\">331</td></tr><tr><td class = \"rowNumber\" style = \"font-weight: bold; text-align: right;\">180</td><td style = \"text-align: left;\">2019-12</td><td style = \"text-align: right;\">365</td></tr><tr><td class = \"rowNumber\" style = \"font-weight: bold; text-align: right;\">181</td><td style = \"text-align: left;\">2020-01</td><td style = \"text-align: right;\">8</td></tr></tbody></table></div>"
      ],
      "text/latex": [
       "\\begin{tabular}{r|cc}\n",
       "\t& month & families\\\\\n",
       "\t\\hline\n",
       "\t& String & Int64\\\\\n",
       "\t\\hline\n",
       "\t1 & 2005-01 & 29 \\\\\n",
       "\t2 & 2005-02 & 21 \\\\\n",
       "\t3 & 2005-03 & 21 \\\\\n",
       "\t4 & 2005-04 & 16 \\\\\n",
       "\t5 & 2005-05 & 19 \\\\\n",
       "\t6 & 2005-06 & 24 \\\\\n",
       "\t7 & 2005-07 & 24 \\\\\n",
       "\t8 & 2005-08 & 25 \\\\\n",
       "\t9 & 2005-09 & 20 \\\\\n",
       "\t10 & 2005-10 & 20 \\\\\n",
       "\t11 & 2005-11 & 19 \\\\\n",
       "\t12 & 2005-12 & 32 \\\\\n",
       "\t13 & 2006-01 & 25 \\\\\n",
       "\t14 & 2006-02 & 33 \\\\\n",
       "\t15 & 2006-03 & 28 \\\\\n",
       "\t16 & 2006-04 & 14 \\\\\n",
       "\t17 & 2006-05 & 25 \\\\\n",
       "\t18 & 2006-06 & 25 \\\\\n",
       "\t19 & 2006-07 & 21 \\\\\n",
       "\t20 & 2006-08 & 27 \\\\\n",
       "\t21 & 2006-09 & 26 \\\\\n",
       "\t22 & 2006-10 & 31 \\\\\n",
       "\t23 & 2006-11 & 39 \\\\\n",
       "\t24 & 2006-12 & 32 \\\\\n",
       "\t$\\dots$ & $\\dots$ & $\\dots$ \\\\\n",
       "\\end{tabular}\n"
      ],
      "text/plain": [
       "\u001b[1m181×2 DataFrame\u001b[0m\n",
       "\u001b[1m Row \u001b[0m│\u001b[1m month   \u001b[0m\u001b[1m families \u001b[0m\n",
       "     │\u001b[90m String  \u001b[0m\u001b[90m Int64    \u001b[0m\n",
       "─────┼───────────────────\n",
       "   1 │ 2005-01        29\n",
       "   2 │ 2005-02        21\n",
       "   3 │ 2005-03        21\n",
       "   4 │ 2005-04        16\n",
       "   5 │ 2005-05        19\n",
       "   6 │ 2005-06        24\n",
       "   7 │ 2005-07        24\n",
       "   8 │ 2005-08        25\n",
       "  ⋮  │    ⋮        ⋮\n",
       " 175 │ 2019-07       314\n",
       " 176 │ 2019-08       289\n",
       " 177 │ 2019-09       223\n",
       " 178 │ 2019-10       256\n",
       " 179 │ 2019-11       331\n",
       " 180 │ 2019-12       365\n",
       " 181 │ 2020-01         8\n",
       "\u001b[36m         166 rows omitted\u001b[0m"
      ]
     },
     "metadata": {},
     "output_type": "display_data"
    }
   ],
   "source": [
    "using Dates\n",
    "prepdata(demo_db, Frequency(), FamilyLevel(), TimeTrend(start = Date(\"2005\"), stop = Date(\"2020\"), resolution = Months()))"
   ]
  },
  {
   "attachments": {},
   "cell_type": "markdown",
   "metadata": {},
   "source": [
    "### Multidimensional frequency analyses\n",
    "\n",
    "Frequencies can be broken down across multiple groupings. Currently, up to three groupings are possible.\n",
    "\n",
    "Here's an analysis with two groupings:"
   ]
  },
  {
   "cell_type": "code",
   "execution_count": 12,
   "metadata": {},
   "outputs": [
    {
     "data": {
      "text/html": [
       "<div><div style = \"float: left;\"><span>18×3 DataFrame</span></div><div style = \"clear: both;\"></div></div><div class = \"data-frame\" style = \"overflow-x: scroll;\"><table class = \"data-frame\" style = \"margin-bottom: 6px;\"><thead><tr class = \"header\"><th class = \"rowNumber\" style = \"font-weight: bold; text-align: right;\">Row</th><th style = \"text-align: left;\">jurisdiction</th><th style = \"text-align: left;\">year</th><th style = \"text-align: left;\">families</th></tr><tr class = \"subheader headerLastRow\"><th class = \"rowNumber\" style = \"font-weight: bold; text-align: right;\"></th><th title = \"String\" style = \"text-align: left;\">String</th><th title = \"String\" style = \"text-align: left;\">String</th><th title = \"Int64\" style = \"text-align: left;\">Int64</th></tr></thead><tbody><tr><td class = \"rowNumber\" style = \"font-weight: bold; text-align: right;\">1</td><td style = \"text-align: left;\">CN</td><td style = \"text-align: left;\">2010</td><td style = \"text-align: right;\">332</td></tr><tr><td class = \"rowNumber\" style = \"font-weight: bold; text-align: right;\">2</td><td style = \"text-align: left;\">CN</td><td style = \"text-align: left;\">2011</td><td style = \"text-align: right;\">341</td></tr><tr><td class = \"rowNumber\" style = \"font-weight: bold; text-align: right;\">3</td><td style = \"text-align: left;\">CN</td><td style = \"text-align: left;\">2012</td><td style = \"text-align: right;\">626</td></tr><tr><td class = \"rowNumber\" style = \"font-weight: bold; text-align: right;\">4</td><td style = \"text-align: left;\">CN</td><td style = \"text-align: left;\">2013</td><td style = \"text-align: right;\">789</td></tr><tr><td class = \"rowNumber\" style = \"font-weight: bold; text-align: right;\">5</td><td style = \"text-align: left;\">CN</td><td style = \"text-align: left;\">2014</td><td style = \"text-align: right;\">801</td></tr><tr><td class = \"rowNumber\" style = \"font-weight: bold; text-align: right;\">6</td><td style = \"text-align: left;\">CN</td><td style = \"text-align: left;\">2015</td><td style = \"text-align: right;\">892</td></tr><tr><td class = \"rowNumber\" style = \"font-weight: bold; text-align: right;\">7</td><td style = \"text-align: left;\">US</td><td style = \"text-align: left;\">2010</td><td style = \"text-align: right;\">192</td></tr><tr><td class = \"rowNumber\" style = \"font-weight: bold; text-align: right;\">8</td><td style = \"text-align: left;\">US</td><td style = \"text-align: left;\">2011</td><td style = \"text-align: right;\">191</td></tr><tr><td class = \"rowNumber\" style = \"font-weight: bold; text-align: right;\">9</td><td style = \"text-align: left;\">US</td><td style = \"text-align: left;\">2012</td><td style = \"text-align: right;\">215</td></tr><tr><td class = \"rowNumber\" style = \"font-weight: bold; text-align: right;\">10</td><td style = \"text-align: left;\">US</td><td style = \"text-align: left;\">2013</td><td style = \"text-align: right;\">226</td></tr><tr><td class = \"rowNumber\" style = \"font-weight: bold; text-align: right;\">11</td><td style = \"text-align: left;\">US</td><td style = \"text-align: left;\">2014</td><td style = \"text-align: right;\">238</td></tr><tr><td class = \"rowNumber\" style = \"font-weight: bold; text-align: right;\">12</td><td style = \"text-align: left;\">US</td><td style = \"text-align: left;\">2015</td><td style = \"text-align: right;\">275</td></tr><tr><td class = \"rowNumber\" style = \"font-weight: bold; text-align: right;\">13</td><td style = \"text-align: left;\">WO</td><td style = \"text-align: left;\">2010</td><td style = \"text-align: right;\">103</td></tr><tr><td class = \"rowNumber\" style = \"font-weight: bold; text-align: right;\">14</td><td style = \"text-align: left;\">WO</td><td style = \"text-align: left;\">2011</td><td style = \"text-align: right;\">95</td></tr><tr><td class = \"rowNumber\" style = \"font-weight: bold; text-align: right;\">15</td><td style = \"text-align: left;\">WO</td><td style = \"text-align: left;\">2012</td><td style = \"text-align: right;\">114</td></tr><tr><td class = \"rowNumber\" style = \"font-weight: bold; text-align: right;\">16</td><td style = \"text-align: left;\">WO</td><td style = \"text-align: left;\">2013</td><td style = \"text-align: right;\">102</td></tr><tr><td class = \"rowNumber\" style = \"font-weight: bold; text-align: right;\">17</td><td style = \"text-align: left;\">WO</td><td style = \"text-align: left;\">2014</td><td style = \"text-align: right;\">140</td></tr><tr><td class = \"rowNumber\" style = \"font-weight: bold; text-align: right;\">18</td><td style = \"text-align: left;\">WO</td><td style = \"text-align: left;\">2015</td><td style = \"text-align: right;\">128</td></tr></tbody></table></div>"
      ],
      "text/latex": [
       "\\begin{tabular}{r|ccc}\n",
       "\t& jurisdiction & year & families\\\\\n",
       "\t\\hline\n",
       "\t& String & String & Int64\\\\\n",
       "\t\\hline\n",
       "\t1 & CN & 2010 & 332 \\\\\n",
       "\t2 & CN & 2011 & 341 \\\\\n",
       "\t3 & CN & 2012 & 626 \\\\\n",
       "\t4 & CN & 2013 & 789 \\\\\n",
       "\t5 & CN & 2014 & 801 \\\\\n",
       "\t6 & CN & 2015 & 892 \\\\\n",
       "\t7 & US & 2010 & 192 \\\\\n",
       "\t8 & US & 2011 & 191 \\\\\n",
       "\t9 & US & 2012 & 215 \\\\\n",
       "\t10 & US & 2013 & 226 \\\\\n",
       "\t11 & US & 2014 & 238 \\\\\n",
       "\t12 & US & 2015 & 275 \\\\\n",
       "\t13 & WO & 2010 & 103 \\\\\n",
       "\t14 & WO & 2011 & 95 \\\\\n",
       "\t15 & WO & 2012 & 114 \\\\\n",
       "\t16 & WO & 2013 & 102 \\\\\n",
       "\t17 & WO & 2014 & 140 \\\\\n",
       "\t18 & WO & 2015 & 128 \\\\\n",
       "\\end{tabular}\n"
      ],
      "text/plain": [
       "\u001b[1m18×3 DataFrame\u001b[0m\n",
       "\u001b[1m Row \u001b[0m│\u001b[1m jurisdiction \u001b[0m\u001b[1m year   \u001b[0m\u001b[1m families \u001b[0m\n",
       "     │\u001b[90m String       \u001b[0m\u001b[90m String \u001b[0m\u001b[90m Int64    \u001b[0m\n",
       "─────┼────────────────────────────────\n",
       "   1 │ CN            2010         332\n",
       "   2 │ CN            2011         341\n",
       "   3 │ CN            2012         626\n",
       "   4 │ CN            2013         789\n",
       "   5 │ CN            2014         801\n",
       "   6 │ CN            2015         892\n",
       "   7 │ US            2010         192\n",
       "   8 │ US            2011         191\n",
       "  ⋮  │      ⋮          ⋮        ⋮\n",
       "  12 │ US            2015         275\n",
       "  13 │ WO            2010         103\n",
       "  14 │ WO            2011          95\n",
       "  15 │ WO            2012         114\n",
       "  16 │ WO            2013         102\n",
       "  17 │ WO            2014         140\n",
       "  18 │ WO            2015         128\n",
       "\u001b[36m                        3 rows omitted\u001b[0m"
      ]
     },
     "metadata": {},
     "output_type": "display_data"
    }
   ],
   "source": [
    "prepdata(\n",
    "    demo_db, \n",
    "    Frequency(), \n",
    "    FamilyLevel(), \n",
    "    Jurisdictions([\"CN\", \"US\", \"WO\"]), \n",
    "    TimeTrend(start = Date(\"2010\"), stop = Date(\"2016\"), resolution = Years()))"
   ]
  },
  {
   "attachments": {},
   "cell_type": "markdown",
   "metadata": {},
   "source": [
    "And here's one with three:"
   ]
  },
  {
   "cell_type": "code",
   "execution_count": 13,
   "metadata": {},
   "outputs": [
    {
     "data": {
      "text/html": [
       "<div><div style = \"float: left;\"><span>27×6 DataFrame</span></div><div style = \"float: right;\"><span style = \"font-style: italic;\">2 rows omitted</span></div><div style = \"clear: both;\"></div></div><div class = \"data-frame\" style = \"overflow-x: scroll;\"><table class = \"data-frame\" style = \"margin-bottom: 6px;\"><thead><tr class = \"header\"><th class = \"rowNumber\" style = \"font-weight: bold; text-align: right;\">Row</th><th style = \"text-align: left;\">jurisdiction</th><th style = \"text-align: left;\">year</th><th style = \"text-align: left;\">applicant_id</th><th style = \"text-align: left;\">country</th><th style = \"text-align: left;\">name</th><th style = \"text-align: left;\">families</th></tr><tr class = \"subheader headerLastRow\"><th class = \"rowNumber\" style = \"font-weight: bold; text-align: right;\"></th><th title = \"String\" style = \"text-align: left;\">String</th><th title = \"String\" style = \"text-align: left;\">String</th><th title = \"Int64\" style = \"text-align: left;\">Int64</th><th title = \"String\" style = \"text-align: left;\">String</th><th title = \"String\" style = \"text-align: left;\">String</th><th title = \"Int64\" style = \"text-align: left;\">Int64</th></tr></thead><tbody><tr><td class = \"rowNumber\" style = \"font-weight: bold; text-align: right;\">1</td><td style = \"text-align: left;\">CN</td><td style = \"text-align: left;\">2010</td><td style = \"text-align: right;\">744</td><td style = \"text-align: left;\">??</td><td style = \"text-align: left;\">UNIV JIANGNAN</td><td style = \"text-align: right;\">11</td></tr><tr><td class = \"rowNumber\" style = \"font-weight: bold; text-align: right;\">2</td><td style = \"text-align: left;\">CN</td><td style = \"text-align: left;\">2011</td><td style = \"text-align: right;\">744</td><td style = \"text-align: left;\">??</td><td style = \"text-align: left;\">UNIV JIANGNAN</td><td style = \"text-align: right;\">35</td></tr><tr><td class = \"rowNumber\" style = \"font-weight: bold; text-align: right;\">3</td><td style = \"text-align: left;\">CN</td><td style = \"text-align: left;\">2011</td><td style = \"text-align: right;\">852</td><td style = \"text-align: left;\">??</td><td style = \"text-align: left;\">UNIV WUHAN TEXTILE</td><td style = \"text-align: right;\">9</td></tr><tr><td class = \"rowNumber\" style = \"font-weight: bold; text-align: right;\">4</td><td style = \"text-align: left;\">CN</td><td style = \"text-align: left;\">2011</td><td style = \"text-align: right;\">2764</td><td style = \"text-align: left;\">??</td><td style = \"text-align: left;\">LUTHAI TEXTILE CO LTD</td><td style = \"text-align: right;\">1</td></tr><tr><td class = \"rowNumber\" style = \"font-weight: bold; text-align: right;\">5</td><td style = \"text-align: left;\">CN</td><td style = \"text-align: left;\">2012</td><td style = \"text-align: right;\">744</td><td style = \"text-align: left;\">??</td><td style = \"text-align: left;\">UNIV JIANGNAN</td><td style = \"text-align: right;\">39</td></tr><tr><td class = \"rowNumber\" style = \"font-weight: bold; text-align: right;\">6</td><td style = \"text-align: left;\">CN</td><td style = \"text-align: left;\">2012</td><td style = \"text-align: right;\">852</td><td style = \"text-align: left;\">??</td><td style = \"text-align: left;\">UNIV WUHAN TEXTILE</td><td style = \"text-align: right;\">9</td></tr><tr><td class = \"rowNumber\" style = \"font-weight: bold; text-align: right;\">7</td><td style = \"text-align: left;\">CN</td><td style = \"text-align: left;\">2013</td><td style = \"text-align: right;\">744</td><td style = \"text-align: left;\">??</td><td style = \"text-align: left;\">UNIV JIANGNAN</td><td style = \"text-align: right;\">36</td></tr><tr><td class = \"rowNumber\" style = \"font-weight: bold; text-align: right;\">8</td><td style = \"text-align: left;\">CN</td><td style = \"text-align: left;\">2013</td><td style = \"text-align: right;\">852</td><td style = \"text-align: left;\">??</td><td style = \"text-align: left;\">UNIV WUHAN TEXTILE</td><td style = \"text-align: right;\">21</td></tr><tr><td class = \"rowNumber\" style = \"font-weight: bold; text-align: right;\">9</td><td style = \"text-align: left;\">CN</td><td style = \"text-align: left;\">2014</td><td style = \"text-align: right;\">744</td><td style = \"text-align: left;\">??</td><td style = \"text-align: left;\">UNIV JIANGNAN</td><td style = \"text-align: right;\">9</td></tr><tr><td class = \"rowNumber\" style = \"font-weight: bold; text-align: right;\">10</td><td style = \"text-align: left;\">CN</td><td style = \"text-align: left;\">2014</td><td style = \"text-align: right;\">852</td><td style = \"text-align: left;\">??</td><td style = \"text-align: left;\">UNIV WUHAN TEXTILE</td><td style = \"text-align: right;\">15</td></tr><tr><td class = \"rowNumber\" style = \"font-weight: bold; text-align: right;\">11</td><td style = \"text-align: left;\">CN</td><td style = \"text-align: left;\">2014</td><td style = \"text-align: right;\">2764</td><td style = \"text-align: left;\">??</td><td style = \"text-align: left;\">LUTHAI TEXTILE CO LTD</td><td style = \"text-align: right;\">1</td></tr><tr><td class = \"rowNumber\" style = \"font-weight: bold; text-align: right;\">12</td><td style = \"text-align: left;\">CN</td><td style = \"text-align: left;\">2015</td><td style = \"text-align: right;\">744</td><td style = \"text-align: left;\">??</td><td style = \"text-align: left;\">UNIV JIANGNAN</td><td style = \"text-align: right;\">15</td></tr><tr><td class = \"rowNumber\" style = \"font-weight: bold; text-align: right;\">13</td><td style = \"text-align: left;\">CN</td><td style = \"text-align: left;\">2015</td><td style = \"text-align: right;\">852</td><td style = \"text-align: left;\">??</td><td style = \"text-align: left;\">UNIV WUHAN TEXTILE</td><td style = \"text-align: right;\">25</td></tr><tr><td style = \"text-align: right;\">&vellip;</td><td style = \"text-align: right;\">&vellip;</td><td style = \"text-align: right;\">&vellip;</td><td style = \"text-align: right;\">&vellip;</td><td style = \"text-align: right;\">&vellip;</td><td style = \"text-align: right;\">&vellip;</td><td style = \"text-align: right;\">&vellip;</td></tr><tr><td class = \"rowNumber\" style = \"font-weight: bold; text-align: right;\">16</td><td style = \"text-align: left;\">US</td><td style = \"text-align: left;\">2012</td><td style = \"text-align: right;\">22</td><td style = \"text-align: left;\">US</td><td style = \"text-align: left;\">MILLIKEN &amp; CO</td><td style = \"text-align: right;\">5</td></tr><tr><td class = \"rowNumber\" style = \"font-weight: bold; text-align: right;\">17</td><td style = \"text-align: left;\">US</td><td style = \"text-align: left;\">2013</td><td style = \"text-align: right;\">22</td><td style = \"text-align: left;\">US</td><td style = \"text-align: left;\">MILLIKEN &amp; CO</td><td style = \"text-align: right;\">5</td></tr><tr><td class = \"rowNumber\" style = \"font-weight: bold; text-align: right;\">18</td><td style = \"text-align: left;\">US</td><td style = \"text-align: left;\">2014</td><td style = \"text-align: right;\">22</td><td style = \"text-align: left;\">US</td><td style = \"text-align: left;\">MILLIKEN &amp; CO</td><td style = \"text-align: right;\">6</td></tr><tr><td class = \"rowNumber\" style = \"font-weight: bold; text-align: right;\">19</td><td style = \"text-align: left;\">US</td><td style = \"text-align: left;\">2015</td><td style = \"text-align: right;\">22</td><td style = \"text-align: left;\">US</td><td style = \"text-align: left;\">MILLIKEN &amp; CO</td><td style = \"text-align: right;\">7</td></tr><tr><td class = \"rowNumber\" style = \"font-weight: bold; text-align: right;\">20</td><td style = \"text-align: left;\">US</td><td style = \"text-align: left;\">2015</td><td style = \"text-align: right;\">852</td><td style = \"text-align: left;\">??</td><td style = \"text-align: left;\">UNIV WUHAN TEXTILE</td><td style = \"text-align: right;\">1</td></tr><tr><td class = \"rowNumber\" style = \"font-weight: bold; text-align: right;\">21</td><td style = \"text-align: left;\">WO</td><td style = \"text-align: left;\">2010</td><td style = \"text-align: right;\">22</td><td style = \"text-align: left;\">US</td><td style = \"text-align: left;\">MILLIKEN &amp; CO</td><td style = \"text-align: right;\">4</td></tr><tr><td class = \"rowNumber\" style = \"font-weight: bold; text-align: right;\">22</td><td style = \"text-align: left;\">WO</td><td style = \"text-align: left;\">2011</td><td style = \"text-align: right;\">22</td><td style = \"text-align: left;\">US</td><td style = \"text-align: left;\">MILLIKEN &amp; CO</td><td style = \"text-align: right;\">6</td></tr><tr><td class = \"rowNumber\" style = \"font-weight: bold; text-align: right;\">23</td><td style = \"text-align: left;\">WO</td><td style = \"text-align: left;\">2012</td><td style = \"text-align: right;\">22</td><td style = \"text-align: left;\">US</td><td style = \"text-align: left;\">MILLIKEN &amp; CO</td><td style = \"text-align: right;\">2</td></tr><tr><td class = \"rowNumber\" style = \"font-weight: bold; text-align: right;\">24</td><td style = \"text-align: left;\">WO</td><td style = \"text-align: left;\">2013</td><td style = \"text-align: right;\">22</td><td style = \"text-align: left;\">US</td><td style = \"text-align: left;\">MILLIKEN &amp; CO</td><td style = \"text-align: right;\">3</td></tr><tr><td class = \"rowNumber\" style = \"font-weight: bold; text-align: right;\">25</td><td style = \"text-align: left;\">WO</td><td style = \"text-align: left;\">2014</td><td style = \"text-align: right;\">22</td><td style = \"text-align: left;\">US</td><td style = \"text-align: left;\">MILLIKEN &amp; CO</td><td style = \"text-align: right;\">5</td></tr><tr><td class = \"rowNumber\" style = \"font-weight: bold; text-align: right;\">26</td><td style = \"text-align: left;\">WO</td><td style = \"text-align: left;\">2015</td><td style = \"text-align: right;\">22</td><td style = \"text-align: left;\">US</td><td style = \"text-align: left;\">MILLIKEN &amp; CO</td><td style = \"text-align: right;\">6</td></tr><tr><td class = \"rowNumber\" style = \"font-weight: bold; text-align: right;\">27</td><td style = \"text-align: left;\">WO</td><td style = \"text-align: left;\">2015</td><td style = \"text-align: right;\">744</td><td style = \"text-align: left;\">??</td><td style = \"text-align: left;\">UNIV JIANGNAN</td><td style = \"text-align: right;\">1</td></tr></tbody></table></div>"
      ],
      "text/latex": [
       "\\begin{tabular}{r|cccccc}\n",
       "\t& jurisdiction & year & applicant\\_id & country & name & families\\\\\n",
       "\t\\hline\n",
       "\t& String & String & Int64 & String & String & Int64\\\\\n",
       "\t\\hline\n",
       "\t1 & CN & 2010 & 744 & ?? & UNIV JIANGNAN & 11 \\\\\n",
       "\t2 & CN & 2011 & 744 & ?? & UNIV JIANGNAN & 35 \\\\\n",
       "\t3 & CN & 2011 & 852 & ?? & UNIV WUHAN TEXTILE & 9 \\\\\n",
       "\t4 & CN & 2011 & 2764 & ?? & LUTHAI TEXTILE CO LTD & 1 \\\\\n",
       "\t5 & CN & 2012 & 744 & ?? & UNIV JIANGNAN & 39 \\\\\n",
       "\t6 & CN & 2012 & 852 & ?? & UNIV WUHAN TEXTILE & 9 \\\\\n",
       "\t7 & CN & 2013 & 744 & ?? & UNIV JIANGNAN & 36 \\\\\n",
       "\t8 & CN & 2013 & 852 & ?? & UNIV WUHAN TEXTILE & 21 \\\\\n",
       "\t9 & CN & 2014 & 744 & ?? & UNIV JIANGNAN & 9 \\\\\n",
       "\t10 & CN & 2014 & 852 & ?? & UNIV WUHAN TEXTILE & 15 \\\\\n",
       "\t11 & CN & 2014 & 2764 & ?? & LUTHAI TEXTILE CO LTD & 1 \\\\\n",
       "\t12 & CN & 2015 & 744 & ?? & UNIV JIANGNAN & 15 \\\\\n",
       "\t13 & CN & 2015 & 852 & ?? & UNIV WUHAN TEXTILE & 25 \\\\\n",
       "\t14 & US & 2010 & 22 & US & MILLIKEN \\& CO & 4 \\\\\n",
       "\t15 & US & 2011 & 22 & US & MILLIKEN \\& CO & 6 \\\\\n",
       "\t16 & US & 2012 & 22 & US & MILLIKEN \\& CO & 5 \\\\\n",
       "\t17 & US & 2013 & 22 & US & MILLIKEN \\& CO & 5 \\\\\n",
       "\t18 & US & 2014 & 22 & US & MILLIKEN \\& CO & 6 \\\\\n",
       "\t19 & US & 2015 & 22 & US & MILLIKEN \\& CO & 7 \\\\\n",
       "\t20 & US & 2015 & 852 & ?? & UNIV WUHAN TEXTILE & 1 \\\\\n",
       "\t21 & WO & 2010 & 22 & US & MILLIKEN \\& CO & 4 \\\\\n",
       "\t22 & WO & 2011 & 22 & US & MILLIKEN \\& CO & 6 \\\\\n",
       "\t23 & WO & 2012 & 22 & US & MILLIKEN \\& CO & 2 \\\\\n",
       "\t24 & WO & 2013 & 22 & US & MILLIKEN \\& CO & 3 \\\\\n",
       "\t$\\dots$ & $\\dots$ & $\\dots$ & $\\dots$ & $\\dots$ & $\\dots$ & $\\dots$ \\\\\n",
       "\\end{tabular}\n"
      ],
      "text/plain": [
       "\u001b[1m27×6 DataFrame\u001b[0m\n",
       "\u001b[1m Row \u001b[0m│\u001b[1m jurisdiction \u001b[0m\u001b[1m year   \u001b[0m\u001b[1m applicant_id \u001b[0m\u001b[1m country \u001b[0m\u001b[1m name                  \u001b[0m\u001b[1m fam\u001b[0m ⋯\n",
       "     │\u001b[90m String       \u001b[0m\u001b[90m String \u001b[0m\u001b[90m Int64        \u001b[0m\u001b[90m String  \u001b[0m\u001b[90m String                \u001b[0m\u001b[90m Int\u001b[0m ⋯\n",
       "─────┼──────────────────────────────────────────────────────────────────────────\n",
       "   1 │ CN            2010             744  ??       UNIV JIANGNAN              ⋯\n",
       "   2 │ CN            2011             744  ??       UNIV JIANGNAN\n",
       "   3 │ CN            2011             852  ??       UNIV WUHAN TEXTILE\n",
       "   4 │ CN            2011            2764  ??       LUTHAI TEXTILE CO LTD\n",
       "   5 │ CN            2012             744  ??       UNIV JIANGNAN              ⋯\n",
       "   6 │ CN            2012             852  ??       UNIV WUHAN TEXTILE\n",
       "   7 │ CN            2013             744  ??       UNIV JIANGNAN\n",
       "   8 │ CN            2013             852  ??       UNIV WUHAN TEXTILE\n",
       "  ⋮  │      ⋮          ⋮          ⋮           ⋮               ⋮                ⋱\n",
       "  21 │ WO            2010              22  US       MILLIKEN & CO              ⋯\n",
       "  22 │ WO            2011              22  US       MILLIKEN & CO\n",
       "  23 │ WO            2012              22  US       MILLIKEN & CO\n",
       "  24 │ WO            2013              22  US       MILLIKEN & CO\n",
       "  25 │ WO            2014              22  US       MILLIKEN & CO              ⋯\n",
       "  26 │ WO            2015              22  US       MILLIKEN & CO\n",
       "  27 │ WO            2015             744  ??       UNIV JIANGNAN\n",
       "\u001b[36m                                                    1 column and 12 rows omitted\u001b[0m"
      ]
     },
     "metadata": {},
     "output_type": "display_data"
    }
   ],
   "source": [
    "prepdata(\n",
    "    demo_db, \n",
    "    Frequency(), \n",
    "    FamilyLevel(), \n",
    "    Jurisdictions([\"CN\", \"US\", \"WO\"]), \n",
    "    TimeTrend(start = Date(\"2010\"), stop = Date(\"2016\"), resolution = Years()),\n",
    "    Applicants([744, 852, 2764, 22, 5]))"
   ]
  },
  {
   "attachments": {},
   "cell_type": "markdown",
   "metadata": {},
   "source": [
    "## 3. Filters\n",
    "\n",
    "Filters allow subsetting of databases based on composable conditions.\n",
    "They are useful for efficient scanning and selection of data and are a main building block of other concepts like taxonomies.\n",
    "The database is optimized with lookup tables to apply these filters very quickly.\n",
    "\n",
    "### Classification Filters\n",
    "\n",
    "We can create a filter based on [IPC](https://ipcpub.wipo.int/) or [CPC](https://worldwide.espacenet.com/patent/cpc-browser#) classifications, at any level of the classification."
   ]
  },
  {
   "cell_type": "code",
   "execution_count": 14,
   "metadata": {},
   "outputs": [
    {
     "data": {
      "text/plain": [
       "ClassificationFilter(CPC(), Class(), IPCSymbol[IPCSymbol(\"D01\"), IPCSymbol(\"D21\")])"
      ]
     },
     "metadata": {},
     "output_type": "display_data"
    }
   ],
   "source": [
    "filter1 = ClassificationFilter(IPC(), Section(), IPCSymbol.([\"A\"]))\n",
    "filter2 = ClassificationFilter(CPC(), Class(), IPCSymbol.([\"D01\", \"D21\"]))"
   ]
  },
  {
   "attachments": {},
   "cell_type": "markdown",
   "metadata": {},
   "source": [
    "### Applying filters in an analysis\n",
    "\n",
    "`prepdata()` allows specifying a filter after the analysis level to specify the subset of the database to be analyzed."
   ]
  },
  {
   "cell_type": "code",
   "execution_count": 15,
   "metadata": {},
   "outputs": [
    {
     "data": {
      "text/html": [
       "<div><div style = \"float: left;\"><span>1×1 DataFrame</span></div><div style = \"clear: both;\"></div></div><div class = \"data-frame\" style = \"overflow-x: scroll;\"><table class = \"data-frame\" style = \"margin-bottom: 6px;\"><thead><tr class = \"header\"><th class = \"rowNumber\" style = \"font-weight: bold; text-align: right;\">Row</th><th style = \"text-align: left;\">families</th></tr><tr class = \"subheader headerLastRow\"><th class = \"rowNumber\" style = \"font-weight: bold; text-align: right;\"></th><th title = \"Int64\" style = \"text-align: left;\">Int64</th></tr></thead><tbody><tr><td class = \"rowNumber\" style = \"font-weight: bold; text-align: right;\">1</td><td style = \"text-align: right;\">4752</td></tr></tbody></table></div>"
      ],
      "text/latex": [
       "\\begin{tabular}{r|c}\n",
       "\t& families\\\\\n",
       "\t\\hline\n",
       "\t& Int64\\\\\n",
       "\t\\hline\n",
       "\t1 & 4752 \\\\\n",
       "\\end{tabular}\n"
      ],
      "text/plain": [
       "\u001b[1m1×1 DataFrame\u001b[0m\n",
       "\u001b[1m Row \u001b[0m│\u001b[1m families \u001b[0m\n",
       "     │\u001b[90m Int64    \u001b[0m\n",
       "─────┼──────────\n",
       "   1 │     4752"
      ]
     },
     "metadata": {},
     "output_type": "display_data"
    }
   ],
   "source": [
    "prepdata(demo_db, Frequency(), FamilyLevel(), filter1) # Count number of patent families in IPC section A \"Human Necessities\" in the database"
   ]
  },
  {
   "attachments": {},
   "cell_type": "markdown",
   "metadata": {},
   "source": [
    "In a grouped analysis, the filter is passed before the groupings."
   ]
  },
  {
   "cell_type": "code",
   "execution_count": 16,
   "metadata": {},
   "outputs": [
    {
     "data": {
      "text/html": [
       "<div><div style = \"float: left;\"><span>14×2 DataFrame</span></div><div style = \"clear: both;\"></div></div><div class = \"data-frame\" style = \"overflow-x: scroll;\"><table class = \"data-frame\" style = \"margin-bottom: 6px;\"><thead><tr class = \"header\"><th class = \"rowNumber\" style = \"font-weight: bold; text-align: right;\">Row</th><th style = \"text-align: left;\">year</th><th style = \"text-align: left;\">families</th></tr><tr class = \"subheader headerLastRow\"><th class = \"rowNumber\" style = \"font-weight: bold; text-align: right;\"></th><th title = \"String\" style = \"text-align: left;\">String</th><th title = \"Int64\" style = \"text-align: left;\">Int64</th></tr></thead><tbody><tr><td class = \"rowNumber\" style = \"font-weight: bold; text-align: right;\">1</td><td style = \"text-align: left;\">2010</td><td style = \"text-align: right;\">129</td></tr><tr><td class = \"rowNumber\" style = \"font-weight: bold; text-align: right;\">2</td><td style = \"text-align: left;\">2011</td><td style = \"text-align: right;\">124</td></tr><tr><td class = \"rowNumber\" style = \"font-weight: bold; text-align: right;\">3</td><td style = \"text-align: left;\">2012</td><td style = \"text-align: right;\">133</td></tr><tr><td class = \"rowNumber\" style = \"font-weight: bold; text-align: right;\">4</td><td style = \"text-align: left;\">2013</td><td style = \"text-align: right;\">155</td></tr><tr><td class = \"rowNumber\" style = \"font-weight: bold; text-align: right;\">5</td><td style = \"text-align: left;\">2014</td><td style = \"text-align: right;\">159</td></tr><tr><td class = \"rowNumber\" style = \"font-weight: bold; text-align: right;\">6</td><td style = \"text-align: left;\">2015</td><td style = \"text-align: right;\">192</td></tr><tr><td class = \"rowNumber\" style = \"font-weight: bold; text-align: right;\">7</td><td style = \"text-align: left;\">2016</td><td style = \"text-align: right;\">189</td></tr><tr><td class = \"rowNumber\" style = \"font-weight: bold; text-align: right;\">8</td><td style = \"text-align: left;\">2017</td><td style = \"text-align: right;\">252</td></tr><tr><td class = \"rowNumber\" style = \"font-weight: bold; text-align: right;\">9</td><td style = \"text-align: left;\">2018</td><td style = \"text-align: right;\">336</td></tr><tr><td class = \"rowNumber\" style = \"font-weight: bold; text-align: right;\">10</td><td style = \"text-align: left;\">2019</td><td style = \"text-align: right;\">368</td></tr><tr><td class = \"rowNumber\" style = \"font-weight: bold; text-align: right;\">11</td><td style = \"text-align: left;\">2020</td><td style = \"text-align: right;\">448</td></tr><tr><td class = \"rowNumber\" style = \"font-weight: bold; text-align: right;\">12</td><td style = \"text-align: left;\">2021</td><td style = \"text-align: right;\">697</td></tr><tr><td class = \"rowNumber\" style = \"font-weight: bold; text-align: right;\">13</td><td style = \"text-align: left;\">2022</td><td style = \"text-align: right;\">617</td></tr><tr><td class = \"rowNumber\" style = \"font-weight: bold; text-align: right;\">14</td><td style = \"text-align: left;\">2023</td><td style = \"text-align: right;\">33</td></tr></tbody></table></div>"
      ],
      "text/latex": [
       "\\begin{tabular}{r|cc}\n",
       "\t& year & families\\\\\n",
       "\t\\hline\n",
       "\t& String & Int64\\\\\n",
       "\t\\hline\n",
       "\t1 & 2010 & 129 \\\\\n",
       "\t2 & 2011 & 124 \\\\\n",
       "\t3 & 2012 & 133 \\\\\n",
       "\t4 & 2013 & 155 \\\\\n",
       "\t5 & 2014 & 159 \\\\\n",
       "\t6 & 2015 & 192 \\\\\n",
       "\t7 & 2016 & 189 \\\\\n",
       "\t8 & 2017 & 252 \\\\\n",
       "\t9 & 2018 & 336 \\\\\n",
       "\t10 & 2019 & 368 \\\\\n",
       "\t11 & 2020 & 448 \\\\\n",
       "\t12 & 2021 & 697 \\\\\n",
       "\t13 & 2022 & 617 \\\\\n",
       "\t14 & 2023 & 33 \\\\\n",
       "\\end{tabular}\n"
      ],
      "text/plain": [
       "\u001b[1m14×2 DataFrame\u001b[0m\n",
       "\u001b[1m Row \u001b[0m│\u001b[1m year   \u001b[0m\u001b[1m families \u001b[0m\n",
       "     │\u001b[90m String \u001b[0m\u001b[90m Int64    \u001b[0m\n",
       "─────┼──────────────────\n",
       "   1 │ 2010         129\n",
       "   2 │ 2011         124\n",
       "   3 │ 2012         133\n",
       "   4 │ 2013         155\n",
       "   5 │ 2014         159\n",
       "   6 │ 2015         192\n",
       "   7 │ 2016         189\n",
       "   8 │ 2017         252\n",
       "   9 │ 2018         336\n",
       "  10 │ 2019         368\n",
       "  11 │ 2020         448\n",
       "  12 │ 2021         697\n",
       "  13 │ 2022         617\n",
       "  14 │ 2023          33"
      ]
     },
     "metadata": {},
     "output_type": "display_data"
    }
   ],
   "source": [
    "prepdata(demo_db, Frequency(), FamilyLevel(), filter1, TimeTrend(start = Date(\"2010\")))"
   ]
  },
  {
   "attachments": {},
   "cell_type": "markdown",
   "metadata": {},
   "source": [
    "### Content Filters\n",
    "\n",
    "The main strength of the database model is indexation.\n",
    "A search index allows for very fast search in the content fields of documents:\n",
    "title, abstract, claims and full text.\n",
    "\n",
    "The following filter allows us to select patent families mentioning antibacterial properties:"
   ]
  },
  {
   "cell_type": "code",
   "execution_count": 19,
   "metadata": {},
   "outputs": [
    {
     "data": {
      "text/plain": [
       "UnionFilter(UnionFilter(UnionFilter(ContentFilter(\"anti bacterial OR anti septic\", TitleSearch(), String[]), ContentFilter(\"anti bacterial OR anti septic\", AbstractSearch(), String[])), ContentFilter(\"anti bacterial OR anti septic\", ClaimsSearch(), String[])), ContentFilter(\"anti bacterial OR anti septic\", FulltextSearch(), String[]))"
      ]
     },
     "metadata": {},
     "output_type": "display_data"
    }
   ],
   "source": [
    "filter3 = ContentFilter(\"anti bacterial OR anti septic\", [TitleSearch(), AbstractSearch(), ClaimsSearch(), FulltextSearch()])"
   ]
  },
  {
   "cell_type": "code",
   "execution_count": 20,
   "metadata": {},
   "outputs": [
    {
     "data": {
      "text/html": [
       "<div><div style = \"float: left;\"><span>884×4 DataFrame</span></div><div style = \"float: right;\"><span style = \"font-style: italic;\">859 rows omitted</span></div><div style = \"clear: both;\"></div></div><div class = \"data-frame\" style = \"overflow-x: scroll;\"><table class = \"data-frame\" style = \"margin-bottom: 6px;\"><thead><tr class = \"header\"><th class = \"rowNumber\" style = \"font-weight: bold; text-align: right;\">Row</th><th style = \"text-align: left;\">applicant_id</th><th style = \"text-align: left;\">country</th><th style = \"text-align: left;\">name</th><th style = \"text-align: left;\">families</th></tr><tr class = \"subheader headerLastRow\"><th class = \"rowNumber\" style = \"font-weight: bold; text-align: right;\"></th><th title = \"Int64\" style = \"text-align: left;\">Int64</th><th title = \"String\" style = \"text-align: left;\">String</th><th title = \"String\" style = \"text-align: left;\">String</th><th title = \"Int64\" style = \"text-align: left;\">Int64</th></tr></thead><tbody><tr><td class = \"rowNumber\" style = \"font-weight: bold; text-align: right;\">1</td><td style = \"text-align: right;\">4297</td><td style = \"text-align: left;\">DE</td><td style = \"text-align: left;\">HENKEL AG &amp; CO KGAA</td><td style = \"text-align: right;\">27</td></tr><tr><td class = \"rowNumber\" style = \"font-weight: bold; text-align: right;\">2</td><td style = \"text-align: right;\">299</td><td style = \"text-align: left;\">DE</td><td style = \"text-align: left;\">BASF SE</td><td style = \"text-align: right;\">15</td></tr><tr><td class = \"rowNumber\" style = \"font-weight: bold; text-align: right;\">3</td><td style = \"text-align: right;\">7449</td><td style = \"text-align: left;\">US</td><td style = \"text-align: left;\">PROCTER &amp; GAMBLE</td><td style = \"text-align: right;\">15</td></tr><tr><td class = \"rowNumber\" style = \"font-weight: bold; text-align: right;\">4</td><td style = \"text-align: right;\">433</td><td style = \"text-align: left;\">BE</td><td style = \"text-align: left;\">JANSSEN PHARMACEUTICA NV</td><td style = \"text-align: right;\">10</td></tr><tr><td class = \"rowNumber\" style = \"font-weight: bold; text-align: right;\">5</td><td style = \"text-align: right;\">4543</td><td style = \"text-align: left;\">??</td><td style = \"text-align: left;\">MAURER KARL-HEINZ</td><td style = \"text-align: right;\">10</td></tr><tr><td class = \"rowNumber\" style = \"font-weight: bold; text-align: right;\">6</td><td style = \"text-align: right;\">10114</td><td style = \"text-align: left;\">DK</td><td style = \"text-align: left;\">NOVOZYMES AS</td><td style = \"text-align: right;\">10</td></tr><tr><td class = \"rowNumber\" style = \"font-weight: bold; text-align: right;\">7</td><td style = \"text-align: right;\">116</td><td style = \"text-align: left;\">DE</td><td style = \"text-align: left;\">HENKEL KGAA</td><td style = \"text-align: right;\">9</td></tr><tr><td class = \"rowNumber\" style = \"font-weight: bold; text-align: right;\">8</td><td style = \"text-align: right;\">4544</td><td style = \"text-align: left;\">??</td><td style = \"text-align: left;\">KOTTWITZ BEATRIX</td><td style = \"text-align: right;\">8</td></tr><tr><td class = \"rowNumber\" style = \"font-weight: bold; text-align: right;\">9</td><td style = \"text-align: right;\">25138</td><td style = \"text-align: left;\">BE</td><td style = \"text-align: left;\">BYLEMANS DANY LEOPOLD JOZEFIEN</td><td style = \"text-align: right;\">8</td></tr><tr><td class = \"rowNumber\" style = \"font-weight: bold; text-align: right;\">10</td><td style = \"text-align: right;\">24484</td><td style = \"text-align: left;\">BE</td><td style = \"text-align: left;\">BOSSELAERS JAN PIETER HENDRIK</td><td style = \"text-align: right;\">7</td></tr><tr><td class = \"rowNumber\" style = \"font-weight: bold; text-align: right;\">11</td><td style = \"text-align: right;\">346</td><td style = \"text-align: left;\">CH</td><td style = \"text-align: left;\">CIBA SC HOLDING AG</td><td style = \"text-align: right;\">6</td></tr><tr><td class = \"rowNumber\" style = \"font-weight: bold; text-align: right;\">12</td><td style = \"text-align: right;\">4546</td><td style = \"text-align: left;\">??</td><td style = \"text-align: left;\">HELLEBRANDT ANGELA</td><td style = \"text-align: right;\">6</td></tr><tr><td class = \"rowNumber\" style = \"font-weight: bold; text-align: right;\">13</td><td style = \"text-align: right;\">4549</td><td style = \"text-align: left;\">??</td><td style = \"text-align: left;\">WEBER ANGRIT</td><td style = \"text-align: right;\">6</td></tr><tr><td style = \"text-align: right;\">&vellip;</td><td style = \"text-align: right;\">&vellip;</td><td style = \"text-align: right;\">&vellip;</td><td style = \"text-align: right;\">&vellip;</td><td style = \"text-align: right;\">&vellip;</td></tr><tr><td class = \"rowNumber\" style = \"font-weight: bold; text-align: right;\">873</td><td style = \"text-align: right;\">26242</td><td style = \"text-align: left;\">CN</td><td style = \"text-align: left;\">ZHEJIANG ENMAT BIOLOGICAL TECH CO LTD</td><td style = \"text-align: right;\">1</td></tr><tr><td class = \"rowNumber\" style = \"font-weight: bold; text-align: right;\">874</td><td style = \"text-align: right;\">26254</td><td style = \"text-align: left;\">SI</td><td style = \"text-align: left;\">UNIVERZA V MARIBORU</td><td style = \"text-align: right;\">1</td></tr><tr><td class = \"rowNumber\" style = \"font-weight: bold; text-align: right;\">875</td><td style = \"text-align: right;\">26348</td><td style = \"text-align: left;\">??</td><td style = \"text-align: left;\">HAINING DECHANG TEXTILE CO LTD</td><td style = \"text-align: right;\">1</td></tr><tr><td class = \"rowNumber\" style = \"font-weight: bold; text-align: right;\">876</td><td style = \"text-align: right;\">26439</td><td style = \"text-align: left;\">??</td><td style = \"text-align: left;\">HANGZHOU JINGYU TECH CO LTD</td><td style = \"text-align: right;\">1</td></tr><tr><td class = \"rowNumber\" style = \"font-weight: bold; text-align: right;\">877</td><td style = \"text-align: right;\">26473</td><td style = \"text-align: left;\">US</td><td style = \"text-align: left;\">LITTIG JANET SUE</td><td style = \"text-align: right;\">1</td></tr><tr><td class = \"rowNumber\" style = \"font-weight: bold; text-align: right;\">878</td><td style = \"text-align: right;\">26474</td><td style = \"text-align: left;\">US</td><td style = \"text-align: left;\">BJORKQUIST DAVID WILLIAM</td><td style = \"text-align: right;\">1</td></tr><tr><td class = \"rowNumber\" style = \"font-weight: bold; text-align: right;\">879</td><td style = \"text-align: right;\">26501</td><td style = \"text-align: left;\">US</td><td style = \"text-align: left;\">UNIV ARIZONA STATE</td><td style = \"text-align: right;\">1</td></tr><tr><td class = \"rowNumber\" style = \"font-weight: bold; text-align: right;\">880</td><td style = \"text-align: right;\">26502</td><td style = \"text-align: left;\">US</td><td style = \"text-align: left;\">CACTUS MAT INC</td><td style = \"text-align: right;\">1</td></tr><tr><td class = \"rowNumber\" style = \"font-weight: bold; text-align: right;\">881</td><td style = \"text-align: right;\">26774</td><td style = \"text-align: left;\">US</td><td style = \"text-align: left;\">RUBINSKY BERT H</td><td style = \"text-align: right;\">1</td></tr><tr><td class = \"rowNumber\" style = \"font-weight: bold; text-align: right;\">882</td><td style = \"text-align: right;\">26775</td><td style = \"text-align: left;\">US</td><td style = \"text-align: left;\">R &amp; T FABRIC LLC</td><td style = \"text-align: right;\">1</td></tr><tr><td class = \"rowNumber\" style = \"font-weight: bold; text-align: right;\">883</td><td style = \"text-align: right;\">26950</td><td style = \"text-align: left;\">CH</td><td style = \"text-align: left;\">UNIV BERN</td><td style = \"text-align: right;\">1</td></tr><tr><td class = \"rowNumber\" style = \"font-weight: bold; text-align: right;\">884</td><td style = \"text-align: right;\">26951</td><td style = \"text-align: left;\">CH</td><td style = \"text-align: left;\">BISCHOFF TEXTIL AG</td><td style = \"text-align: right;\">1</td></tr></tbody></table></div>"
      ],
      "text/latex": [
       "\\begin{tabular}{r|cccc}\n",
       "\t& applicant\\_id & country & name & families\\\\\n",
       "\t\\hline\n",
       "\t& Int64 & String & String & Int64\\\\\n",
       "\t\\hline\n",
       "\t1 & 4297 & DE & HENKEL AG \\& CO KGAA & 27 \\\\\n",
       "\t2 & 299 & DE & BASF SE & 15 \\\\\n",
       "\t3 & 7449 & US & PROCTER \\& GAMBLE & 15 \\\\\n",
       "\t4 & 433 & BE & JANSSEN PHARMACEUTICA NV & 10 \\\\\n",
       "\t5 & 4543 & ?? & MAURER KARL-HEINZ & 10 \\\\\n",
       "\t6 & 10114 & DK & NOVOZYMES AS & 10 \\\\\n",
       "\t7 & 116 & DE & HENKEL KGAA & 9 \\\\\n",
       "\t8 & 4544 & ?? & KOTTWITZ BEATRIX & 8 \\\\\n",
       "\t9 & 25138 & BE & BYLEMANS DANY LEOPOLD JOZEFIEN & 8 \\\\\n",
       "\t10 & 24484 & BE & BOSSELAERS JAN PIETER HENDRIK & 7 \\\\\n",
       "\t11 & 346 & CH & CIBA SC HOLDING AG & 6 \\\\\n",
       "\t12 & 4546 & ?? & HELLEBRANDT ANGELA & 6 \\\\\n",
       "\t13 & 4549 & ?? & WEBER ANGRIT & 6 \\\\\n",
       "\t14 & 25139 & BE & THYS AMBER PAULA MARCELLA & 6 \\\\\n",
       "\t15 & 349 & FR & HOELZL WERNER & 5 \\\\\n",
       "\t16 & 352 & CH & PREUSS ANDREA & 5 \\\\\n",
       "\t17 & 844 & ?? & PREUSS ANDREA & 5 \\\\\n",
       "\t18 & 1221 & US & EVOLVED BY NATURE INC & 5 \\\\\n",
       "\t19 & 12974 & US & GENENCOR INT & 5 \\\\\n",
       "\t20 & 17788 & ?? & WIELAND SUSANNE & 5 \\\\\n",
       "\t21 & 24313 & US & GOSSELINK EUGENE PAUL & 5 \\\\\n",
       "\t22 & 25379 & ?? & BOSSELAERS JAN PIETER HENDRIK & 5 \\\\\n",
       "\t23 & 25380 & ?? & BYLEMANS DANY LEOPOLD JOZEFIEN & 5 \\\\\n",
       "\t24 & 25383 & ?? & THYS AMBER PAULA MARCELLA & 5 \\\\\n",
       "\t$\\dots$ & $\\dots$ & $\\dots$ & $\\dots$ & $\\dots$ \\\\\n",
       "\\end{tabular}\n"
      ],
      "text/plain": [
       "\u001b[1m884×4 DataFrame\u001b[0m\n",
       "\u001b[1m Row \u001b[0m│\u001b[1m applicant_id \u001b[0m\u001b[1m country \u001b[0m\u001b[1m name                           \u001b[0m\u001b[1m families \u001b[0m\n",
       "     │\u001b[90m Int64        \u001b[0m\u001b[90m String  \u001b[0m\u001b[90m String                         \u001b[0m\u001b[90m Int64    \u001b[0m\n",
       "─────┼─────────────────────────────────────────────────────────────────\n",
       "   1 │         4297  DE       HENKEL AG & CO KGAA                   27\n",
       "   2 │          299  DE       BASF SE                               15\n",
       "   3 │         7449  US       PROCTER & GAMBLE                      15\n",
       "   4 │          433  BE       JANSSEN PHARMACEUTICA NV              10\n",
       "   5 │         4543  ??       MAURER KARL-HEINZ                     10\n",
       "   6 │        10114  DK       NOVOZYMES AS                          10\n",
       "   7 │          116  DE       HENKEL KGAA                            9\n",
       "   8 │         4544  ??       KOTTWITZ BEATRIX                       8\n",
       "  ⋮  │      ⋮           ⋮                   ⋮                    ⋮\n",
       " 878 │        26474  US       BJORKQUIST DAVID WILLIAM               1\n",
       " 879 │        26501  US       UNIV ARIZONA STATE                     1\n",
       " 880 │        26502  US       CACTUS MAT INC                         1\n",
       " 881 │        26774  US       RUBINSKY BERT H                        1\n",
       " 882 │        26775  US       R & T FABRIC LLC                       1\n",
       " 883 │        26950  CH       UNIV BERN                              1\n",
       " 884 │        26951  CH       BISCHOFF TEXTIL AG                     1\n",
       "\u001b[36m                                                       869 rows omitted\u001b[0m"
      ]
     },
     "metadata": {},
     "output_type": "display_data"
    }
   ],
   "source": [
    "prepdata(demo_db, Frequency(), FamilyLevel(), filter3, Applicants()) |> res -> sort(res, :families, rev = true)"
   ]
  },
  {
   "attachments": {},
   "cell_type": "markdown",
   "metadata": {},
   "source": [
    "As we can see, the leading innovators in this area are different ones than for the overall dataset.\n",
    "\n",
    "### Composing filters\n",
    "\n",
    "Filters can be composed using the union operator `|` or the intersection operator `&`.\n",
    "Let's say we're interested in methods for producing antibacterial fibers.\n",
    "We could use a content filter with an `AND` operator:"
   ]
  },
  {
   "cell_type": "code",
   "execution_count": 21,
   "metadata": {},
   "outputs": [
    {
     "data": {
      "text/html": [
       "<div><div style = \"float: left;\"><span>1×1 DataFrame</span></div><div style = \"clear: both;\"></div></div><div class = \"data-frame\" style = \"overflow-x: scroll;\"><table class = \"data-frame\" style = \"margin-bottom: 6px;\"><thead><tr class = \"header\"><th class = \"rowNumber\" style = \"font-weight: bold; text-align: right;\">Row</th><th style = \"text-align: left;\">families</th></tr><tr class = \"subheader headerLastRow\"><th class = \"rowNumber\" style = \"font-weight: bold; text-align: right;\"></th><th title = \"Int64\" style = \"text-align: left;\">Int64</th></tr></thead><tbody><tr><td class = \"rowNumber\" style = \"font-weight: bold; text-align: right;\">1</td><td style = \"text-align: right;\">271</td></tr></tbody></table></div>"
      ],
      "text/latex": [
       "\\begin{tabular}{r|c}\n",
       "\t& families\\\\\n",
       "\t\\hline\n",
       "\t& Int64\\\\\n",
       "\t\\hline\n",
       "\t1 & 271 \\\\\n",
       "\\end{tabular}\n"
      ],
      "text/plain": [
       "\u001b[1m1×1 DataFrame\u001b[0m\n",
       "\u001b[1m Row \u001b[0m│\u001b[1m families \u001b[0m\n",
       "     │\u001b[90m Int64    \u001b[0m\n",
       "─────┼──────────\n",
       "   1 │      271"
      ]
     },
     "metadata": {},
     "output_type": "display_data"
    }
   ],
   "source": [
    "filter4 = ContentFilter(\"anti bacterial AND fiber\", [TitleSearch(), AbstractSearch(), ClaimsSearch(), FulltextSearch()])\n",
    "prepdata(demo_db, Frequency(), FamilyLevel(), filter4)"
   ]
  },
  {
   "attachments": {},
   "cell_type": "markdown",
   "metadata": {},
   "source": [
    "But this would include all applications mentioning \"fiber\", not just those dealing with how to produce it.\n",
    "Alternatively, we can filter for CPC class D01, referring to \"NATURAL OR MAN-MADE THREADS OR FIBRES; SPINNING\"."
   ]
  },
  {
   "cell_type": "code",
   "execution_count": 23,
   "metadata": {},
   "outputs": [
    {
     "data": {
      "text/html": [
       "<div><div style = \"float: left;\"><span>1×1 DataFrame</span></div><div style = \"clear: both;\"></div></div><div class = \"data-frame\" style = \"overflow-x: scroll;\"><table class = \"data-frame\" style = \"margin-bottom: 6px;\"><thead><tr class = \"header\"><th class = \"rowNumber\" style = \"font-weight: bold; text-align: right;\">Row</th><th style = \"text-align: left;\">families</th></tr><tr class = \"subheader headerLastRow\"><th class = \"rowNumber\" style = \"font-weight: bold; text-align: right;\"></th><th title = \"Int64\" style = \"text-align: left;\">Int64</th></tr></thead><tbody><tr><td class = \"rowNumber\" style = \"font-weight: bold; text-align: right;\">1</td><td style = \"text-align: right;\">48</td></tr></tbody></table></div>"
      ],
      "text/latex": [
       "\\begin{tabular}{r|c}\n",
       "\t& families\\\\\n",
       "\t\\hline\n",
       "\t& Int64\\\\\n",
       "\t\\hline\n",
       "\t1 & 48 \\\\\n",
       "\\end{tabular}\n"
      ],
      "text/plain": [
       "\u001b[1m1×1 DataFrame\u001b[0m\n",
       "\u001b[1m Row \u001b[0m│\u001b[1m families \u001b[0m\n",
       "     │\u001b[90m Int64    \u001b[0m\n",
       "─────┼──────────\n",
       "   1 │       48"
      ]
     },
     "metadata": {},
     "output_type": "display_data"
    }
   ],
   "source": [
    "filter5 = filter3 & ClassificationFilter(CPC(), Class(), [CPCSymbol(\"D01\")]) # filter3 is our anti bacterial filter from earlier\n",
    "prepdata(demo_db, Frequency(), FamilyLevel(), filter5)"
   ]
  },
  {
   "attachments": {},
   "cell_type": "markdown",
   "metadata": {},
   "source": [
    "As we can see, this filter is much more specific.\n",
    "\n",
    "In the same way, we can use the union operator to make our filter more general.\n",
    "For instance, this filter matches all data either classified in CPC class D01, or mentioning the word \"fiber\"."
   ]
  },
  {
   "cell_type": "code",
   "execution_count": 24,
   "metadata": {},
   "outputs": [
    {
     "data": {
      "text/html": [
       "<div><div style = \"float: left;\"><span>1×1 DataFrame</span></div><div style = \"clear: both;\"></div></div><div class = \"data-frame\" style = \"overflow-x: scroll;\"><table class = \"data-frame\" style = \"margin-bottom: 6px;\"><thead><tr class = \"header\"><th class = \"rowNumber\" style = \"font-weight: bold; text-align: right;\">Row</th><th style = \"text-align: left;\">families</th></tr><tr class = \"subheader headerLastRow\"><th class = \"rowNumber\" style = \"font-weight: bold; text-align: right;\"></th><th title = \"Int64\" style = \"text-align: left;\">Int64</th></tr></thead><tbody><tr><td class = \"rowNumber\" style = \"font-weight: bold; text-align: right;\">1</td><td style = \"text-align: right;\">9390</td></tr></tbody></table></div>"
      ],
      "text/latex": [
       "\\begin{tabular}{r|c}\n",
       "\t& families\\\\\n",
       "\t\\hline\n",
       "\t& Int64\\\\\n",
       "\t\\hline\n",
       "\t1 & 9390 \\\\\n",
       "\\end{tabular}\n"
      ],
      "text/plain": [
       "\u001b[1m1×1 DataFrame\u001b[0m\n",
       "\u001b[1m Row \u001b[0m│\u001b[1m families \u001b[0m\n",
       "     │\u001b[90m Int64    \u001b[0m\n",
       "─────┼──────────\n",
       "   1 │     9390"
      ]
     },
     "metadata": {},
     "output_type": "display_data"
    }
   ],
   "source": [
    "filter6 = \n",
    "    ClassificationFilter(CPC(), Class(), [CPCSymbol(\"D01\")]) |\n",
    "    ContentFilter(\"fiber\", [TitleSearch(), AbstractSearch(), ClaimsSearch(), FulltextSearch()])\n",
    "prepdata(demo_db, Frequency(), FamilyLevel(), filter6)"
   ]
  },
  {
   "attachments": {},
   "cell_type": "markdown",
   "metadata": {},
   "source": [
    "## 4. Taxonomies\n",
    "\n",
    "Taxonomies combine the filter and grouping interfaces to allow for very flexible analysis specifications.\n",
    "In essence, a taxonomy is a set of filter results that is indexed for fast reaccess and can be used as a grouping.\n",
    "Taxonomies are created using the `define_taxon` function from PatentsLandscapes.\n",
    "\n",
    "Say we want to create a taxonomy for special properties of technical textiles.\n",
    "We simply write a filter for each taxon, and then call `define_taxon` on it:"
   ]
  },
  {
   "cell_type": "code",
   "execution_count": 25,
   "metadata": {},
   "outputs": [
    {
     "data": {
      "text/plain": [
       "SQLite.Query{false}(SQLite.Stmt(SQLite.DB(\"demo.db\"), Base.RefValue{Ptr{SQLite.C.sqlite3_stmt}}(Ptr{SQLite.C.sqlite3_stmt} @0x000000000ce71fd8), Dict{Int64, Any}(2 => \"uv_resistant\", 1 => \"special_properties\")), Base.RefValue{Int32}(101), Symbol[], Type[], Dict{Symbol, Int64}(), Base.RefValue{Int64}(0))"
      ]
     },
     "metadata": {},
     "output_type": "display_data"
    }
   ],
   "source": [
    "define_taxon!(demo_db, \"special_properties\", \n",
    "\"antibacterial\",\n",
    "    filter3)\n",
    "\n",
    "define_taxon!(demo_db, \"special_properties\", \n",
    "\"antistatic\",\n",
    "    ContentFilter(\"anti static\", \n",
    "        [TitleSearch(), AbstractSearch(), ClaimsSearch(), FulltextSearch()]))\n",
    "\n",
    "define_taxon!(demo_db, \"special_properties\", \n",
    "\"chemical_resistant\",\n",
    "    ContentFilter(\"chemical resistant OR acid resistant OR anti corrosive OR corrosion resistant\",\n",
    "        [TitleSearch(), AbstractSearch(), ClaimsSearch(), FulltextSearch()]))\n",
    "\n",
    "define_taxon!(demo_db, \"special_properties\", \n",
    "\"flame_retardant\",\n",
    "    ContentFilter(\"flame retardant OR flame resistant OR fire resistant OR fire retardant OR fire proof OR non inflammable\",\n",
    "        [TitleSearch(), AbstractSearch(), ClaimsSearch(), FulltextSearch()]))\n",
    "\n",
    "define_taxon!(demo_db, \"special_properties\", \n",
    "\"insect_repellant\",\n",
    "    ContentFilter(\"insect OR mosquito\", \n",
    "        [TitleSearch(), AbstractSearch(), ClaimsSearch(), FulltextSearch()]))\n",
    "\n",
    "define_taxon!(demo_db, \"special_properties\", \n",
    "\"anti_odor\",\n",
    "    ContentFilter(\"odor absorbent OR odor resistant\",\n",
    "        [TitleSearch(), AbstractSearch(), ClaimsSearch(), FulltextSearch()]))\n",
    "\n",
    "define_taxon!(demo_db, \"special_properties\", \n",
    "\"uv_resistant\",\n",
    "    ContentFilter(\"uv resistant OR uv reflective OR ultraviolet resistant OR ultraviolet reflective\",\n",
    "        [TitleSearch(), AbstractSearch(), ClaimsSearch(), FulltextSearch()]))"
   ]
  },
  {
   "attachments": {},
   "cell_type": "markdown",
   "metadata": {},
   "source": [
    "We can then use the taxonomy as a grouping for our analysis:"
   ]
  },
  {
   "cell_type": "code",
   "execution_count": 26,
   "metadata": {},
   "outputs": [
    {
     "data": {
      "text/html": [
       "<div><div style = \"float: left;\"><span>7×2 DataFrame</span></div><div style = \"clear: both;\"></div></div><div class = \"data-frame\" style = \"overflow-x: scroll;\"><table class = \"data-frame\" style = \"margin-bottom: 6px;\"><thead><tr class = \"header\"><th class = \"rowNumber\" style = \"font-weight: bold; text-align: right;\">Row</th><th style = \"text-align: left;\">special_properties</th><th style = \"text-align: left;\">families</th></tr><tr class = \"subheader headerLastRow\"><th class = \"rowNumber\" style = \"font-weight: bold; text-align: right;\"></th><th title = \"String\" style = \"text-align: left;\">String</th><th title = \"Int64\" style = \"text-align: left;\">Int64</th></tr></thead><tbody><tr><td class = \"rowNumber\" style = \"font-weight: bold; text-align: right;\">1</td><td style = \"text-align: left;\">anti_odor</td><td style = \"text-align: right;\">277</td></tr><tr><td class = \"rowNumber\" style = \"font-weight: bold; text-align: right;\">2</td><td style = \"text-align: left;\">antibacterial</td><td style = \"text-align: right;\">479</td></tr><tr><td class = \"rowNumber\" style = \"font-weight: bold; text-align: right;\">3</td><td style = \"text-align: left;\">antistatic</td><td style = \"text-align: right;\">841</td></tr><tr><td class = \"rowNumber\" style = \"font-weight: bold; text-align: right;\">4</td><td style = \"text-align: left;\">chemical_resistant</td><td style = \"text-align: right;\">1877</td></tr><tr><td class = \"rowNumber\" style = \"font-weight: bold; text-align: right;\">5</td><td style = \"text-align: left;\">flame_retardant</td><td style = \"text-align: right;\">1746</td></tr><tr><td class = \"rowNumber\" style = \"font-weight: bold; text-align: right;\">6</td><td style = \"text-align: left;\">insect_repellant</td><td style = \"text-align: right;\">316</td></tr><tr><td class = \"rowNumber\" style = \"font-weight: bold; text-align: right;\">7</td><td style = \"text-align: left;\">uv_resistant</td><td style = \"text-align: right;\">814</td></tr></tbody></table></div>"
      ],
      "text/latex": [
       "\\begin{tabular}{r|cc}\n",
       "\t& special\\_properties & families\\\\\n",
       "\t\\hline\n",
       "\t& String & Int64\\\\\n",
       "\t\\hline\n",
       "\t1 & anti\\_odor & 277 \\\\\n",
       "\t2 & antibacterial & 479 \\\\\n",
       "\t3 & antistatic & 841 \\\\\n",
       "\t4 & chemical\\_resistant & 1877 \\\\\n",
       "\t5 & flame\\_retardant & 1746 \\\\\n",
       "\t6 & insect\\_repellant & 316 \\\\\n",
       "\t7 & uv\\_resistant & 814 \\\\\n",
       "\\end{tabular}\n"
      ],
      "text/plain": [
       "\u001b[1m7×2 DataFrame\u001b[0m\n",
       "\u001b[1m Row \u001b[0m│\u001b[1m special_properties \u001b[0m\u001b[1m families \u001b[0m\n",
       "     │\u001b[90m String             \u001b[0m\u001b[90m Int64    \u001b[0m\n",
       "─────┼──────────────────────────────\n",
       "   1 │ anti_odor                277\n",
       "   2 │ antibacterial            479\n",
       "   3 │ antistatic               841\n",
       "   4 │ chemical_resistant      1877\n",
       "   5 │ flame_retardant         1746\n",
       "   6 │ insect_repellant         316\n",
       "   7 │ uv_resistant             814"
      ]
     },
     "metadata": {},
     "output_type": "display_data"
    }
   ],
   "source": [
    "prepdata(demo_db, Frequency(), FamilyLevel(), Taxonomy(\"special_properties\"))"
   ]
  },
  {
   "attachments": {},
   "cell_type": "markdown",
   "metadata": {},
   "source": [
    "The original filter result can also be conveniently re-accessed using a `TaxonomicFilter`:"
   ]
  },
  {
   "cell_type": "code",
   "execution_count": 27,
   "metadata": {},
   "outputs": [
    {
     "data": {
      "text/html": [
       "<div><div style = \"float: left;\"><span>45×2 DataFrame</span></div><div style = \"float: right;\"><span style = \"font-style: italic;\">20 rows omitted</span></div><div style = \"clear: both;\"></div></div><div class = \"data-frame\" style = \"overflow-x: scroll;\"><table class = \"data-frame\" style = \"margin-bottom: 6px;\"><thead><tr class = \"header\"><th class = \"rowNumber\" style = \"font-weight: bold; text-align: right;\">Row</th><th style = \"text-align: left;\">year</th><th style = \"text-align: left;\">families</th></tr><tr class = \"subheader headerLastRow\"><th class = \"rowNumber\" style = \"font-weight: bold; text-align: right;\"></th><th title = \"String\" style = \"text-align: left;\">String</th><th title = \"Int64\" style = \"text-align: left;\">Int64</th></tr></thead><tbody><tr><td class = \"rowNumber\" style = \"font-weight: bold; text-align: right;\">1</td><td style = \"text-align: left;\">1950</td><td style = \"text-align: right;\">1</td></tr><tr><td class = \"rowNumber\" style = \"font-weight: bold; text-align: right;\">2</td><td style = \"text-align: left;\">1976</td><td style = \"text-align: right;\">1</td></tr><tr><td class = \"rowNumber\" style = \"font-weight: bold; text-align: right;\">3</td><td style = \"text-align: left;\">1977</td><td style = \"text-align: right;\">7</td></tr><tr><td class = \"rowNumber\" style = \"font-weight: bold; text-align: right;\">4</td><td style = \"text-align: left;\">1978</td><td style = \"text-align: right;\">3</td></tr><tr><td class = \"rowNumber\" style = \"font-weight: bold; text-align: right;\">5</td><td style = \"text-align: left;\">1979</td><td style = \"text-align: right;\">4</td></tr><tr><td class = \"rowNumber\" style = \"font-weight: bold; text-align: right;\">6</td><td style = \"text-align: left;\">1980</td><td style = \"text-align: right;\">2</td></tr><tr><td class = \"rowNumber\" style = \"font-weight: bold; text-align: right;\">7</td><td style = \"text-align: left;\">1981</td><td style = \"text-align: right;\">2</td></tr><tr><td class = \"rowNumber\" style = \"font-weight: bold; text-align: right;\">8</td><td style = \"text-align: left;\">1982</td><td style = \"text-align: right;\">5</td></tr><tr><td class = \"rowNumber\" style = \"font-weight: bold; text-align: right;\">9</td><td style = \"text-align: left;\">1983</td><td style = \"text-align: right;\">1</td></tr><tr><td class = \"rowNumber\" style = \"font-weight: bold; text-align: right;\">10</td><td style = \"text-align: left;\">1984</td><td style = \"text-align: right;\">2</td></tr><tr><td class = \"rowNumber\" style = \"font-weight: bold; text-align: right;\">11</td><td style = \"text-align: left;\">1987</td><td style = \"text-align: right;\">1</td></tr><tr><td class = \"rowNumber\" style = \"font-weight: bold; text-align: right;\">12</td><td style = \"text-align: left;\">1988</td><td style = \"text-align: right;\">4</td></tr><tr><td class = \"rowNumber\" style = \"font-weight: bold; text-align: right;\">13</td><td style = \"text-align: left;\">1989</td><td style = \"text-align: right;\">1</td></tr><tr><td style = \"text-align: right;\">&vellip;</td><td style = \"text-align: right;\">&vellip;</td><td style = \"text-align: right;\">&vellip;</td></tr><tr><td class = \"rowNumber\" style = \"font-weight: bold; text-align: right;\">34</td><td style = \"text-align: left;\">2012</td><td style = \"text-align: right;\">21</td></tr><tr><td class = \"rowNumber\" style = \"font-weight: bold; text-align: right;\">35</td><td style = \"text-align: left;\">2013</td><td style = \"text-align: right;\">13</td></tr><tr><td class = \"rowNumber\" style = \"font-weight: bold; text-align: right;\">36</td><td style = \"text-align: left;\">2014</td><td style = \"text-align: right;\">27</td></tr><tr><td class = \"rowNumber\" style = \"font-weight: bold; text-align: right;\">37</td><td style = \"text-align: left;\">2015</td><td style = \"text-align: right;\">25</td></tr><tr><td class = \"rowNumber\" style = \"font-weight: bold; text-align: right;\">38</td><td style = \"text-align: left;\">2016</td><td style = \"text-align: right;\">32</td></tr><tr><td class = \"rowNumber\" style = \"font-weight: bold; text-align: right;\">39</td><td style = \"text-align: left;\">2017</td><td style = \"text-align: right;\">50</td></tr><tr><td class = \"rowNumber\" style = \"font-weight: bold; text-align: right;\">40</td><td style = \"text-align: left;\">2018</td><td style = \"text-align: right;\">41</td></tr><tr><td class = \"rowNumber\" style = \"font-weight: bold; text-align: right;\">41</td><td style = \"text-align: left;\">2019</td><td style = \"text-align: right;\">52</td></tr><tr><td class = \"rowNumber\" style = \"font-weight: bold; text-align: right;\">42</td><td style = \"text-align: left;\">2020</td><td style = \"text-align: right;\">90</td></tr><tr><td class = \"rowNumber\" style = \"font-weight: bold; text-align: right;\">43</td><td style = \"text-align: left;\">2021</td><td style = \"text-align: right;\">130</td></tr><tr><td class = \"rowNumber\" style = \"font-weight: bold; text-align: right;\">44</td><td style = \"text-align: left;\">2022</td><td style = \"text-align: right;\">162</td></tr><tr><td class = \"rowNumber\" style = \"font-weight: bold; text-align: right;\">45</td><td style = \"text-align: left;\">2023</td><td style = \"text-align: right;\">4</td></tr></tbody></table></div>"
      ],
      "text/latex": [
       "\\begin{tabular}{r|cc}\n",
       "\t& year & families\\\\\n",
       "\t\\hline\n",
       "\t& String & Int64\\\\\n",
       "\t\\hline\n",
       "\t1 & 1950 & 1 \\\\\n",
       "\t2 & 1976 & 1 \\\\\n",
       "\t3 & 1977 & 7 \\\\\n",
       "\t4 & 1978 & 3 \\\\\n",
       "\t5 & 1979 & 4 \\\\\n",
       "\t6 & 1980 & 2 \\\\\n",
       "\t7 & 1981 & 2 \\\\\n",
       "\t8 & 1982 & 5 \\\\\n",
       "\t9 & 1983 & 1 \\\\\n",
       "\t10 & 1984 & 2 \\\\\n",
       "\t11 & 1987 & 1 \\\\\n",
       "\t12 & 1988 & 4 \\\\\n",
       "\t13 & 1989 & 1 \\\\\n",
       "\t14 & 1991 & 3 \\\\\n",
       "\t15 & 1993 & 1 \\\\\n",
       "\t16 & 1994 & 1 \\\\\n",
       "\t17 & 1995 & 2 \\\\\n",
       "\t18 & 1996 & 2 \\\\\n",
       "\t19 & 1997 & 2 \\\\\n",
       "\t20 & 1998 & 7 \\\\\n",
       "\t21 & 1999 & 5 \\\\\n",
       "\t22 & 2000 & 8 \\\\\n",
       "\t23 & 2001 & 7 \\\\\n",
       "\t24 & 2002 & 10 \\\\\n",
       "\t$\\dots$ & $\\dots$ & $\\dots$ \\\\\n",
       "\\end{tabular}\n"
      ],
      "text/plain": [
       "\u001b[1m45×2 DataFrame\u001b[0m\n",
       "\u001b[1m Row \u001b[0m│\u001b[1m year   \u001b[0m\u001b[1m families \u001b[0m\n",
       "     │\u001b[90m String \u001b[0m\u001b[90m Int64    \u001b[0m\n",
       "─────┼──────────────────\n",
       "   1 │ 1950           1\n",
       "   2 │ 1976           1\n",
       "   3 │ 1977           7\n",
       "   4 │ 1978           3\n",
       "   5 │ 1979           4\n",
       "   6 │ 1980           2\n",
       "   7 │ 1981           2\n",
       "   8 │ 1982           5\n",
       "  ⋮  │   ⋮        ⋮\n",
       "  39 │ 2017          50\n",
       "  40 │ 2018          41\n",
       "  41 │ 2019          52\n",
       "  42 │ 2020          90\n",
       "  43 │ 2021         130\n",
       "  44 │ 2022         162\n",
       "  45 │ 2023           4\n",
       "\u001b[36m         30 rows omitted\u001b[0m"
      ]
     },
     "metadata": {},
     "output_type": "display_data"
    }
   ],
   "source": [
    "filter7 = TaxonomicFilter(\"special_properties\", [\"antistatic\"])\n",
    "prepdata(demo_db, Frequency(), FamilyLevel(), filter7, TimeTrend())"
   ]
  },
  {
   "attachments": {},
   "cell_type": "markdown",
   "metadata": {},
   "source": [
    "### Orthogonal and nested taxonomies\n",
    "\n",
    "There can be multiple taxonomies in a database.\n",
    "For instance, we may want to combine the special properties taxonomy with one for different types of biopolymers.\n",
    "Taxonomies can be nested by simply creating different sub-taxonomies.\n",
    "This code (taken from the PatentsLens test suite) generates a two-level nested biopolymer taxonomy:"
   ]
  },
  {
   "cell_type": "code",
   "execution_count": 43,
   "metadata": {},
   "outputs": [],
   "source": [
    "polymers = [\n",
    "    \"Drop-Ins\" => [\n",
    "        \"Bio-PET\" => \"bio pet OR bio polyethylene terephthalate\"\n",
    "        \"Bio-PE\"  => \"bio pe OR bio polyethylene\"\n",
    "        \"Bio-PUR\" => \"bio pur OR bio polyurethane\"\n",
    "        \"Bio-PA\"  => \"bio pa OR bio polyamide\"\n",
    "    ],\n",
    "    \"Cellulose-based\" => [\n",
    "        \"cellulose acetate\" => \"cellulose acetate\"\n",
    "        \"viscose / rayon\"   => \"viscose OR rayon\"\n",
    "        \"methyl cellulose\"  => \"methyl cellulose\"\n",
    "        \"ethyl cellulose\"   => \"ethyl cellulose\"\n",
    "    ],\n",
    "    \"PLA\" => [\"PLA\" => \"pla OR polylactic acid\"],\n",
    "    \"PGA\" => [\"PGA\" => \"pga OR polylglycolide OR glycolic acid OR polyglycolic acid\"],\n",
    "    \"PHA/PHB/PHV\" => [\"PHA/PHB/PHV\" => \"pha OR phb OR phv OR polyhydroxybutyrate OR polyhydroxyvalerate OR polyhydroxyalkanoate OR polyhydroxy butyrate OR polyhydroxy valerate OR polyhydroxy alkanoate\"],\n",
    "    \"PBS\" => [\"PBS\" => \"phb OR polybutylene succinate\"],\n",
    "    \"PBAT\" => [\"PBAT\" => \"pbat OR polybutylene adipate terephthalate\"],\n",
    "    \"PEF\" => [\"PEF\" => \"pef OR polyethylene furanoate\"]\n",
    "]\n",
    "\n",
    "for level1 in polymers\n",
    "    level1_name = level1.first\n",
    "    for level2 in level1.second\n",
    "        level2_name = level2.first\n",
    "        terms = level2.second\n",
    "        define_taxon!(\n",
    "            demo_db,\n",
    "            \"polymers2\",\n",
    "            level2_name,\n",
    "            ContentFilter(terms, [TitleSearch(), AbstractSearch(), ClaimsSearch(), FulltextSearch()]),\n",
    "            expand = false)\n",
    "    end\n",
    "    level2_names = (l2 -> l2.first).(level1.second)\n",
    "    define_taxon!(\n",
    "        demo_db,\n",
    "        \"polymers1\",\n",
    "        level1_name,\n",
    "        TaxonomicFilter(\"polymers2\", level2_names),\n",
    "        expand = false)\n",
    "end"
   ]
  },
  {
   "attachments": {},
   "cell_type": "markdown",
   "metadata": {},
   "source": [
    "Let's see a frequency count for the general types of biopolymers (level 1):"
   ]
  },
  {
   "cell_type": "code",
   "execution_count": 44,
   "metadata": {},
   "outputs": [
    {
     "data": {
      "text/html": [
       "<div><div style = \"float: left;\"><span>8×2 DataFrame</span></div><div style = \"clear: both;\"></div></div><div class = \"data-frame\" style = \"overflow-x: scroll;\"><table class = \"data-frame\" style = \"margin-bottom: 6px;\"><thead><tr class = \"header\"><th class = \"rowNumber\" style = \"font-weight: bold; text-align: right;\">Row</th><th style = \"text-align: left;\">polymers1</th><th style = \"text-align: left;\">families</th></tr><tr class = \"subheader headerLastRow\"><th class = \"rowNumber\" style = \"font-weight: bold; text-align: right;\"></th><th title = \"String\" style = \"text-align: left;\">String</th><th title = \"Int64\" style = \"text-align: left;\">Int64</th></tr></thead><tbody><tr><td class = \"rowNumber\" style = \"font-weight: bold; text-align: right;\">1</td><td style = \"text-align: left;\">Cellulose-based</td><td style = \"text-align: right;\">3165</td></tr><tr><td class = \"rowNumber\" style = \"font-weight: bold; text-align: right;\">2</td><td style = \"text-align: left;\">Drop-Ins</td><td style = \"text-align: right;\">317</td></tr><tr><td class = \"rowNumber\" style = \"font-weight: bold; text-align: right;\">3</td><td style = \"text-align: left;\">PBAT</td><td style = \"text-align: right;\">57</td></tr><tr><td class = \"rowNumber\" style = \"font-weight: bold; text-align: right;\">4</td><td style = \"text-align: left;\">PBS</td><td style = \"text-align: right;\">69</td></tr><tr><td class = \"rowNumber\" style = \"font-weight: bold; text-align: right;\">5</td><td style = \"text-align: left;\">PEF</td><td style = \"text-align: right;\">20</td></tr><tr><td class = \"rowNumber\" style = \"font-weight: bold; text-align: right;\">6</td><td style = \"text-align: left;\">PGA</td><td style = \"text-align: right;\">258</td></tr><tr><td class = \"rowNumber\" style = \"font-weight: bold; text-align: right;\">7</td><td style = \"text-align: left;\">PHA/PHB/PHV</td><td style = \"text-align: right;\">115</td></tr><tr><td class = \"rowNumber\" style = \"font-weight: bold; text-align: right;\">8</td><td style = \"text-align: left;\">PLA</td><td style = \"text-align: right;\">530</td></tr></tbody></table></div>"
      ],
      "text/latex": [
       "\\begin{tabular}{r|cc}\n",
       "\t& polymers1 & families\\\\\n",
       "\t\\hline\n",
       "\t& String & Int64\\\\\n",
       "\t\\hline\n",
       "\t1 & Cellulose-based & 3165 \\\\\n",
       "\t2 & Drop-Ins & 317 \\\\\n",
       "\t3 & PBAT & 57 \\\\\n",
       "\t4 & PBS & 69 \\\\\n",
       "\t5 & PEF & 20 \\\\\n",
       "\t6 & PGA & 258 \\\\\n",
       "\t7 & PHA/PHB/PHV & 115 \\\\\n",
       "\t8 & PLA & 530 \\\\\n",
       "\\end{tabular}\n"
      ],
      "text/plain": [
       "\u001b[1m8×2 DataFrame\u001b[0m\n",
       "\u001b[1m Row \u001b[0m│\u001b[1m polymers1       \u001b[0m\u001b[1m families \u001b[0m\n",
       "     │\u001b[90m String          \u001b[0m\u001b[90m Int64    \u001b[0m\n",
       "─────┼───────────────────────────\n",
       "   1 │ Cellulose-based      3165\n",
       "   2 │ Drop-Ins              317\n",
       "   3 │ PBAT                   57\n",
       "   4 │ PBS                    69\n",
       "   5 │ PEF                    20\n",
       "   6 │ PGA                   258\n",
       "   7 │ PHA/PHB/PHV           115\n",
       "   8 │ PLA                   530"
      ]
     },
     "metadata": {},
     "output_type": "display_data"
    }
   ],
   "source": [
    "prepdata(demo_db, Frequency(), FamilyLevel(), Taxonomy(\"polymers1\"))"
   ]
  },
  {
   "attachments": {},
   "cell_type": "markdown",
   "metadata": {},
   "source": [
    "Assume we're interested in the subtypes of cellulose-based biopolymers and their special properties.\n",
    "We can combine the two taxonomies in a frequency analysis, like any other groupings:"
   ]
  },
  {
   "cell_type": "code",
   "execution_count": 48,
   "metadata": {},
   "outputs": [
    {
     "data": {
      "text/html": [
       "<div><div style = \"float: left;\"><span>28×3 DataFrame</span></div><div style = \"float: right;\"><span style = \"font-style: italic;\">3 rows omitted</span></div><div style = \"clear: both;\"></div></div><div class = \"data-frame\" style = \"overflow-x: scroll;\"><table class = \"data-frame\" style = \"margin-bottom: 6px;\"><thead><tr class = \"header\"><th class = \"rowNumber\" style = \"font-weight: bold; text-align: right;\">Row</th><th style = \"text-align: left;\">polymers2</th><th style = \"text-align: left;\">special_properties</th><th style = \"text-align: left;\">families</th></tr><tr class = \"subheader headerLastRow\"><th class = \"rowNumber\" style = \"font-weight: bold; text-align: right;\"></th><th title = \"String\" style = \"text-align: left;\">String</th><th title = \"String\" style = \"text-align: left;\">String</th><th title = \"Int64\" style = \"text-align: left;\">Int64</th></tr></thead><tbody><tr><td class = \"rowNumber\" style = \"font-weight: bold; text-align: right;\">1</td><td style = \"text-align: left;\">cellulose acetate</td><td style = \"text-align: left;\">anti_odor</td><td style = \"text-align: right;\">79</td></tr><tr><td class = \"rowNumber\" style = \"font-weight: bold; text-align: right;\">2</td><td style = \"text-align: left;\">cellulose acetate</td><td style = \"text-align: left;\">antibacterial</td><td style = \"text-align: right;\">138</td></tr><tr><td class = \"rowNumber\" style = \"font-weight: bold; text-align: right;\">3</td><td style = \"text-align: left;\">cellulose acetate</td><td style = \"text-align: left;\">antistatic</td><td style = \"text-align: right;\">121</td></tr><tr><td class = \"rowNumber\" style = \"font-weight: bold; text-align: right;\">4</td><td style = \"text-align: left;\">cellulose acetate</td><td style = \"text-align: left;\">chemical_resistant</td><td style = \"text-align: right;\">385</td></tr><tr><td class = \"rowNumber\" style = \"font-weight: bold; text-align: right;\">5</td><td style = \"text-align: left;\">cellulose acetate</td><td style = \"text-align: left;\">flame_retardant</td><td style = \"text-align: right;\">235</td></tr><tr><td class = \"rowNumber\" style = \"font-weight: bold; text-align: right;\">6</td><td style = \"text-align: left;\">cellulose acetate</td><td style = \"text-align: left;\">insect_repellant</td><td style = \"text-align: right;\">81</td></tr><tr><td class = \"rowNumber\" style = \"font-weight: bold; text-align: right;\">7</td><td style = \"text-align: left;\">cellulose acetate</td><td style = \"text-align: left;\">uv_resistant</td><td style = \"text-align: right;\">176</td></tr><tr><td class = \"rowNumber\" style = \"font-weight: bold; text-align: right;\">8</td><td style = \"text-align: left;\">ethyl cellulose</td><td style = \"text-align: left;\">anti_odor</td><td style = \"text-align: right;\">65</td></tr><tr><td class = \"rowNumber\" style = \"font-weight: bold; text-align: right;\">9</td><td style = \"text-align: left;\">ethyl cellulose</td><td style = \"text-align: left;\">antibacterial</td><td style = \"text-align: right;\">105</td></tr><tr><td class = \"rowNumber\" style = \"font-weight: bold; text-align: right;\">10</td><td style = \"text-align: left;\">ethyl cellulose</td><td style = \"text-align: left;\">antistatic</td><td style = \"text-align: right;\">91</td></tr><tr><td class = \"rowNumber\" style = \"font-weight: bold; text-align: right;\">11</td><td style = \"text-align: left;\">ethyl cellulose</td><td style = \"text-align: left;\">chemical_resistant</td><td style = \"text-align: right;\">245</td></tr><tr><td class = \"rowNumber\" style = \"font-weight: bold; text-align: right;\">12</td><td style = \"text-align: left;\">ethyl cellulose</td><td style = \"text-align: left;\">flame_retardant</td><td style = \"text-align: right;\">132</td></tr><tr><td class = \"rowNumber\" style = \"font-weight: bold; text-align: right;\">13</td><td style = \"text-align: left;\">ethyl cellulose</td><td style = \"text-align: left;\">insect_repellant</td><td style = \"text-align: right;\">69</td></tr><tr><td style = \"text-align: right;\">&vellip;</td><td style = \"text-align: right;\">&vellip;</td><td style = \"text-align: right;\">&vellip;</td><td style = \"text-align: right;\">&vellip;</td></tr><tr><td class = \"rowNumber\" style = \"font-weight: bold; text-align: right;\">17</td><td style = \"text-align: left;\">methyl cellulose</td><td style = \"text-align: left;\">antistatic</td><td style = \"text-align: right;\">97</td></tr><tr><td class = \"rowNumber\" style = \"font-weight: bold; text-align: right;\">18</td><td style = \"text-align: left;\">methyl cellulose</td><td style = \"text-align: left;\">chemical_resistant</td><td style = \"text-align: right;\">305</td></tr><tr><td class = \"rowNumber\" style = \"font-weight: bold; text-align: right;\">19</td><td style = \"text-align: left;\">methyl cellulose</td><td style = \"text-align: left;\">flame_retardant</td><td style = \"text-align: right;\">172</td></tr><tr><td class = \"rowNumber\" style = \"font-weight: bold; text-align: right;\">20</td><td style = \"text-align: left;\">methyl cellulose</td><td style = \"text-align: left;\">insect_repellant</td><td style = \"text-align: right;\">78</td></tr><tr><td class = \"rowNumber\" style = \"font-weight: bold; text-align: right;\">21</td><td style = \"text-align: left;\">methyl cellulose</td><td style = \"text-align: left;\">uv_resistant</td><td style = \"text-align: right;\">137</td></tr><tr><td class = \"rowNumber\" style = \"font-weight: bold; text-align: right;\">22</td><td style = \"text-align: left;\">viscose / rayon</td><td style = \"text-align: left;\">anti_odor</td><td style = \"text-align: right;\">119</td></tr><tr><td class = \"rowNumber\" style = \"font-weight: bold; text-align: right;\">23</td><td style = \"text-align: left;\">viscose / rayon</td><td style = \"text-align: left;\">antibacterial</td><td style = \"text-align: right;\">149</td></tr><tr><td class = \"rowNumber\" style = \"font-weight: bold; text-align: right;\">24</td><td style = \"text-align: left;\">viscose / rayon</td><td style = \"text-align: left;\">antistatic</td><td style = \"text-align: right;\">202</td></tr><tr><td class = \"rowNumber\" style = \"font-weight: bold; text-align: right;\">25</td><td style = \"text-align: left;\">viscose / rayon</td><td style = \"text-align: left;\">chemical_resistant</td><td style = \"text-align: right;\">599</td></tr><tr><td class = \"rowNumber\" style = \"font-weight: bold; text-align: right;\">26</td><td style = \"text-align: left;\">viscose / rayon</td><td style = \"text-align: left;\">flame_retardant</td><td style = \"text-align: right;\">485</td></tr><tr><td class = \"rowNumber\" style = \"font-weight: bold; text-align: right;\">27</td><td style = \"text-align: left;\">viscose / rayon</td><td style = \"text-align: left;\">insect_repellant</td><td style = \"text-align: right;\">65</td></tr><tr><td class = \"rowNumber\" style = \"font-weight: bold; text-align: right;\">28</td><td style = \"text-align: left;\">viscose / rayon</td><td style = \"text-align: left;\">uv_resistant</td><td style = \"text-align: right;\">254</td></tr></tbody></table></div>"
      ],
      "text/latex": [
       "\\begin{tabular}{r|ccc}\n",
       "\t& polymers2 & special\\_properties & families\\\\\n",
       "\t\\hline\n",
       "\t& String & String & Int64\\\\\n",
       "\t\\hline\n",
       "\t1 & cellulose acetate & anti\\_odor & 79 \\\\\n",
       "\t2 & cellulose acetate & antibacterial & 138 \\\\\n",
       "\t3 & cellulose acetate & antistatic & 121 \\\\\n",
       "\t4 & cellulose acetate & chemical\\_resistant & 385 \\\\\n",
       "\t5 & cellulose acetate & flame\\_retardant & 235 \\\\\n",
       "\t6 & cellulose acetate & insect\\_repellant & 81 \\\\\n",
       "\t7 & cellulose acetate & uv\\_resistant & 176 \\\\\n",
       "\t8 & ethyl cellulose & anti\\_odor & 65 \\\\\n",
       "\t9 & ethyl cellulose & antibacterial & 105 \\\\\n",
       "\t10 & ethyl cellulose & antistatic & 91 \\\\\n",
       "\t11 & ethyl cellulose & chemical\\_resistant & 245 \\\\\n",
       "\t12 & ethyl cellulose & flame\\_retardant & 132 \\\\\n",
       "\t13 & ethyl cellulose & insect\\_repellant & 69 \\\\\n",
       "\t14 & ethyl cellulose & uv\\_resistant & 118 \\\\\n",
       "\t15 & methyl cellulose & anti\\_odor & 69 \\\\\n",
       "\t16 & methyl cellulose & antibacterial & 122 \\\\\n",
       "\t17 & methyl cellulose & antistatic & 97 \\\\\n",
       "\t18 & methyl cellulose & chemical\\_resistant & 305 \\\\\n",
       "\t19 & methyl cellulose & flame\\_retardant & 172 \\\\\n",
       "\t20 & methyl cellulose & insect\\_repellant & 78 \\\\\n",
       "\t21 & methyl cellulose & uv\\_resistant & 137 \\\\\n",
       "\t22 & viscose / rayon & anti\\_odor & 119 \\\\\n",
       "\t23 & viscose / rayon & antibacterial & 149 \\\\\n",
       "\t24 & viscose / rayon & antistatic & 202 \\\\\n",
       "\t$\\dots$ & $\\dots$ & $\\dots$ & $\\dots$ \\\\\n",
       "\\end{tabular}\n"
      ],
      "text/plain": [
       "\u001b[1m28×3 DataFrame\u001b[0m\n",
       "\u001b[1m Row \u001b[0m│\u001b[1m polymers2         \u001b[0m\u001b[1m special_properties \u001b[0m\u001b[1m families \u001b[0m\n",
       "     │\u001b[90m String            \u001b[0m\u001b[90m String             \u001b[0m\u001b[90m Int64    \u001b[0m\n",
       "─────┼─────────────────────────────────────────────────\n",
       "   1 │ cellulose acetate  anti_odor                 79\n",
       "   2 │ cellulose acetate  antibacterial            138\n",
       "   3 │ cellulose acetate  antistatic               121\n",
       "   4 │ cellulose acetate  chemical_resistant       385\n",
       "   5 │ cellulose acetate  flame_retardant          235\n",
       "   6 │ cellulose acetate  insect_repellant          81\n",
       "   7 │ cellulose acetate  uv_resistant             176\n",
       "   8 │ ethyl cellulose    anti_odor                 65\n",
       "  ⋮  │         ⋮                  ⋮              ⋮\n",
       "  22 │ viscose / rayon    anti_odor                119\n",
       "  23 │ viscose / rayon    antibacterial            149\n",
       "  24 │ viscose / rayon    antistatic               202\n",
       "  25 │ viscose / rayon    chemical_resistant       599\n",
       "  26 │ viscose / rayon    flame_retardant          485\n",
       "  27 │ viscose / rayon    insect_repellant          65\n",
       "  28 │ viscose / rayon    uv_resistant             254\n",
       "\u001b[36m                                        13 rows omitted\u001b[0m"
      ]
     },
     "metadata": {},
     "output_type": "display_data"
    }
   ],
   "source": [
    "prepdata(\n",
    "    demo_db,\n",
    "    Frequency(),\n",
    "    FamilyLevel(), \n",
    "    TaxonomicFilter(\"polymers1\", [\"Cellulose-based\"]), \n",
    "    Taxonomy(\"polymers2\", [\"cellulose acetate\", \"viscose / rayon\", \"methyl cellulose\", \"ethyl cellulose\"]), \n",
    "    Taxonomy(\"special_properties\"))"
   ]
  },
  {
   "attachments": {},
   "cell_type": "markdown",
   "metadata": {},
   "source": [
    "## 5. Returning to the object model\n",
    "\n",
    "Sometimes during exploration, a part of the data may be so interesting that we want to have a closer look.\n",
    "To do this, we can pull the result of any filter from the database and get back the original object model, which we can then inspect.\n",
    "Note that because this requires us to reverse the Object-Relational Mapping (ORM), it may take a few minutes depending on how much data is extracted. "
   ]
  },
  {
   "cell_type": "code",
   "execution_count": 50,
   "metadata": {},
   "outputs": [
    {
     "data": {
      "text/plain": [
       "581-element Vector{LensFamily}:\n",
       " LensFamily(LensApplication[000-310-338-078-328 | 2020-12-22 | US10870768B2, 000-310-338-078-328 | 2020-12-22 | US10870768B2])\n",
       " LensFamily(LensApplication[000-724-328-555-506 | 2016-11-08 | US9485990B2, 000-724-328-555-506 | 2016-11-08 | US9485990B2, 101-466-697-696-913 | 2015-03-05 | US20150064226A1, 106-537-696-923-245 | 2011-10-20 | US20110256198A1, 187-509-617-345-257 | 2014-12-09 | US8906398B2])\n",
       " LensFamily(LensApplication[000-919-196-122-556 | 2013-02-13 | EP2334491B1, 000-919-196-122-556 | 2013-02-13 | EP2334491B1, 076-244-845-658-671 | 2010-04-15 | WO2010042465A1, 111-858-535-811-902 | 2011-07-14 | US20110171867A1])\n",
       " LensFamily(LensApplication[001-045-494-297-313 | 2006-09-28 | WO2006101933A2, 001-045-494-297-313 | 2006-09-28 | WO2006101933A2, 099-666-304-484-845 | 2006-09-21 | US20060211319A1])\n",
       " LensFamily(LensApplication[001-077-883-141-538 | 2009-12-10 | US20090305025A1, 001-077-883-141-538 | 2009-12-10 | US20090305025A1, 027-822-370-504-963 | 2010-03-16 | US7678717B2, 052-607-428-033-16X | 2010-05-18 | US7718557B2, 186-036-476-485-69X | 2007-11-15 | US20070264893A1, 188-235-242-445-200 | 2009-12-03 | US20090297821A1])\n",
       " LensFamily(LensApplication[001-300-481-759-828 | 2019-06-26 | EP3501316A1, 001-300-481-759-828 | 2019-06-26 | EP3501316A1, 009-133-469-235-082 | 2022-05-05 | US20220132974A1, 057-304-723-948-315 | 2022-10-26 | EP4079181A1, 083-949-576-877-481 | 2019-08-01 | US20190231021A1, 163-135-215-001-166 | 2021-11-09 | US11166517B2, 179-931-019-050-663 | 2022-06-15 | EP3501316B1])\n",
       " LensFamily(LensApplication[001-305-841-962-428 | 2011-04-28 | US20110095931A1, 001-305-841-962-428 | 2011-04-28 | US20110095931A1, 067-882-350-172-266 | 2009-02-05 | WO2009017520A2, 087-534-882-488-530 | 2011-09-06 | US8013776B2])\n",
       " LensFamily(LensApplication[001-548-621-952-793 | 2019-02-13 | EP3440951A1, 001-548-621-952-793 | 2019-02-13 | EP3440951A1, 019-638-564-161-735 | 2021-11-02 | US11160320B2, 172-224-295-529-497 | 2019-01-31 | US20190029335A1, 179-773-884-537-387 | 2023-02-15 | EP3440951B1])\n",
       " LensFamily(LensApplication[001-872-176-795-72X | 2023-02-08 | EP4130174A1, 001-872-176-795-72X | 2023-02-08 | EP4130174A1])\n",
       " LensFamily(LensApplication[001-903-654-140-189 | 2017-04-04 | US9613733B2, 001-903-654-140-189 | 2017-04-04 | US9613733B2, 182-456-190-159-093 | 2015-01-15 | US20150013875A1])\n",
       " ⋮\n",
       " LensFamily(LensApplication[194-927-330-844-337 | 2011-05-24 | US7947789B2, 194-927-330-844-337 | 2011-05-24 | US7947789B2])\n",
       " LensFamily(LensApplication[195-567-667-529-674 | 2022-04-07 | WO2022070135A1, 195-567-667-529-674 | 2022-04-07 | WO2022070135A1])\n",
       " LensFamily(LensApplication[196-050-569-477-916 | 2018-09-21 | CN108560257A, 196-050-569-477-916 | 2018-09-21 | CN108560257A])\n",
       " LensFamily(LensApplication[196-107-635-503-890 | 2022-10-27 | US20220345561A1, 196-107-635-503-890 | 2022-10-27 | US20220345561A1])\n",
       " LensFamily(LensApplication[196-821-985-290-221 | 2001-09-07 | WO2001064985A2, 196-821-985-290-221 | 2001-09-07 | WO2001064985A2])\n",
       " LensFamily(LensApplication[197-061-884-512-654 | 1977-08-23 | US4044006A, 197-061-884-512-654 | 1977-08-23 | US4044006A])\n",
       " LensFamily(LensApplication[198-706-453-523-628 | 2017-12-05 | CN206703633U, 198-706-453-523-628 | 2017-12-05 | CN206703633U])\n",
       " LensFamily(LensApplication[199-885-547-174-062 | 2023-02-02 | US20230030890A1, 199-885-547-174-062 | 2023-02-02 | US20230030890A1])\n",
       " LensFamily(LensApplication[199-937-587-830-126 | 2018-04-12 | US20180100256A1, 199-937-587-830-126 | 2018-04-12 | US20180100256A1])"
      ]
     },
     "metadata": {},
     "output_type": "display_data"
    }
   ],
   "source": [
    "filter8 = TaxonomicFilter(\"polymers1\", [\"Cellulose-based\"]) & TaxonomicFilter(\"special_properties\", [\"flame_retardant\"])\n",
    "fams = families(demo_db, filter8)"
   ]
  },
  {
   "cell_type": "code",
   "execution_count": 56,
   "metadata": {},
   "outputs": [
    {
     "name": "stdout",
     "output_type": "stream",
     "text": [
      "(en) Composition for making coated yarn\n"
     ]
    },
    {
     "name": "stdout",
     "output_type": "stream",
     "text": [
      "(en) An aqueous composition is used to clad yarn cores to provide unique coated yarns. This aqueous composition contains: (i) porous particles present in an amount of at least 2 weight % and up to and including 10 weight %, each porous particle comprising a continuous polymeric phase and discrete pores dispersed within the continuous polymeric phase, the porous particles having a mode particle size of 2-50 μm; (ii) a film-forming binder material having a Tg of less than or equal to 25° C., that is present in an amount of 25-60 weight %; (iii) an inorganic filler material having a value of less than 5 on the MOHS scale of mineral hardness, in an amount of at least 2-15 weight %; and (iv) an aqueous medium in an amount of at least 35 weight % in which the film-forming binder material is soluble or dispersible.\n"
     ]
    }
   ],
   "source": [
    "app = applications(fams[1])[1] # get the first application from the first family extracted\n",
    "title(app) |> println\n",
    "abstract(app) |> println"
   ]
  }
 ],
 "metadata": {
  "kernelspec": {
   "display_name": "Julia 1.8.5",
   "language": "julia",
   "name": "julia-1.8"
  },
  "language_info": {
   "file_extension": ".jl",
   "mimetype": "application/julia",
   "name": "julia",
   "version": "1.8.5"
  },
  "orig_nbformat": 4,
  "vscode": {
   "interpreter": {
    "hash": "e7370f93d1d0cde622a1f8e1c04877d8463912d04d973331ad4851f04de6915a"
   }
  }
 },
 "nbformat": 4,
 "nbformat_minor": 2
}
