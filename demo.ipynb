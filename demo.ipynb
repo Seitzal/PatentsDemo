{
 "cells": [
  {
   "attachments": {},
   "cell_type": "markdown",
   "metadata": {},
   "source": [
    "# JuliaPatents + Lens.org demo\n",
    "\n",
    "(c) 2023 Alex Seitz <ei271@uni-heidelberg.de>\n",
    "\n",
    "JuliaPatents is a Julia package ecosystem currently in development for patent data analysis.\n",
    "It currently provides support for [Lens.org](https://lens.org) as a data source,\n",
    "and will eventually also support [PatStat](https://www.epo.org/searching-for-patents/business/patstat.html).\n",
    "\n",
    "## Components\n",
    "\n",
    "The ecosystem consists of the following packages:\n",
    "- *PatentsBase* for general interface functions\n",
    "- *PatentsLandscapes* for analysis functions and custom taxonomies\n",
    "- *PatentsLens* for use of the Lens.org data source\n",
    "\n",
    "## Scope of this demo\n",
    "\n",
    "This demo is focused on the SQLite data model.\n",
    "See the [official PatentsBase documentation](https://juliapatents.github.io/PatentsBase.jl/) for information on the object model and general functionality.\n",
    "\n",
    "## 0. Preparation\n",
    "\n",
    "### Subscribing to the registry\n",
    "\n",
    "JuliaPatents packages are currently not in the general registry.\n",
    "Therefore, the JuliaPatents registry must be added once on every device."
   ]
  },
  {
   "cell_type": "code",
   "execution_count": 1,
   "metadata": {},
   "outputs": [
    {
     "name": "stderr",
     "output_type": "stream",
     "text": [
      "┌ Warning: The Pkg REPL mode is intended for interactive use only, and should not be used from scripts. It is recommended to use the functional API instead.\n",
      "└ @ Pkg.REPLMode /cache/build/default-amdci4-2/julialang/julia-release-1-dot-8/usr/share/julia/stdlib/v1.8/Pkg/src/REPLMode/REPLMode.jl:379\n"
     ]
    },
    {
     "name": "stderr",
     "output_type": "stream",
     "text": [
      "\u001b[32m\u001b[1m     Cloning\u001b[22m\u001b[39m registry from \"https://github.com/JuliaPatents/Registry\"\n"
     ]
    },
    {
     "name": "stderr",
     "output_type": "stream",
     "text": [
      "Registry `JuliaPatents` already exists in `~/.julia/registries/JuliaPatents`.\n"
     ]
    }
   ],
   "source": [
    "using Pkg\n",
    "pkg\"registry add https://github.com/JuliaPatents/Registry\""
   ]
  },
  {
   "attachments": {},
   "cell_type": "markdown",
   "metadata": {},
   "source": [
    "### Acquiring the packages"
   ]
  },
  {
   "cell_type": "code",
   "execution_count": 2,
   "metadata": {},
   "outputs": [
    {
     "name": "stderr",
     "output_type": "stream",
     "text": [
      "\u001b[32m\u001b[1m    Updating\u001b[22m\u001b[39m registry at `~/.julia/registries/JuliaPatents`\n",
      "\u001b[32m\u001b[1m    Updating\u001b[22m\u001b[39m git-repo `https://github.com/JuliaPatents/Registry`\n"
     ]
    },
    {
     "name": "stderr",
     "output_type": "stream",
     "text": [
      "\u001b[32m\u001b[1m    Updating\u001b[22m\u001b[39m registry at `~/.julia/registries/General.toml`\n"
     ]
    },
    {
     "name": "stderr",
     "output_type": "stream",
     "text": [
      "\u001b[32m\u001b[1m   Resolving\u001b[22m\u001b[39m package versions...\n"
     ]
    },
    {
     "name": "stderr",
     "output_type": "stream",
     "text": [
      "\u001b[32m\u001b[1m   Installed\u001b[22m\u001b[39m InvertedIndices ─ v1.3.0\n",
      "\u001b[32m\u001b[1m   Installed\u001b[22m\u001b[39m Compat ────────── v4.6.1\n",
      "\u001b[32m\u001b[1m   Installed\u001b[22m\u001b[39m Parsers ───────── v2.5.8\n",
      "\u001b[32m\u001b[1m   Installed\u001b[22m\u001b[39m Tables ────────── v1.10.1\n"
     ]
    },
    {
     "name": "stderr",
     "output_type": "stream",
     "text": [
      "\u001b[32m\u001b[1m   Installed\u001b[22m\u001b[39m StaticArrays ──── v1.5.19\n"
     ]
    },
    {
     "name": "stderr",
     "output_type": "stream",
     "text": [
      "\u001b[32m\u001b[1m   Installed\u001b[22m\u001b[39m PatentsBase ───── v0.1.5\n",
      "\u001b[32m\u001b[1m   Installed\u001b[22m\u001b[39m PatentsLens ───── v0.2.1\n"
     ]
    },
    {
     "name": "stderr",
     "output_type": "stream",
     "text": [
      "\u001b[32m\u001b[1m   Installed\u001b[22m\u001b[39m PrettyTables ──── v2.2.3\n"
     ]
    },
    {
     "name": "stderr",
     "output_type": "stream",
     "text": [
      "\u001b[32m\u001b[1m    Updating\u001b[22m\u001b[39m `~/code/PatentsDemo/Project.toml`\n",
      " \u001b[90m [b32246e4] \u001b[39m\u001b[92m+ PatentsBase v0.1.5\u001b[39m\n",
      " \u001b[90m [e90634b4] \u001b[39m\u001b[92m+ PatentsLandscapes v0.1.2\u001b[39m\n",
      " \u001b[90m [f4645b53] \u001b[39m\u001b[92m+ PatentsLens v0.2.1\u001b[39m\n",
      "\u001b[32m\u001b[1m    Updating\u001b[22m\u001b[39m `~/code/PatentsDemo/Manifest.toml`\n",
      " \u001b[90m [a4c015fc] \u001b[39m\u001b[92m+ ANSIColoredPrinters v0.0.1\u001b[39m\n",
      " \u001b[90m [ec485272] \u001b[39m\u001b[92m+ ArnoldiMethod v0.2.0\u001b[39m\n",
      " \u001b[90m [34da2185] \u001b[39m\u001b[92m+ Compat v4.6.1\u001b[39m\n",
      " \u001b[90m [a8cc5b0e] \u001b[39m\u001b[92m+ Crayons v4.1.1\u001b[39m\n",
      " \u001b[90m [a10d1c49] \u001b[39m\u001b[92m+ DBInterface v2.5.0\u001b[39m\n",
      " \u001b[90m [9a962f9c] \u001b[39m\u001b[92m+ DataAPI v1.14.0\u001b[39m\n",
      " \u001b[90m [a93c6f00] \u001b[39m\u001b[92m+ DataFrames v1.5.0\u001b[39m\n",
      " \u001b[90m [864edb3b] \u001b[39m\u001b[92m+ DataStructures v0.18.13\u001b[39m\n",
      " \u001b[90m [e2d170a0] \u001b[39m\u001b[92m+ DataValueInterfaces v1.0.0\u001b[39m\n",
      " \u001b[90m [ffbed154] \u001b[39m\u001b[92m+ DocStringExtensions v0.9.3\u001b[39m\n",
      " \u001b[90m [e30172f5] \u001b[39m\u001b[92m+ Documenter v0.27.24\u001b[39m\n",
      " \u001b[90m [59287772] \u001b[39m\u001b[92m+ Formatting v0.4.2\u001b[39m\n",
      " \u001b[90m [86223c79] \u001b[39m\u001b[92m+ Graphs v1.8.0\u001b[39m\n",
      " \u001b[90m [b5f81e59] \u001b[39m\u001b[92m+ IOCapture v0.2.2\u001b[39m\n",
      " \u001b[90m [d25df0c9] \u001b[39m\u001b[92m+ Inflate v0.1.3\u001b[39m\n",
      " \u001b[90m [842dd82b] \u001b[39m\u001b[92m+ InlineStrings v1.4.0\u001b[39m\n",
      " \u001b[90m [41ab1584] \u001b[39m\u001b[92m+ InvertedIndices v1.3.0\u001b[39m\n",
      " \u001b[90m [82899510] \u001b[39m\u001b[92m+ IteratorInterfaceExtensions v1.0.0\u001b[39m\n",
      " \u001b[90m [692b3bcd] \u001b[39m\u001b[92m+ JLLWrappers v1.4.1\u001b[39m\n",
      " \u001b[90m [682c06a0] \u001b[39m\u001b[92m+ JSON v0.21.3\u001b[39m\n",
      " \u001b[90m [0f8b85d8] \u001b[39m\u001b[92m+ JSON3 v1.12.0\u001b[39m\n",
      " \u001b[90m [b964fa9f] \u001b[39m\u001b[92m+ LaTeXStrings v1.3.0\u001b[39m\n",
      " \u001b[90m [1914dd2f] \u001b[39m\u001b[92m+ MacroTools v0.5.10\u001b[39m\n",
      " \u001b[90m [e1d29d7a] \u001b[39m\u001b[92m+ Missings v1.1.0\u001b[39m\n",
      " \u001b[90m [bac558e1] \u001b[39m\u001b[92m+ OrderedCollections v1.4.1\u001b[39m\n",
      " \u001b[90m [69de0a69] \u001b[39m\u001b[92m+ Parsers v2.5.8\u001b[39m\n",
      " \u001b[90m [b32246e4] \u001b[39m\u001b[92m+ PatentsBase v0.1.5\u001b[39m\n",
      " \u001b[90m [e90634b4] \u001b[39m\u001b[92m+ PatentsLandscapes v0.1.2\u001b[39m\n",
      " \u001b[90m [f4645b53] \u001b[39m\u001b[92m+ PatentsLens v0.2.1\u001b[39m\n",
      " \u001b[90m [2dfb63ee] \u001b[39m\u001b[92m+ PooledArrays v1.4.2\u001b[39m\n",
      " \u001b[90m [21216c6a] \u001b[39m\u001b[92m+ Preferences v1.3.0\u001b[39m\n",
      " \u001b[90m [08abe8d2] \u001b[39m\u001b[92m+ PrettyTables v2.2.3\u001b[39m\n",
      " \u001b[90m [189a3867] \u001b[39m\u001b[92m+ Reexport v1.2.2\u001b[39m\n",
      " \u001b[90m [0aa819cd] \u001b[39m\u001b[92m+ SQLite v1.6.0\u001b[39m\n",
      " \u001b[90m [91c51154] \u001b[39m\u001b[92m+ SentinelArrays v1.3.18\u001b[39m\n",
      " \u001b[90m [699a6c99] \u001b[39m\u001b[92m+ SimpleTraits v0.9.4\u001b[39m\n",
      " \u001b[90m [66db9d55] \u001b[39m\u001b[92m+ SnoopPrecompile v1.0.3\u001b[39m\n",
      " \u001b[90m [a2af1166] \u001b[39m\u001b[92m+ SortingAlgorithms v1.1.0\u001b[39m\n",
      " \u001b[90m [90137ffa] \u001b[39m\u001b[92m+ StaticArrays v1.5.19\u001b[39m\n",
      " \u001b[90m [1e83bf80] \u001b[39m\u001b[92m+ StaticArraysCore v1.4.0\u001b[39m\n",
      " \u001b[90m [892a3eda] \u001b[39m\u001b[92m+ StringManipulation v0.3.0\u001b[39m\n",
      " \u001b[90m [856f2bd8] \u001b[39m\u001b[92m+ StructTypes v1.10.0\u001b[39m\n",
      " \u001b[90m [3783bdb8] \u001b[39m\u001b[92m+ TableTraits v1.0.1\u001b[39m\n",
      " \u001b[90m [bd369af6] \u001b[39m\u001b[92m+ Tables v1.10.1\u001b[39m\n",
      " \u001b[90m [ea10d353] \u001b[39m\u001b[92m+ WeakRefStrings v1.4.2\u001b[39m\n",
      " \u001b[90m [76ed43ae] \u001b[39m\u001b[92m+ SQLite_jll v3.41.0+0\u001b[39m\n",
      " \u001b[90m [56f22d72] \u001b[39m\u001b[92m+ Artifacts\u001b[39m\n",
      " \u001b[90m [2a0f44e3] \u001b[39m\u001b[92m+ Base64\u001b[39m\n",
      " \u001b[90m [ade2ca70] \u001b[39m\u001b[92m+ Dates\u001b[39m\n",
      " \u001b[90m [8ba89e20] \u001b[39m\u001b[92m+ Distributed\u001b[39m\n",
      " \u001b[90m [9fa8497b] \u001b[39m\u001b[92m+ Future\u001b[39m\n",
      " \u001b[90m [b77e0a4c] \u001b[39m\u001b[92m+ InteractiveUtils\u001b[39m\n",
      " \u001b[90m [76f85450] \u001b[39m\u001b[92m+ LibGit2\u001b[39m\n",
      " \u001b[90m [8f399da3] \u001b[39m\u001b[92m+ Libdl\u001b[39m\n",
      " \u001b[90m [37e2e46d] \u001b[39m\u001b[92m+ LinearAlgebra\u001b[39m\n",
      " \u001b[90m [56ddb016] \u001b[39m\u001b[92m+ Logging\u001b[39m\n",
      " \u001b[90m [d6f4376e] \u001b[39m\u001b[92m+ Markdown\u001b[39m\n",
      " \u001b[90m [a63ad114] \u001b[39m\u001b[92m+ Mmap\u001b[39m\n",
      " \u001b[90m [ca575930] \u001b[39m\u001b[92m+ NetworkOptions v1.2.0\u001b[39m\n",
      " \u001b[90m [de0858da] \u001b[39m\u001b[92m+ Printf\u001b[39m\n",
      " \u001b[90m [3fa0cd96] \u001b[39m\u001b[92m+ REPL\u001b[39m\n",
      " \u001b[90m [9a3f8284] \u001b[39m\u001b[92m+ Random\u001b[39m\n",
      " \u001b[90m [ea8e919c] \u001b[39m\u001b[92m+ SHA v0.7.0\u001b[39m\n",
      " \u001b[90m [9e88b42a] \u001b[39m\u001b[92m+ Serialization\u001b[39m\n",
      " \u001b[90m [1a1011a3] \u001b[39m\u001b[92m+ SharedArrays\u001b[39m\n",
      " \u001b[90m [6462fe0b] \u001b[39m\u001b[92m+ Sockets\u001b[39m\n",
      " \u001b[90m [2f01184e] \u001b[39m\u001b[92m+ SparseArrays\u001b[39m\n",
      " \u001b[90m [10745b16] \u001b[39m\u001b[92m+ Statistics\u001b[39m\n",
      " \u001b[90m [fa267f1f] \u001b[39m\u001b[92m+ TOML v1.0.0\u001b[39m\n",
      " \u001b[90m [8dfed614] \u001b[39m\u001b[92m+ Test\u001b[39m\n",
      " \u001b[90m [cf7118a7] \u001b[39m\u001b[92m+ UUIDs\u001b[39m\n",
      " \u001b[90m [4ec0a83e] \u001b[39m\u001b[92m+ Unicode\u001b[39m\n",
      " \u001b[90m [e66e0078] \u001b[39m\u001b[92m+ CompilerSupportLibraries_jll v1.0.1+0\u001b[39m\n",
      " \u001b[90m [4536629a] \u001b[39m\u001b[92m+ OpenBLAS_jll v0.3.20+0\u001b[39m\n",
      " \u001b[90m [83775a58] \u001b[39m\u001b[92m+ Zlib_jll v1.2.12+3\u001b[39m\n",
      " \u001b[90m [8e850b90] \u001b[39m\u001b[92m+ libblastrampoline_jll v5.1.1+0\u001b[39m\n"
     ]
    },
    {
     "name": "stderr",
     "output_type": "stream",
     "text": [
      "\u001b[32m\u001b[1mPrecompiling\u001b[22m\u001b[39m project...\n"
     ]
    },
    {
     "name": "stderr",
     "output_type": "stream",
     "text": [
      "\u001b[32m  ✓ \u001b[39m\u001b[90mInvertedIndices\u001b[39m\n"
     ]
    },
    {
     "name": "stderr",
     "output_type": "stream",
     "text": [
      "\u001b[32m  ✓ \u001b[39m\u001b[90mCompat\u001b[39m\n"
     ]
    },
    {
     "name": "stderr",
     "output_type": "stream",
     "text": [
      "\u001b[32m  ✓ \u001b[39m\u001b[90mTables\u001b[39m\n"
     ]
    },
    {
     "name": "stderr",
     "output_type": "stream",
     "text": [
      "\u001b[32m  ✓ \u001b[39m\u001b[90mDataStructures\u001b[39m\n"
     ]
    },
    {
     "name": "stderr",
     "output_type": "stream",
     "text": [
      "\u001b[32m  ✓ \u001b[39m\u001b[90mSortingAlgorithms\u001b[39m\n"
     ]
    },
    {
     "name": "stderr",
     "output_type": "stream",
     "text": [
      "\u001b[32m  ✓ \u001b[39m\u001b[90mStaticArrays\u001b[39m\n"
     ]
    },
    {
     "name": "stderr",
     "output_type": "stream",
     "text": [
      "\u001b[32m  ✓ \u001b[39m\u001b[90mPrettyTables\u001b[39m\n"
     ]
    },
    {
     "name": "stderr",
     "output_type": "stream",
     "text": [
      "\u001b[32m  ✓ \u001b[39m\u001b[90mArnoldiMethod\u001b[39m\n"
     ]
    },
    {
     "name": "stderr",
     "output_type": "stream",
     "text": [
      "\u001b[32m  ✓ \u001b[39m\u001b[90mParsers\u001b[39m\n"
     ]
    },
    {
     "name": "stderr",
     "output_type": "stream",
     "text": [
      "\u001b[32m  ✓ \u001b[39m\u001b[90mGraphs\u001b[39m\n"
     ]
    },
    {
     "name": "stderr",
     "output_type": "stream",
     "text": [
      "\u001b[32m  ✓ \u001b[39m\u001b[90mJSON\u001b[39m\n",
      "\u001b[32m  ✓ \u001b[39m\u001b[90mInlineStrings\u001b[39m\n"
     ]
    },
    {
     "name": "stderr",
     "output_type": "stream",
     "text": [
      "\u001b[32m  ✓ \u001b[39m\u001b[90mWeakRefStrings\u001b[39m\n"
     ]
    },
    {
     "name": "stderr",
     "output_type": "stream",
     "text": [
      "\u001b[32m  ✓ \u001b[39mPatentsBase\n"
     ]
    },
    {
     "name": "stderr",
     "output_type": "stream",
     "text": [
      "\u001b[32m  ✓ \u001b[39m\u001b[90mSQLite\u001b[39m\n",
      "\u001b[32m  ✓ \u001b[39m\u001b[90mJSON3\u001b[39m\n"
     ]
    },
    {
     "name": "stderr",
     "output_type": "stream",
     "text": [
      "\u001b[32m  ✓ \u001b[39m\u001b[90mDocumenter\u001b[39m\n"
     ]
    },
    {
     "name": "stderr",
     "output_type": "stream",
     "text": [
      "\u001b[32m  ✓ \u001b[39m\u001b[90mDataFrames\u001b[39m\n"
     ]
    },
    {
     "name": "stderr",
     "output_type": "stream",
     "text": [
      "\u001b[32m  ✓ \u001b[39mPatentsLandscapes\n"
     ]
    },
    {
     "name": "stderr",
     "output_type": "stream",
     "text": [
      "\u001b[32m  ✓ \u001b[39mPatentsLens\n",
      "  20 dependencies successfully precompiled in 27 seconds. 30 already precompiled.\n",
      "\u001b[32m\u001b[1m   Resolving\u001b[22m\u001b[39m package versions...\n",
      "\u001b[32m\u001b[1m  No Changes\u001b[22m\u001b[39m to `~/code/PatentsDemo/Project.toml`\n",
      "\u001b[32m\u001b[1m  No Changes\u001b[22m\u001b[39m to `~/code/PatentsDemo/Manifest.toml`\n"
     ]
    },
    {
     "name": "stderr",
     "output_type": "stream",
     "text": [
      "\u001b[32m\u001b[1m   Resolving\u001b[22m\u001b[39m package versions...\n",
      "\u001b[32m\u001b[1m  No Changes\u001b[22m\u001b[39m to `~/code/PatentsDemo/Project.toml`\n",
      "\u001b[32m\u001b[1m  No Changes\u001b[22m\u001b[39m to `~/code/PatentsDemo/Manifest.toml`\n"
     ]
    }
   ],
   "source": [
    "Pkg.add(\"PatentsBase\")\n",
    "Pkg.add(\"PatentsLandscapes\")\n",
    "Pkg.add(\"PatentsLens\")"
   ]
  },
  {
   "attachments": {},
   "cell_type": "markdown",
   "metadata": {},
   "source": [
    "### Loading the packages"
   ]
  },
  {
   "cell_type": "code",
   "execution_count": 3,
   "metadata": {},
   "outputs": [],
   "source": [
    "using PatentsBase, PatentsLens, PatentsLandscapes"
   ]
  },
  {
   "attachments": {},
   "cell_type": "markdown",
   "metadata": {},
   "source": [
    "## 1. Loading data into the database\n",
    "\n",
    "### Acquiring data\n",
    "\n",
    "Data should be downloaded from [Lens.org](https://lens.org) in the JSON Lines (.jsonl) format.\n",
    "For this demo, we'll be using a dataset of technical textiles patents.\n",
    "We will download the 50,000 most relevant patent documents related to the search term \"technical textile\" from Lens.\n",
    "Note: To download more than 1,000 documents at a time, a free Lens.org account is required.\n",
    "\n",
    "### Creating a database\n",
    "\n",
    "PatentsLens uses an SQLite backend, so there is no database server and databases are simply files."
   ]
  },
  {
   "cell_type": "code",
   "execution_count": 4,
   "metadata": {},
   "outputs": [
    {
     "data": {
      "text/plain": [
       "LensDB(SQLite.DB(\"demo.db\"))"
      ]
     },
     "metadata": {},
     "output_type": "display_data"
    }
   ],
   "source": [
    "demo_db = LensDB(\"demo.db\")"
   ]
  },
  {
   "attachments": {},
   "cell_type": "markdown",
   "metadata": {},
   "source": [
    "### Loading the data\n",
    "\n",
    "This step is quite computationally expensive as the data needs to transformed.\n",
    "It may take several minutes for larger datasets such as this one.\n",
    "The `skip_on_error` flag allows the loading process to skip malformatted lines in the data rather than fail when it encounters an error."
   ]
  },
  {
   "cell_type": "code",
   "execution_count": 5,
   "metadata": {},
   "outputs": [
    {
     "name": "stdout",
     "output_type": "stream",
     "text": [
      "Processing chunk #1 (app #1 - #5000)\n"
     ]
    },
    {
     "name": "stdout",
     "output_type": "stream",
     "text": [
      "Processing chunk #2 (app #5001 - #10000)\n"
     ]
    },
    {
     "name": "stdout",
     "output_type": "stream",
     "text": [
      "Processing chunk #3 (app #10001 - #15000)\n"
     ]
    },
    {
     "name": "stdout",
     "output_type": "stream",
     "text": [
      "Processing chunk #4 (app #15001 - #20000)\n"
     ]
    },
    {
     "name": "stdout",
     "output_type": "stream",
     "text": [
      "Processing chunk #5 (app #20001 - #25000)\n"
     ]
    },
    {
     "name": "stderr",
     "output_type": "stream",
     "text": [
      "Encountered parsing error in file technical-textile-50000.jsonl at line 20381:\n"
     ]
    },
    {
     "name": "stderr",
     "output_type": "stream",
     "text": [
      "MethodError: \u001b[0mCannot `convert` an object of type \u001b[92mNothing\u001b[39m\u001b[0m to an object of type \u001b[91mDates.Date\u001b[39m\n",
      "\u001b[0mClosest candidates are:\n",
      "\u001b[0m  convert(::Type{Dates.Date}, \u001b[91m::Dates.DateTime\u001b[39m) at /usr/share/julia/stdlib/v1.8/Dates/src/conversions.jl:31\n",
      "\u001b[0m  convert(::Type{Dates.Date}, \u001b[91m::Dates.Day\u001b[39m) at /usr/share/julia/stdlib/v1.8/Dates/src/conversions.jl:36\n",
      "\u001b[0m  convert(::Type{T}, \u001b[91m::T\u001b[39m) where T at Base.jl:61\n",
      "\u001b[0m  ..."
     ]
    },
    {
     "name": "stderr",
     "output_type": "stream",
     "text": [
      "\n"
     ]
    },
    {
     "name": "stdout",
     "output_type": "stream",
     "text": [
      "Processing chunk #6 (app #25001 - #30000)\n"
     ]
    },
    {
     "name": "stdout",
     "output_type": "stream",
     "text": [
      "Processing chunk #7 (app #30001 - #35000)\n"
     ]
    },
    {
     "name": "stdout",
     "output_type": "stream",
     "text": [
      "Processing chunk #8 (app #35001 - #40000)\n"
     ]
    },
    {
     "name": "stdout",
     "output_type": "stream",
     "text": [
      "Processing chunk #9 (app #40001 - #45000)\n"
     ]
    },
    {
     "name": "stdout",
     "output_type": "stream",
     "text": [
      "Processing chunk #10 (app #45001 - #50000)\n"
     ]
    },
    {
     "name": "stdout",
     "output_type": "stream",
     "text": [
      "Processing chunk #11 (app #50001 - #55000)\n"
     ]
    }
   ],
   "source": [
    "PatentsLens.load_jsonl!(demo_db, \"technical-textile-50000.jsonl\", skip_on_error = true)"
   ]
  },
  {
   "attachments": {},
   "cell_type": "markdown",
   "metadata": {},
   "source": [
    "### Checking if it worked\n",
    "\n",
    "(the syntax for this command will be explained further below)"
   ]
  },
  {
   "cell_type": "code",
   "execution_count": 6,
   "metadata": {},
   "outputs": [
    {
     "data": {
      "text/html": [
       "<div><div style = \"float: left;\"><span>1×1 DataFrame</span></div><div style = \"clear: both;\"></div></div><div class = \"data-frame\" style = \"overflow-x: scroll;\"><table class = \"data-frame\" style = \"margin-bottom: 6px;\"><thead><tr class = \"header\"><th class = \"rowNumber\" style = \"font-weight: bold; text-align: right;\">Row</th><th style = \"text-align: left;\">applications</th></tr><tr class = \"subheader headerLastRow\"><th class = \"rowNumber\" style = \"font-weight: bold; text-align: right;\"></th><th title = \"Int64\" style = \"text-align: left;\">Int64</th></tr></thead><tbody><tr><td class = \"rowNumber\" style = \"font-weight: bold; text-align: right;\">1</td><td style = \"text-align: right;\">49999</td></tr></tbody></table></div>"
      ],
      "text/latex": [
       "\\begin{tabular}{r|c}\n",
       "\t& applications\\\\\n",
       "\t\\hline\n",
       "\t& Int64\\\\\n",
       "\t\\hline\n",
       "\t1 & 49999 \\\\\n",
       "\\end{tabular}\n"
      ],
      "text/plain": [
       "\u001b[1m1×1 DataFrame\u001b[0m\n",
       "\u001b[1m Row \u001b[0m│\u001b[1m applications \u001b[0m\n",
       "     │\u001b[90m Int64        \u001b[0m\n",
       "─────┼──────────────\n",
       "   1 │        49999"
      ]
     },
     "metadata": {},
     "output_type": "display_data"
    }
   ],
   "source": [
    "prepdata(demo_db, Frequency(), ApplicationLevel())"
   ]
  },
  {
   "attachments": {},
   "cell_type": "markdown",
   "metadata": {},
   "source": [
    "## 2. Simple frequency analyses\n",
    "\n",
    "The main function for database-backed analyses is called [`prepdata`](https://juliapatents.github.io/PatentsLandscapes.jl/dev/#PatentsLandscapes.prepdata).\n",
    "As its first argument, it takes a data source, in this case the database we created.\n",
    "The second argument is the analysis type, in this case `Frequency()`.\n",
    "The third argument is the analysis level, which can be `ApplicationLevel()` or `FamilyLevel()`.\n",
    "Arguments after this can be filters and groupings.\n",
    "The code above is the most simple example, it simply counts the applications in the database.\n",
    "We can also do this with families:"
   ]
  },
  {
   "cell_type": "code",
   "execution_count": 7,
   "metadata": {},
   "outputs": [
    {
     "data": {
      "text/html": [
       "<div><div style = \"float: left;\"><span>1×1 DataFrame</span></div><div style = \"clear: both;\"></div></div><div class = \"data-frame\" style = \"overflow-x: scroll;\"><table class = \"data-frame\" style = \"margin-bottom: 6px;\"><thead><tr class = \"header\"><th class = \"rowNumber\" style = \"font-weight: bold; text-align: right;\">Row</th><th style = \"text-align: left;\">families</th></tr><tr class = \"subheader headerLastRow\"><th class = \"rowNumber\" style = \"font-weight: bold; text-align: right;\"></th><th title = \"Int64\" style = \"text-align: left;\">Int64</th></tr></thead><tbody><tr><td class = \"rowNumber\" style = \"font-weight: bold; text-align: right;\">1</td><td style = \"text-align: right;\">41591</td></tr></tbody></table></div>"
      ],
      "text/latex": [
       "\\begin{tabular}{r|c}\n",
       "\t& families\\\\\n",
       "\t\\hline\n",
       "\t& Int64\\\\\n",
       "\t\\hline\n",
       "\t1 & 41591 \\\\\n",
       "\\end{tabular}\n"
      ],
      "text/plain": [
       "\u001b[1m1×1 DataFrame\u001b[0m\n",
       "\u001b[1m Row \u001b[0m│\u001b[1m families \u001b[0m\n",
       "     │\u001b[90m Int64    \u001b[0m\n",
       "─────┼──────────\n",
       "   1 │    41591"
      ]
     },
     "metadata": {},
     "output_type": "display_data"
    }
   ],
   "source": [
    "prepdata(demo_db, Frequency(), FamilyLevel())"
   ]
  },
  {
   "attachments": {},
   "cell_type": "markdown",
   "metadata": {},
   "source": [
    "Simple families are usually a better unit of analysis than applications, since each simple families roughly corresponds to an invention.\n",
    "Hence, all examples here will use families.\n",
    "\n",
    "### Groupings\n",
    "\n",
    "Frequency analysis starts becoming useful when we can differentiate across groups.\n",
    "The prepdata command allows us to specify a grouping as the fourth argument:"
   ]
  },
  {
   "cell_type": "code",
   "execution_count": 9,
   "metadata": {},
   "outputs": [
    {
     "data": {
      "text/html": [
       "<div><div style = \"float: left;\"><span>44×2 DataFrame</span></div><div style = \"float: right;\"><span style = \"font-style: italic;\">19 rows omitted</span></div><div style = \"clear: both;\"></div></div><div class = \"data-frame\" style = \"overflow-x: scroll;\"><table class = \"data-frame\" style = \"margin-bottom: 6px;\"><thead><tr class = \"header\"><th class = \"rowNumber\" style = \"font-weight: bold; text-align: right;\">Row</th><th style = \"text-align: left;\">jurisdiction</th><th style = \"text-align: left;\">families</th></tr><tr class = \"subheader headerLastRow\"><th class = \"rowNumber\" style = \"font-weight: bold; text-align: right;\"></th><th title = \"String\" style = \"text-align: left;\">String</th><th title = \"Int64\" style = \"text-align: left;\">Int64</th></tr></thead><tbody><tr><td class = \"rowNumber\" style = \"font-weight: bold; text-align: right;\">1</td><td style = \"text-align: left;\">AU</td><td style = \"text-align: right;\">18</td></tr><tr><td class = \"rowNumber\" style = \"font-weight: bold; text-align: right;\">2</td><td style = \"text-align: left;\">BE</td><td style = \"text-align: right;\">1</td></tr><tr><td class = \"rowNumber\" style = \"font-weight: bold; text-align: right;\">3</td><td style = \"text-align: left;\">BG</td><td style = \"text-align: right;\">7</td></tr><tr><td class = \"rowNumber\" style = \"font-weight: bold; text-align: right;\">4</td><td style = \"text-align: left;\">CA</td><td style = \"text-align: right;\">28</td></tr><tr><td class = \"rowNumber\" style = \"font-weight: bold; text-align: right;\">5</td><td style = \"text-align: left;\">CH</td><td style = \"text-align: right;\">8</td></tr><tr><td class = \"rowNumber\" style = \"font-weight: bold; text-align: right;\">6</td><td style = \"text-align: left;\">CN</td><td style = \"text-align: right;\">32077</td></tr><tr><td class = \"rowNumber\" style = \"font-weight: bold; text-align: right;\">7</td><td style = \"text-align: left;\">CS</td><td style = \"text-align: right;\">2</td></tr><tr><td class = \"rowNumber\" style = \"font-weight: bold; text-align: right;\">8</td><td style = \"text-align: left;\">CZ</td><td style = \"text-align: right;\">5</td></tr><tr><td class = \"rowNumber\" style = \"font-weight: bold; text-align: right;\">9</td><td style = \"text-align: left;\">DE</td><td style = \"text-align: right;\">90</td></tr><tr><td class = \"rowNumber\" style = \"font-weight: bold; text-align: right;\">10</td><td style = \"text-align: left;\">EA</td><td style = \"text-align: right;\">6</td></tr><tr><td class = \"rowNumber\" style = \"font-weight: bold; text-align: right;\">11</td><td style = \"text-align: left;\">EE</td><td style = \"text-align: right;\">1</td></tr><tr><td class = \"rowNumber\" style = \"font-weight: bold; text-align: right;\">12</td><td style = \"text-align: left;\">EP</td><td style = \"text-align: right;\">2487</td></tr><tr><td class = \"rowNumber\" style = \"font-weight: bold; text-align: right;\">13</td><td style = \"text-align: left;\">ES</td><td style = \"text-align: right;\">28</td></tr><tr><td style = \"text-align: right;\">&vellip;</td><td style = \"text-align: right;\">&vellip;</td><td style = \"text-align: right;\">&vellip;</td></tr><tr><td class = \"rowNumber\" style = \"font-weight: bold; text-align: right;\">33</td><td style = \"text-align: left;\">RO</td><td style = \"text-align: right;\">12</td></tr><tr><td class = \"rowNumber\" style = \"font-weight: bold; text-align: right;\">34</td><td style = \"text-align: left;\">RS</td><td style = \"text-align: right;\">1</td></tr><tr><td class = \"rowNumber\" style = \"font-weight: bold; text-align: right;\">35</td><td style = \"text-align: left;\">RU</td><td style = \"text-align: right;\">229</td></tr><tr><td class = \"rowNumber\" style = \"font-weight: bold; text-align: right;\">36</td><td style = \"text-align: left;\">SI</td><td style = \"text-align: right;\">4</td></tr><tr><td class = \"rowNumber\" style = \"font-weight: bold; text-align: right;\">37</td><td style = \"text-align: left;\">SK</td><td style = \"text-align: right;\">1</td></tr><tr><td class = \"rowNumber\" style = \"font-weight: bold; text-align: right;\">38</td><td style = \"text-align: left;\">SU</td><td style = \"text-align: right;\">1</td></tr><tr><td class = \"rowNumber\" style = \"font-weight: bold; text-align: right;\">39</td><td style = \"text-align: left;\">TR</td><td style = \"text-align: right;\">1</td></tr><tr><td class = \"rowNumber\" style = \"font-weight: bold; text-align: right;\">40</td><td style = \"text-align: left;\">TW</td><td style = \"text-align: right;\">12</td></tr><tr><td class = \"rowNumber\" style = \"font-weight: bold; text-align: right;\">41</td><td style = \"text-align: left;\">UA</td><td style = \"text-align: right;\">21</td></tr><tr><td class = \"rowNumber\" style = \"font-weight: bold; text-align: right;\">42</td><td style = \"text-align: left;\">US</td><td style = \"text-align: right;\">6599</td></tr><tr><td class = \"rowNumber\" style = \"font-weight: bold; text-align: right;\">43</td><td style = \"text-align: left;\">WO</td><td style = \"text-align: right;\">3403</td></tr><tr><td class = \"rowNumber\" style = \"font-weight: bold; text-align: right;\">44</td><td style = \"text-align: left;\">ZA</td><td style = \"text-align: right;\">1</td></tr></tbody></table></div>"
      ],
      "text/latex": [
       "\\begin{tabular}{r|cc}\n",
       "\t& jurisdiction & families\\\\\n",
       "\t\\hline\n",
       "\t& String & Int64\\\\\n",
       "\t\\hline\n",
       "\t1 & AU & 18 \\\\\n",
       "\t2 & BE & 1 \\\\\n",
       "\t3 & BG & 7 \\\\\n",
       "\t4 & CA & 28 \\\\\n",
       "\t5 & CH & 8 \\\\\n",
       "\t6 & CN & 32077 \\\\\n",
       "\t7 & CS & 2 \\\\\n",
       "\t8 & CZ & 5 \\\\\n",
       "\t9 & DE & 90 \\\\\n",
       "\t10 & EA & 6 \\\\\n",
       "\t11 & EE & 1 \\\\\n",
       "\t12 & EP & 2487 \\\\\n",
       "\t13 & ES & 28 \\\\\n",
       "\t14 & FR & 22 \\\\\n",
       "\t15 & GB & 26 \\\\\n",
       "\t16 & GE & 38 \\\\\n",
       "\t17 & GR & 3 \\\\\n",
       "\t18 & HR & 2 \\\\\n",
       "\t19 & HU & 7 \\\\\n",
       "\t20 & IN & 2 \\\\\n",
       "\t21 & IT & 3 \\\\\n",
       "\t22 & JP & 7 \\\\\n",
       "\t23 & KR & 10 \\\\\n",
       "\t24 & LT & 2 \\\\\n",
       "\t$\\dots$ & $\\dots$ & $\\dots$ \\\\\n",
       "\\end{tabular}\n"
      ],
      "text/plain": [
       "\u001b[1m44×2 DataFrame\u001b[0m\n",
       "\u001b[1m Row \u001b[0m│\u001b[1m jurisdiction \u001b[0m\u001b[1m families \u001b[0m\n",
       "     │\u001b[90m String       \u001b[0m\u001b[90m Int64    \u001b[0m\n",
       "─────┼────────────────────────\n",
       "   1 │ AU                  18\n",
       "   2 │ BE                   1\n",
       "   3 │ BG                   7\n",
       "   4 │ CA                  28\n",
       "   5 │ CH                   8\n",
       "   6 │ CN               32077\n",
       "   7 │ CS                   2\n",
       "   8 │ CZ                   5\n",
       "  ⋮  │      ⋮           ⋮\n",
       "  38 │ SU                   1\n",
       "  39 │ TR                   1\n",
       "  40 │ TW                  12\n",
       "  41 │ UA                  21\n",
       "  42 │ US                6599\n",
       "  43 │ WO                3403\n",
       "  44 │ ZA                   1\n",
       "\u001b[36m               29 rows omitted\u001b[0m"
      ]
     },
     "metadata": {},
     "output_type": "display_data"
    }
   ],
   "source": [
    "res = prepdata(demo_db, Frequency(), FamilyLevel(), Jurisdictions())"
   ]
  },
  {
   "attachments": {},
   "cell_type": "markdown",
   "metadata": {},
   "source": [
    "The above example gives us the number of patent families in the dataset for each jurisdiction.\n",
    "We can sort the output to get a better view of the important ones:"
   ]
  },
  {
   "cell_type": "code",
   "execution_count": 11,
   "metadata": {},
   "outputs": [
    {
     "data": {
      "text/html": [
       "<div><div style = \"float: left;\"><span>44×2 DataFrame</span></div><div style = \"float: right;\"><span style = \"font-style: italic;\">19 rows omitted</span></div><div style = \"clear: both;\"></div></div><div class = \"data-frame\" style = \"overflow-x: scroll;\"><table class = \"data-frame\" style = \"margin-bottom: 6px;\"><thead><tr class = \"header\"><th class = \"rowNumber\" style = \"font-weight: bold; text-align: right;\">Row</th><th style = \"text-align: left;\">jurisdiction</th><th style = \"text-align: left;\">families</th></tr><tr class = \"subheader headerLastRow\"><th class = \"rowNumber\" style = \"font-weight: bold; text-align: right;\"></th><th title = \"String\" style = \"text-align: left;\">String</th><th title = \"Int64\" style = \"text-align: left;\">Int64</th></tr></thead><tbody><tr><td class = \"rowNumber\" style = \"font-weight: bold; text-align: right;\">1</td><td style = \"text-align: left;\">CN</td><td style = \"text-align: right;\">32077</td></tr><tr><td class = \"rowNumber\" style = \"font-weight: bold; text-align: right;\">2</td><td style = \"text-align: left;\">US</td><td style = \"text-align: right;\">6599</td></tr><tr><td class = \"rowNumber\" style = \"font-weight: bold; text-align: right;\">3</td><td style = \"text-align: left;\">WO</td><td style = \"text-align: right;\">3403</td></tr><tr><td class = \"rowNumber\" style = \"font-weight: bold; text-align: right;\">4</td><td style = \"text-align: left;\">EP</td><td style = \"text-align: right;\">2487</td></tr><tr><td class = \"rowNumber\" style = \"font-weight: bold; text-align: right;\">5</td><td style = \"text-align: left;\">RU</td><td style = \"text-align: right;\">229</td></tr><tr><td class = \"rowNumber\" style = \"font-weight: bold; text-align: right;\">6</td><td style = \"text-align: left;\">DE</td><td style = \"text-align: right;\">90</td></tr><tr><td class = \"rowNumber\" style = \"font-weight: bold; text-align: right;\">7</td><td style = \"text-align: left;\">GE</td><td style = \"text-align: right;\">38</td></tr><tr><td class = \"rowNumber\" style = \"font-weight: bold; text-align: right;\">8</td><td style = \"text-align: left;\">CA</td><td style = \"text-align: right;\">28</td></tr><tr><td class = \"rowNumber\" style = \"font-weight: bold; text-align: right;\">9</td><td style = \"text-align: left;\">ES</td><td style = \"text-align: right;\">28</td></tr><tr><td class = \"rowNumber\" style = \"font-weight: bold; text-align: right;\">10</td><td style = \"text-align: left;\">GB</td><td style = \"text-align: right;\">26</td></tr><tr><td class = \"rowNumber\" style = \"font-weight: bold; text-align: right;\">11</td><td style = \"text-align: left;\">FR</td><td style = \"text-align: right;\">22</td></tr><tr><td class = \"rowNumber\" style = \"font-weight: bold; text-align: right;\">12</td><td style = \"text-align: left;\">UA</td><td style = \"text-align: right;\">21</td></tr><tr><td class = \"rowNumber\" style = \"font-weight: bold; text-align: right;\">13</td><td style = \"text-align: left;\">AU</td><td style = \"text-align: right;\">18</td></tr><tr><td style = \"text-align: right;\">&vellip;</td><td style = \"text-align: right;\">&vellip;</td><td style = \"text-align: right;\">&vellip;</td></tr><tr><td class = \"rowNumber\" style = \"font-weight: bold; text-align: right;\">33</td><td style = \"text-align: left;\">IN</td><td style = \"text-align: right;\">2</td></tr><tr><td class = \"rowNumber\" style = \"font-weight: bold; text-align: right;\">34</td><td style = \"text-align: left;\">LT</td><td style = \"text-align: right;\">2</td></tr><tr><td class = \"rowNumber\" style = \"font-weight: bold; text-align: right;\">35</td><td style = \"text-align: left;\">LV</td><td style = \"text-align: right;\">2</td></tr><tr><td class = \"rowNumber\" style = \"font-weight: bold; text-align: right;\">36</td><td style = \"text-align: left;\">PT</td><td style = \"text-align: right;\">2</td></tr><tr><td class = \"rowNumber\" style = \"font-weight: bold; text-align: right;\">37</td><td style = \"text-align: left;\">BE</td><td style = \"text-align: right;\">1</td></tr><tr><td class = \"rowNumber\" style = \"font-weight: bold; text-align: right;\">38</td><td style = \"text-align: left;\">EE</td><td style = \"text-align: right;\">1</td></tr><tr><td class = \"rowNumber\" style = \"font-weight: bold; text-align: right;\">39</td><td style = \"text-align: left;\">NL</td><td style = \"text-align: right;\">1</td></tr><tr><td class = \"rowNumber\" style = \"font-weight: bold; text-align: right;\">40</td><td style = \"text-align: left;\">RS</td><td style = \"text-align: right;\">1</td></tr><tr><td class = \"rowNumber\" style = \"font-weight: bold; text-align: right;\">41</td><td style = \"text-align: left;\">SK</td><td style = \"text-align: right;\">1</td></tr><tr><td class = \"rowNumber\" style = \"font-weight: bold; text-align: right;\">42</td><td style = \"text-align: left;\">SU</td><td style = \"text-align: right;\">1</td></tr><tr><td class = \"rowNumber\" style = \"font-weight: bold; text-align: right;\">43</td><td style = \"text-align: left;\">TR</td><td style = \"text-align: right;\">1</td></tr><tr><td class = \"rowNumber\" style = \"font-weight: bold; text-align: right;\">44</td><td style = \"text-align: left;\">ZA</td><td style = \"text-align: right;\">1</td></tr></tbody></table></div>"
      ],
      "text/latex": [
       "\\begin{tabular}{r|cc}\n",
       "\t& jurisdiction & families\\\\\n",
       "\t\\hline\n",
       "\t& String & Int64\\\\\n",
       "\t\\hline\n",
       "\t1 & CN & 32077 \\\\\n",
       "\t2 & US & 6599 \\\\\n",
       "\t3 & WO & 3403 \\\\\n",
       "\t4 & EP & 2487 \\\\\n",
       "\t5 & RU & 229 \\\\\n",
       "\t6 & DE & 90 \\\\\n",
       "\t7 & GE & 38 \\\\\n",
       "\t8 & CA & 28 \\\\\n",
       "\t9 & ES & 28 \\\\\n",
       "\t10 & GB & 26 \\\\\n",
       "\t11 & FR & 22 \\\\\n",
       "\t12 & UA & 21 \\\\\n",
       "\t13 & AU & 18 \\\\\n",
       "\t14 & RO & 12 \\\\\n",
       "\t15 & TW & 12 \\\\\n",
       "\t16 & KR & 10 \\\\\n",
       "\t17 & CH & 8 \\\\\n",
       "\t18 & MD & 8 \\\\\n",
       "\t19 & BG & 7 \\\\\n",
       "\t20 & HU & 7 \\\\\n",
       "\t21 & JP & 7 \\\\\n",
       "\t22 & MX & 7 \\\\\n",
       "\t23 & EA & 6 \\\\\n",
       "\t24 & PL & 6 \\\\\n",
       "\t$\\dots$ & $\\dots$ & $\\dots$ \\\\\n",
       "\\end{tabular}\n"
      ],
      "text/plain": [
       "\u001b[1m44×2 DataFrame\u001b[0m\n",
       "\u001b[1m Row \u001b[0m│\u001b[1m jurisdiction \u001b[0m\u001b[1m families \u001b[0m\n",
       "     │\u001b[90m String       \u001b[0m\u001b[90m Int64    \u001b[0m\n",
       "─────┼────────────────────────\n",
       "   1 │ CN               32077\n",
       "   2 │ US                6599\n",
       "   3 │ WO                3403\n",
       "   4 │ EP                2487\n",
       "   5 │ RU                 229\n",
       "   6 │ DE                  90\n",
       "   7 │ GE                  38\n",
       "   8 │ CA                  28\n",
       "  ⋮  │      ⋮           ⋮\n",
       "  38 │ EE                   1\n",
       "  39 │ NL                   1\n",
       "  40 │ RS                   1\n",
       "  41 │ SK                   1\n",
       "  42 │ SU                   1\n",
       "  43 │ TR                   1\n",
       "  44 │ ZA                   1\n",
       "\u001b[36m               29 rows omitted\u001b[0m"
      ]
     },
     "metadata": {},
     "output_type": "display_data"
    }
   ],
   "source": [
    "sort(res, :families, rev = true)"
   ]
  },
  {
   "attachments": {},
   "cell_type": "markdown",
   "metadata": {},
   "source": [
    "For most groupings (not just jurisdictions), we can also specify which groups we're interested in:"
   ]
  },
  {
   "cell_type": "code",
   "execution_count": 14,
   "metadata": {},
   "outputs": [
    {
     "data": {
      "text/html": [
       "<div><div style = \"float: left;\"><span>5×2 DataFrame</span></div><div style = \"clear: both;\"></div></div><div class = \"data-frame\" style = \"overflow-x: scroll;\"><table class = \"data-frame\" style = \"margin-bottom: 6px;\"><thead><tr class = \"header\"><th class = \"rowNumber\" style = \"font-weight: bold; text-align: right;\">Row</th><th style = \"text-align: left;\">jurisdiction</th><th style = \"text-align: left;\">families</th></tr><tr class = \"subheader headerLastRow\"><th class = \"rowNumber\" style = \"font-weight: bold; text-align: right;\"></th><th title = \"String\" style = \"text-align: left;\">String</th><th title = \"Int64\" style = \"text-align: left;\">Int64</th></tr></thead><tbody><tr><td class = \"rowNumber\" style = \"font-weight: bold; text-align: right;\">1</td><td style = \"text-align: left;\">CN</td><td style = \"text-align: right;\">32077</td></tr><tr><td class = \"rowNumber\" style = \"font-weight: bold; text-align: right;\">2</td><td style = \"text-align: left;\">JP</td><td style = \"text-align: right;\">7</td></tr><tr><td class = \"rowNumber\" style = \"font-weight: bold; text-align: right;\">3</td><td style = \"text-align: left;\">RU</td><td style = \"text-align: right;\">229</td></tr><tr><td class = \"rowNumber\" style = \"font-weight: bold; text-align: right;\">4</td><td style = \"text-align: left;\">US</td><td style = \"text-align: right;\">6599</td></tr><tr><td class = \"rowNumber\" style = \"font-weight: bold; text-align: right;\">5</td><td style = \"text-align: left;\">WO</td><td style = \"text-align: right;\">3403</td></tr></tbody></table></div>"
      ],
      "text/latex": [
       "\\begin{tabular}{r|cc}\n",
       "\t& jurisdiction & families\\\\\n",
       "\t\\hline\n",
       "\t& String & Int64\\\\\n",
       "\t\\hline\n",
       "\t1 & CN & 32077 \\\\\n",
       "\t2 & JP & 7 \\\\\n",
       "\t3 & RU & 229 \\\\\n",
       "\t4 & US & 6599 \\\\\n",
       "\t5 & WO & 3403 \\\\\n",
       "\\end{tabular}\n"
      ],
      "text/plain": [
       "\u001b[1m5×2 DataFrame\u001b[0m\n",
       "\u001b[1m Row \u001b[0m│\u001b[1m jurisdiction \u001b[0m\u001b[1m families \u001b[0m\n",
       "     │\u001b[90m String       \u001b[0m\u001b[90m Int64    \u001b[0m\n",
       "─────┼────────────────────────\n",
       "   1 │ CN               32077\n",
       "   2 │ JP                   7\n",
       "   3 │ RU                 229\n",
       "   4 │ US                6599\n",
       "   5 │ WO                3403"
      ]
     },
     "metadata": {},
     "output_type": "display_data"
    }
   ],
   "source": [
    "res = prepdata(demo_db, Frequency(), FamilyLevel(), Jurisdictions([\"CN\", \"US\", \"WO\", \"RU\", \"JP\"]))"
   ]
  },
  {
   "attachments": {},
   "cell_type": "markdown",
   "metadata": {},
   "source": [
    "Other groupings currently available are Applicants, Time Trends, and custom Taxonomies (see chapter 5).\n",
    "More grouping options will be added as the package matures."
   ]
  },
  {
   "cell_type": "code",
   "execution_count": 22,
   "metadata": {},
   "outputs": [
    {
     "data": {
      "text/html": [
       "<div><div style = \"float: left;\"><span>10×4 DataFrame</span></div><div style = \"clear: both;\"></div></div><div class = \"data-frame\" style = \"overflow-x: scroll;\"><table class = \"data-frame\" style = \"margin-bottom: 6px;\"><thead><tr class = \"header\"><th class = \"rowNumber\" style = \"font-weight: bold; text-align: right;\">Row</th><th style = \"text-align: left;\">applicant_id</th><th style = \"text-align: left;\">country</th><th style = \"text-align: left;\">name</th><th style = \"text-align: left;\">families</th></tr><tr class = \"subheader headerLastRow\"><th class = \"rowNumber\" style = \"font-weight: bold; text-align: right;\"></th><th title = \"Int64\" style = \"text-align: left;\">Int64</th><th title = \"String\" style = \"text-align: left;\">String</th><th title = \"String\" style = \"text-align: left;\">String</th><th title = \"Int64\" style = \"text-align: left;\">Int64</th></tr></thead><tbody><tr><td class = \"rowNumber\" style = \"font-weight: bold; text-align: right;\">1</td><td style = \"text-align: right;\">744</td><td style = \"text-align: left;\">??</td><td style = \"text-align: left;\">UNIV JIANGNAN</td><td style = \"text-align: right;\">350</td></tr><tr><td class = \"rowNumber\" style = \"font-weight: bold; text-align: right;\">2</td><td style = \"text-align: right;\">852</td><td style = \"text-align: left;\">??</td><td style = \"text-align: left;\">UNIV WUHAN TEXTILE</td><td style = \"text-align: right;\">285</td></tr><tr><td class = \"rowNumber\" style = \"font-weight: bold; text-align: right;\">3</td><td style = \"text-align: right;\">2764</td><td style = \"text-align: left;\">??</td><td style = \"text-align: left;\">LUTHAI TEXTILE CO LTD</td><td style = \"text-align: right;\">156</td></tr><tr><td class = \"rowNumber\" style = \"font-weight: bold; text-align: right;\">4</td><td style = \"text-align: right;\">22</td><td style = \"text-align: left;\">US</td><td style = \"text-align: left;\">MILLIKEN &amp; CO</td><td style = \"text-align: right;\">155</td></tr><tr><td class = \"rowNumber\" style = \"font-weight: bold; text-align: right;\">5</td><td style = \"text-align: right;\">7</td><td style = \"text-align: left;\">US</td><td style = \"text-align: left;\">NIKE INC</td><td style = \"text-align: right;\">134</td></tr><tr><td class = \"rowNumber\" style = \"font-weight: bold; text-align: right;\">6</td><td style = \"text-align: right;\">4297</td><td style = \"text-align: left;\">DE</td><td style = \"text-align: left;\">HENKEL AG &amp; CO KGAA</td><td style = \"text-align: right;\">118</td></tr><tr><td class = \"rowNumber\" style = \"font-weight: bold; text-align: right;\">7</td><td style = \"text-align: right;\">1824</td><td style = \"text-align: left;\">??</td><td style = \"text-align: left;\">LUFENG KNITTING &amp; DYEING CO LTD</td><td style = \"text-align: right;\">105</td></tr><tr><td class = \"rowNumber\" style = \"font-weight: bold; text-align: right;\">8</td><td style = \"text-align: right;\">4535</td><td style = \"text-align: left;\">??</td><td style = \"text-align: left;\">JIHUA 3542 TEXTILE CO LTD</td><td style = \"text-align: right;\">105</td></tr><tr><td class = \"rowNumber\" style = \"font-weight: bold; text-align: right;\">9</td><td style = \"text-align: right;\">299</td><td style = \"text-align: left;\">DE</td><td style = \"text-align: left;\">BASF SE</td><td style = \"text-align: right;\">79</td></tr><tr><td class = \"rowNumber\" style = \"font-weight: bold; text-align: right;\">10</td><td style = \"text-align: right;\">840</td><td style = \"text-align: left;\">??</td><td style = \"text-align: left;\">UNIV QINGDAO</td><td style = \"text-align: right;\">75</td></tr></tbody></table></div>"
      ],
      "text/latex": [
       "\\begin{tabular}{r|cccc}\n",
       "\t& applicant\\_id & country & name & families\\\\\n",
       "\t\\hline\n",
       "\t& Int64 & String & String & Int64\\\\\n",
       "\t\\hline\n",
       "\t1 & 744 & ?? & UNIV JIANGNAN & 350 \\\\\n",
       "\t2 & 852 & ?? & UNIV WUHAN TEXTILE & 285 \\\\\n",
       "\t3 & 2764 & ?? & LUTHAI TEXTILE CO LTD & 156 \\\\\n",
       "\t4 & 22 & US & MILLIKEN \\& CO & 155 \\\\\n",
       "\t5 & 7 & US & NIKE INC & 134 \\\\\n",
       "\t6 & 4297 & DE & HENKEL AG \\& CO KGAA & 118 \\\\\n",
       "\t7 & 1824 & ?? & LUFENG KNITTING \\& DYEING CO LTD & 105 \\\\\n",
       "\t8 & 4535 & ?? & JIHUA 3542 TEXTILE CO LTD & 105 \\\\\n",
       "\t9 & 299 & DE & BASF SE & 79 \\\\\n",
       "\t10 & 840 & ?? & UNIV QINGDAO & 75 \\\\\n",
       "\\end{tabular}\n"
      ],
      "text/plain": [
       "\u001b[1m10×4 DataFrame\u001b[0m\n",
       "\u001b[1m Row \u001b[0m│\u001b[1m applicant_id \u001b[0m\u001b[1m country \u001b[0m\u001b[1m name                            \u001b[0m\u001b[1m families \u001b[0m\n",
       "     │\u001b[90m Int64        \u001b[0m\u001b[90m String  \u001b[0m\u001b[90m String                          \u001b[0m\u001b[90m Int64    \u001b[0m\n",
       "─────┼──────────────────────────────────────────────────────────────────\n",
       "   1 │          744  ??       UNIV JIANGNAN                         350\n",
       "   2 │          852  ??       UNIV WUHAN TEXTILE                    285\n",
       "   3 │         2764  ??       LUTHAI TEXTILE CO LTD                 156\n",
       "   4 │           22  US       MILLIKEN & CO                         155\n",
       "   5 │            7  US       NIKE INC                              134\n",
       "   6 │         4297  DE       HENKEL AG & CO KGAA                   118\n",
       "   7 │         1824  ??       LUFENG KNITTING & DYEING CO LTD       105\n",
       "   8 │         4535  ??       JIHUA 3542 TEXTILE CO LTD             105\n",
       "   9 │          299  DE       BASF SE                                79\n",
       "  10 │          840  ??       UNIV QINGDAO                           75"
      ]
     },
     "metadata": {},
     "output_type": "display_data"
    }
   ],
   "source": [
    "prepdata(demo_db, Frequency(), FamilyLevel(), Applicants()) |> \n",
    "res -> sort(res, :families, rev = true) |> \n",
    "res -> first(res, 10)"
   ]
  },
  {
   "cell_type": "code",
   "execution_count": 29,
   "metadata": {},
   "outputs": [
    {
     "data": {
      "text/html": [
       "<div><div style = \"float: left;\"><span>181×2 DataFrame</span></div><div style = \"float: right;\"><span style = \"font-style: italic;\">156 rows omitted</span></div><div style = \"clear: both;\"></div></div><div class = \"data-frame\" style = \"overflow-x: scroll;\"><table class = \"data-frame\" style = \"margin-bottom: 6px;\"><thead><tr class = \"header\"><th class = \"rowNumber\" style = \"font-weight: bold; text-align: right;\">Row</th><th style = \"text-align: left;\">month</th><th style = \"text-align: left;\">families</th></tr><tr class = \"subheader headerLastRow\"><th class = \"rowNumber\" style = \"font-weight: bold; text-align: right;\"></th><th title = \"String\" style = \"text-align: left;\">String</th><th title = \"Int64\" style = \"text-align: left;\">Int64</th></tr></thead><tbody><tr><td class = \"rowNumber\" style = \"font-weight: bold; text-align: right;\">1</td><td style = \"text-align: left;\">2005-01</td><td style = \"text-align: right;\">29</td></tr><tr><td class = \"rowNumber\" style = \"font-weight: bold; text-align: right;\">2</td><td style = \"text-align: left;\">2005-02</td><td style = \"text-align: right;\">21</td></tr><tr><td class = \"rowNumber\" style = \"font-weight: bold; text-align: right;\">3</td><td style = \"text-align: left;\">2005-03</td><td style = \"text-align: right;\">21</td></tr><tr><td class = \"rowNumber\" style = \"font-weight: bold; text-align: right;\">4</td><td style = \"text-align: left;\">2005-04</td><td style = \"text-align: right;\">16</td></tr><tr><td class = \"rowNumber\" style = \"font-weight: bold; text-align: right;\">5</td><td style = \"text-align: left;\">2005-05</td><td style = \"text-align: right;\">19</td></tr><tr><td class = \"rowNumber\" style = \"font-weight: bold; text-align: right;\">6</td><td style = \"text-align: left;\">2005-06</td><td style = \"text-align: right;\">24</td></tr><tr><td class = \"rowNumber\" style = \"font-weight: bold; text-align: right;\">7</td><td style = \"text-align: left;\">2005-07</td><td style = \"text-align: right;\">24</td></tr><tr><td class = \"rowNumber\" style = \"font-weight: bold; text-align: right;\">8</td><td style = \"text-align: left;\">2005-08</td><td style = \"text-align: right;\">25</td></tr><tr><td class = \"rowNumber\" style = \"font-weight: bold; text-align: right;\">9</td><td style = \"text-align: left;\">2005-09</td><td style = \"text-align: right;\">20</td></tr><tr><td class = \"rowNumber\" style = \"font-weight: bold; text-align: right;\">10</td><td style = \"text-align: left;\">2005-10</td><td style = \"text-align: right;\">20</td></tr><tr><td class = \"rowNumber\" style = \"font-weight: bold; text-align: right;\">11</td><td style = \"text-align: left;\">2005-11</td><td style = \"text-align: right;\">19</td></tr><tr><td class = \"rowNumber\" style = \"font-weight: bold; text-align: right;\">12</td><td style = \"text-align: left;\">2005-12</td><td style = \"text-align: right;\">32</td></tr><tr><td class = \"rowNumber\" style = \"font-weight: bold; text-align: right;\">13</td><td style = \"text-align: left;\">2006-01</td><td style = \"text-align: right;\">25</td></tr><tr><td style = \"text-align: right;\">&vellip;</td><td style = \"text-align: right;\">&vellip;</td><td style = \"text-align: right;\">&vellip;</td></tr><tr><td class = \"rowNumber\" style = \"font-weight: bold; text-align: right;\">170</td><td style = \"text-align: left;\">2019-02</td><td style = \"text-align: right;\">262</td></tr><tr><td class = \"rowNumber\" style = \"font-weight: bold; text-align: right;\">171</td><td style = \"text-align: left;\">2019-03</td><td style = \"text-align: right;\">235</td></tr><tr><td class = \"rowNumber\" style = \"font-weight: bold; text-align: right;\">172</td><td style = \"text-align: left;\">2019-04</td><td style = \"text-align: right;\">279</td></tr><tr><td class = \"rowNumber\" style = \"font-weight: bold; text-align: right;\">173</td><td style = \"text-align: left;\">2019-05</td><td style = \"text-align: right;\">342</td></tr><tr><td class = \"rowNumber\" style = \"font-weight: bold; text-align: right;\">174</td><td style = \"text-align: left;\">2019-06</td><td style = \"text-align: right;\">323</td></tr><tr><td class = \"rowNumber\" style = \"font-weight: bold; text-align: right;\">175</td><td style = \"text-align: left;\">2019-07</td><td style = \"text-align: right;\">314</td></tr><tr><td class = \"rowNumber\" style = \"font-weight: bold; text-align: right;\">176</td><td style = \"text-align: left;\">2019-08</td><td style = \"text-align: right;\">289</td></tr><tr><td class = \"rowNumber\" style = \"font-weight: bold; text-align: right;\">177</td><td style = \"text-align: left;\">2019-09</td><td style = \"text-align: right;\">223</td></tr><tr><td class = \"rowNumber\" style = \"font-weight: bold; text-align: right;\">178</td><td style = \"text-align: left;\">2019-10</td><td style = \"text-align: right;\">256</td></tr><tr><td class = \"rowNumber\" style = \"font-weight: bold; text-align: right;\">179</td><td style = \"text-align: left;\">2019-11</td><td style = \"text-align: right;\">331</td></tr><tr><td class = \"rowNumber\" style = \"font-weight: bold; text-align: right;\">180</td><td style = \"text-align: left;\">2019-12</td><td style = \"text-align: right;\">365</td></tr><tr><td class = \"rowNumber\" style = \"font-weight: bold; text-align: right;\">181</td><td style = \"text-align: left;\">2020-01</td><td style = \"text-align: right;\">8</td></tr></tbody></table></div>"
      ],
      "text/latex": [
       "\\begin{tabular}{r|cc}\n",
       "\t& month & families\\\\\n",
       "\t\\hline\n",
       "\t& String & Int64\\\\\n",
       "\t\\hline\n",
       "\t1 & 2005-01 & 29 \\\\\n",
       "\t2 & 2005-02 & 21 \\\\\n",
       "\t3 & 2005-03 & 21 \\\\\n",
       "\t4 & 2005-04 & 16 \\\\\n",
       "\t5 & 2005-05 & 19 \\\\\n",
       "\t6 & 2005-06 & 24 \\\\\n",
       "\t7 & 2005-07 & 24 \\\\\n",
       "\t8 & 2005-08 & 25 \\\\\n",
       "\t9 & 2005-09 & 20 \\\\\n",
       "\t10 & 2005-10 & 20 \\\\\n",
       "\t11 & 2005-11 & 19 \\\\\n",
       "\t12 & 2005-12 & 32 \\\\\n",
       "\t13 & 2006-01 & 25 \\\\\n",
       "\t14 & 2006-02 & 33 \\\\\n",
       "\t15 & 2006-03 & 28 \\\\\n",
       "\t16 & 2006-04 & 14 \\\\\n",
       "\t17 & 2006-05 & 25 \\\\\n",
       "\t18 & 2006-06 & 25 \\\\\n",
       "\t19 & 2006-07 & 21 \\\\\n",
       "\t20 & 2006-08 & 27 \\\\\n",
       "\t21 & 2006-09 & 26 \\\\\n",
       "\t22 & 2006-10 & 31 \\\\\n",
       "\t23 & 2006-11 & 39 \\\\\n",
       "\t24 & 2006-12 & 32 \\\\\n",
       "\t$\\dots$ & $\\dots$ & $\\dots$ \\\\\n",
       "\\end{tabular}\n"
      ],
      "text/plain": [
       "\u001b[1m181×2 DataFrame\u001b[0m\n",
       "\u001b[1m Row \u001b[0m│\u001b[1m month   \u001b[0m\u001b[1m families \u001b[0m\n",
       "     │\u001b[90m String  \u001b[0m\u001b[90m Int64    \u001b[0m\n",
       "─────┼───────────────────\n",
       "   1 │ 2005-01        29\n",
       "   2 │ 2005-02        21\n",
       "   3 │ 2005-03        21\n",
       "   4 │ 2005-04        16\n",
       "   5 │ 2005-05        19\n",
       "   6 │ 2005-06        24\n",
       "   7 │ 2005-07        24\n",
       "   8 │ 2005-08        25\n",
       "  ⋮  │    ⋮        ⋮\n",
       " 175 │ 2019-07       314\n",
       " 176 │ 2019-08       289\n",
       " 177 │ 2019-09       223\n",
       " 178 │ 2019-10       256\n",
       " 179 │ 2019-11       331\n",
       " 180 │ 2019-12       365\n",
       " 181 │ 2020-01         8\n",
       "\u001b[36m         166 rows omitted\u001b[0m"
      ]
     },
     "metadata": {},
     "output_type": "display_data"
    }
   ],
   "source": [
    "using Dates\n",
    "prepdata(demo_db, Frequency(), FamilyLevel(), TimeTrend(start = Date(\"2005\"), stop = Date(\"2020\"), resolution = Months()))"
   ]
  },
  {
   "attachments": {},
   "cell_type": "markdown",
   "metadata": {},
   "source": [
    "### Multidimensional frequency analyses\n",
    "\n",
    "Frequencies can be broken down across multiple groupings. Currently, up to three groupings are possible.\n",
    "\n",
    "Here's an analysis with two groupings:"
   ]
  },
  {
   "cell_type": "code",
   "execution_count": 27,
   "metadata": {},
   "outputs": [
    {
     "data": {
      "text/html": [
       "<div><div style = \"float: left;\"><span>18×3 DataFrame</span></div><div style = \"clear: both;\"></div></div><div class = \"data-frame\" style = \"overflow-x: scroll;\"><table class = \"data-frame\" style = \"margin-bottom: 6px;\"><thead><tr class = \"header\"><th class = \"rowNumber\" style = \"font-weight: bold; text-align: right;\">Row</th><th style = \"text-align: left;\">jurisdiction</th><th style = \"text-align: left;\">year</th><th style = \"text-align: left;\">families</th></tr><tr class = \"subheader headerLastRow\"><th class = \"rowNumber\" style = \"font-weight: bold; text-align: right;\"></th><th title = \"String\" style = \"text-align: left;\">String</th><th title = \"String\" style = \"text-align: left;\">String</th><th title = \"Int64\" style = \"text-align: left;\">Int64</th></tr></thead><tbody><tr><td class = \"rowNumber\" style = \"font-weight: bold; text-align: right;\">1</td><td style = \"text-align: left;\">CN</td><td style = \"text-align: left;\">2010</td><td style = \"text-align: right;\">332</td></tr><tr><td class = \"rowNumber\" style = \"font-weight: bold; text-align: right;\">2</td><td style = \"text-align: left;\">CN</td><td style = \"text-align: left;\">2011</td><td style = \"text-align: right;\">341</td></tr><tr><td class = \"rowNumber\" style = \"font-weight: bold; text-align: right;\">3</td><td style = \"text-align: left;\">CN</td><td style = \"text-align: left;\">2012</td><td style = \"text-align: right;\">626</td></tr><tr><td class = \"rowNumber\" style = \"font-weight: bold; text-align: right;\">4</td><td style = \"text-align: left;\">CN</td><td style = \"text-align: left;\">2013</td><td style = \"text-align: right;\">789</td></tr><tr><td class = \"rowNumber\" style = \"font-weight: bold; text-align: right;\">5</td><td style = \"text-align: left;\">CN</td><td style = \"text-align: left;\">2014</td><td style = \"text-align: right;\">801</td></tr><tr><td class = \"rowNumber\" style = \"font-weight: bold; text-align: right;\">6</td><td style = \"text-align: left;\">CN</td><td style = \"text-align: left;\">2015</td><td style = \"text-align: right;\">892</td></tr><tr><td class = \"rowNumber\" style = \"font-weight: bold; text-align: right;\">7</td><td style = \"text-align: left;\">US</td><td style = \"text-align: left;\">2010</td><td style = \"text-align: right;\">192</td></tr><tr><td class = \"rowNumber\" style = \"font-weight: bold; text-align: right;\">8</td><td style = \"text-align: left;\">US</td><td style = \"text-align: left;\">2011</td><td style = \"text-align: right;\">191</td></tr><tr><td class = \"rowNumber\" style = \"font-weight: bold; text-align: right;\">9</td><td style = \"text-align: left;\">US</td><td style = \"text-align: left;\">2012</td><td style = \"text-align: right;\">215</td></tr><tr><td class = \"rowNumber\" style = \"font-weight: bold; text-align: right;\">10</td><td style = \"text-align: left;\">US</td><td style = \"text-align: left;\">2013</td><td style = \"text-align: right;\">226</td></tr><tr><td class = \"rowNumber\" style = \"font-weight: bold; text-align: right;\">11</td><td style = \"text-align: left;\">US</td><td style = \"text-align: left;\">2014</td><td style = \"text-align: right;\">238</td></tr><tr><td class = \"rowNumber\" style = \"font-weight: bold; text-align: right;\">12</td><td style = \"text-align: left;\">US</td><td style = \"text-align: left;\">2015</td><td style = \"text-align: right;\">275</td></tr><tr><td class = \"rowNumber\" style = \"font-weight: bold; text-align: right;\">13</td><td style = \"text-align: left;\">WO</td><td style = \"text-align: left;\">2010</td><td style = \"text-align: right;\">103</td></tr><tr><td class = \"rowNumber\" style = \"font-weight: bold; text-align: right;\">14</td><td style = \"text-align: left;\">WO</td><td style = \"text-align: left;\">2011</td><td style = \"text-align: right;\">95</td></tr><tr><td class = \"rowNumber\" style = \"font-weight: bold; text-align: right;\">15</td><td style = \"text-align: left;\">WO</td><td style = \"text-align: left;\">2012</td><td style = \"text-align: right;\">114</td></tr><tr><td class = \"rowNumber\" style = \"font-weight: bold; text-align: right;\">16</td><td style = \"text-align: left;\">WO</td><td style = \"text-align: left;\">2013</td><td style = \"text-align: right;\">102</td></tr><tr><td class = \"rowNumber\" style = \"font-weight: bold; text-align: right;\">17</td><td style = \"text-align: left;\">WO</td><td style = \"text-align: left;\">2014</td><td style = \"text-align: right;\">140</td></tr><tr><td class = \"rowNumber\" style = \"font-weight: bold; text-align: right;\">18</td><td style = \"text-align: left;\">WO</td><td style = \"text-align: left;\">2015</td><td style = \"text-align: right;\">128</td></tr></tbody></table></div>"
      ],
      "text/latex": [
       "\\begin{tabular}{r|ccc}\n",
       "\t& jurisdiction & year & families\\\\\n",
       "\t\\hline\n",
       "\t& String & String & Int64\\\\\n",
       "\t\\hline\n",
       "\t1 & CN & 2010 & 332 \\\\\n",
       "\t2 & CN & 2011 & 341 \\\\\n",
       "\t3 & CN & 2012 & 626 \\\\\n",
       "\t4 & CN & 2013 & 789 \\\\\n",
       "\t5 & CN & 2014 & 801 \\\\\n",
       "\t6 & CN & 2015 & 892 \\\\\n",
       "\t7 & US & 2010 & 192 \\\\\n",
       "\t8 & US & 2011 & 191 \\\\\n",
       "\t9 & US & 2012 & 215 \\\\\n",
       "\t10 & US & 2013 & 226 \\\\\n",
       "\t11 & US & 2014 & 238 \\\\\n",
       "\t12 & US & 2015 & 275 \\\\\n",
       "\t13 & WO & 2010 & 103 \\\\\n",
       "\t14 & WO & 2011 & 95 \\\\\n",
       "\t15 & WO & 2012 & 114 \\\\\n",
       "\t16 & WO & 2013 & 102 \\\\\n",
       "\t17 & WO & 2014 & 140 \\\\\n",
       "\t18 & WO & 2015 & 128 \\\\\n",
       "\\end{tabular}\n"
      ],
      "text/plain": [
       "\u001b[1m18×3 DataFrame\u001b[0m\n",
       "\u001b[1m Row \u001b[0m│\u001b[1m jurisdiction \u001b[0m\u001b[1m year   \u001b[0m\u001b[1m families \u001b[0m\n",
       "     │\u001b[90m String       \u001b[0m\u001b[90m String \u001b[0m\u001b[90m Int64    \u001b[0m\n",
       "─────┼────────────────────────────────\n",
       "   1 │ CN            2010         332\n",
       "   2 │ CN            2011         341\n",
       "   3 │ CN            2012         626\n",
       "   4 │ CN            2013         789\n",
       "   5 │ CN            2014         801\n",
       "   6 │ CN            2015         892\n",
       "   7 │ US            2010         192\n",
       "   8 │ US            2011         191\n",
       "  ⋮  │      ⋮          ⋮        ⋮\n",
       "  12 │ US            2015         275\n",
       "  13 │ WO            2010         103\n",
       "  14 │ WO            2011          95\n",
       "  15 │ WO            2012         114\n",
       "  16 │ WO            2013         102\n",
       "  17 │ WO            2014         140\n",
       "  18 │ WO            2015         128\n",
       "\u001b[36m                        3 rows omitted\u001b[0m"
      ]
     },
     "metadata": {},
     "output_type": "display_data"
    }
   ],
   "source": [
    "prepdata(\n",
    "    demo_db, \n",
    "    Frequency(), \n",
    "    FamilyLevel(), \n",
    "    Jurisdictions([\"CN\", \"US\", \"WO\"]), \n",
    "    TimeTrend(start = Date(\"2010\"), stop = Date(\"2016\"), resolution = Years()))"
   ]
  },
  {
   "attachments": {},
   "cell_type": "markdown",
   "metadata": {},
   "source": [
    "And here's one with three:"
   ]
  },
  {
   "cell_type": "code",
   "execution_count": 28,
   "metadata": {},
   "outputs": [
    {
     "data": {
      "text/html": [
       "<div><div style = \"float: left;\"><span>27×6 DataFrame</span></div><div style = \"float: right;\"><span style = \"font-style: italic;\">2 rows omitted</span></div><div style = \"clear: both;\"></div></div><div class = \"data-frame\" style = \"overflow-x: scroll;\"><table class = \"data-frame\" style = \"margin-bottom: 6px;\"><thead><tr class = \"header\"><th class = \"rowNumber\" style = \"font-weight: bold; text-align: right;\">Row</th><th style = \"text-align: left;\">jurisdiction</th><th style = \"text-align: left;\">year</th><th style = \"text-align: left;\">applicant_id</th><th style = \"text-align: left;\">country</th><th style = \"text-align: left;\">name</th><th style = \"text-align: left;\">families</th></tr><tr class = \"subheader headerLastRow\"><th class = \"rowNumber\" style = \"font-weight: bold; text-align: right;\"></th><th title = \"String\" style = \"text-align: left;\">String</th><th title = \"String\" style = \"text-align: left;\">String</th><th title = \"Int64\" style = \"text-align: left;\">Int64</th><th title = \"String\" style = \"text-align: left;\">String</th><th title = \"String\" style = \"text-align: left;\">String</th><th title = \"Int64\" style = \"text-align: left;\">Int64</th></tr></thead><tbody><tr><td class = \"rowNumber\" style = \"font-weight: bold; text-align: right;\">1</td><td style = \"text-align: left;\">CN</td><td style = \"text-align: left;\">2010</td><td style = \"text-align: right;\">744</td><td style = \"text-align: left;\">??</td><td style = \"text-align: left;\">UNIV JIANGNAN</td><td style = \"text-align: right;\">11</td></tr><tr><td class = \"rowNumber\" style = \"font-weight: bold; text-align: right;\">2</td><td style = \"text-align: left;\">CN</td><td style = \"text-align: left;\">2011</td><td style = \"text-align: right;\">744</td><td style = \"text-align: left;\">??</td><td style = \"text-align: left;\">UNIV JIANGNAN</td><td style = \"text-align: right;\">35</td></tr><tr><td class = \"rowNumber\" style = \"font-weight: bold; text-align: right;\">3</td><td style = \"text-align: left;\">CN</td><td style = \"text-align: left;\">2011</td><td style = \"text-align: right;\">852</td><td style = \"text-align: left;\">??</td><td style = \"text-align: left;\">UNIV WUHAN TEXTILE</td><td style = \"text-align: right;\">9</td></tr><tr><td class = \"rowNumber\" style = \"font-weight: bold; text-align: right;\">4</td><td style = \"text-align: left;\">CN</td><td style = \"text-align: left;\">2011</td><td style = \"text-align: right;\">2764</td><td style = \"text-align: left;\">??</td><td style = \"text-align: left;\">LUTHAI TEXTILE CO LTD</td><td style = \"text-align: right;\">1</td></tr><tr><td class = \"rowNumber\" style = \"font-weight: bold; text-align: right;\">5</td><td style = \"text-align: left;\">CN</td><td style = \"text-align: left;\">2012</td><td style = \"text-align: right;\">744</td><td style = \"text-align: left;\">??</td><td style = \"text-align: left;\">UNIV JIANGNAN</td><td style = \"text-align: right;\">39</td></tr><tr><td class = \"rowNumber\" style = \"font-weight: bold; text-align: right;\">6</td><td style = \"text-align: left;\">CN</td><td style = \"text-align: left;\">2012</td><td style = \"text-align: right;\">852</td><td style = \"text-align: left;\">??</td><td style = \"text-align: left;\">UNIV WUHAN TEXTILE</td><td style = \"text-align: right;\">9</td></tr><tr><td class = \"rowNumber\" style = \"font-weight: bold; text-align: right;\">7</td><td style = \"text-align: left;\">CN</td><td style = \"text-align: left;\">2013</td><td style = \"text-align: right;\">744</td><td style = \"text-align: left;\">??</td><td style = \"text-align: left;\">UNIV JIANGNAN</td><td style = \"text-align: right;\">36</td></tr><tr><td class = \"rowNumber\" style = \"font-weight: bold; text-align: right;\">8</td><td style = \"text-align: left;\">CN</td><td style = \"text-align: left;\">2013</td><td style = \"text-align: right;\">852</td><td style = \"text-align: left;\">??</td><td style = \"text-align: left;\">UNIV WUHAN TEXTILE</td><td style = \"text-align: right;\">21</td></tr><tr><td class = \"rowNumber\" style = \"font-weight: bold; text-align: right;\">9</td><td style = \"text-align: left;\">CN</td><td style = \"text-align: left;\">2014</td><td style = \"text-align: right;\">744</td><td style = \"text-align: left;\">??</td><td style = \"text-align: left;\">UNIV JIANGNAN</td><td style = \"text-align: right;\">9</td></tr><tr><td class = \"rowNumber\" style = \"font-weight: bold; text-align: right;\">10</td><td style = \"text-align: left;\">CN</td><td style = \"text-align: left;\">2014</td><td style = \"text-align: right;\">852</td><td style = \"text-align: left;\">??</td><td style = \"text-align: left;\">UNIV WUHAN TEXTILE</td><td style = \"text-align: right;\">15</td></tr><tr><td class = \"rowNumber\" style = \"font-weight: bold; text-align: right;\">11</td><td style = \"text-align: left;\">CN</td><td style = \"text-align: left;\">2014</td><td style = \"text-align: right;\">2764</td><td style = \"text-align: left;\">??</td><td style = \"text-align: left;\">LUTHAI TEXTILE CO LTD</td><td style = \"text-align: right;\">1</td></tr><tr><td class = \"rowNumber\" style = \"font-weight: bold; text-align: right;\">12</td><td style = \"text-align: left;\">CN</td><td style = \"text-align: left;\">2015</td><td style = \"text-align: right;\">744</td><td style = \"text-align: left;\">??</td><td style = \"text-align: left;\">UNIV JIANGNAN</td><td style = \"text-align: right;\">15</td></tr><tr><td class = \"rowNumber\" style = \"font-weight: bold; text-align: right;\">13</td><td style = \"text-align: left;\">CN</td><td style = \"text-align: left;\">2015</td><td style = \"text-align: right;\">852</td><td style = \"text-align: left;\">??</td><td style = \"text-align: left;\">UNIV WUHAN TEXTILE</td><td style = \"text-align: right;\">25</td></tr><tr><td style = \"text-align: right;\">&vellip;</td><td style = \"text-align: right;\">&vellip;</td><td style = \"text-align: right;\">&vellip;</td><td style = \"text-align: right;\">&vellip;</td><td style = \"text-align: right;\">&vellip;</td><td style = \"text-align: right;\">&vellip;</td><td style = \"text-align: right;\">&vellip;</td></tr><tr><td class = \"rowNumber\" style = \"font-weight: bold; text-align: right;\">16</td><td style = \"text-align: left;\">US</td><td style = \"text-align: left;\">2012</td><td style = \"text-align: right;\">22</td><td style = \"text-align: left;\">US</td><td style = \"text-align: left;\">MILLIKEN &amp; CO</td><td style = \"text-align: right;\">5</td></tr><tr><td class = \"rowNumber\" style = \"font-weight: bold; text-align: right;\">17</td><td style = \"text-align: left;\">US</td><td style = \"text-align: left;\">2013</td><td style = \"text-align: right;\">22</td><td style = \"text-align: left;\">US</td><td style = \"text-align: left;\">MILLIKEN &amp; CO</td><td style = \"text-align: right;\">5</td></tr><tr><td class = \"rowNumber\" style = \"font-weight: bold; text-align: right;\">18</td><td style = \"text-align: left;\">US</td><td style = \"text-align: left;\">2014</td><td style = \"text-align: right;\">22</td><td style = \"text-align: left;\">US</td><td style = \"text-align: left;\">MILLIKEN &amp; CO</td><td style = \"text-align: right;\">6</td></tr><tr><td class = \"rowNumber\" style = \"font-weight: bold; text-align: right;\">19</td><td style = \"text-align: left;\">US</td><td style = \"text-align: left;\">2015</td><td style = \"text-align: right;\">22</td><td style = \"text-align: left;\">US</td><td style = \"text-align: left;\">MILLIKEN &amp; CO</td><td style = \"text-align: right;\">7</td></tr><tr><td class = \"rowNumber\" style = \"font-weight: bold; text-align: right;\">20</td><td style = \"text-align: left;\">US</td><td style = \"text-align: left;\">2015</td><td style = \"text-align: right;\">852</td><td style = \"text-align: left;\">??</td><td style = \"text-align: left;\">UNIV WUHAN TEXTILE</td><td style = \"text-align: right;\">1</td></tr><tr><td class = \"rowNumber\" style = \"font-weight: bold; text-align: right;\">21</td><td style = \"text-align: left;\">WO</td><td style = \"text-align: left;\">2010</td><td style = \"text-align: right;\">22</td><td style = \"text-align: left;\">US</td><td style = \"text-align: left;\">MILLIKEN &amp; CO</td><td style = \"text-align: right;\">4</td></tr><tr><td class = \"rowNumber\" style = \"font-weight: bold; text-align: right;\">22</td><td style = \"text-align: left;\">WO</td><td style = \"text-align: left;\">2011</td><td style = \"text-align: right;\">22</td><td style = \"text-align: left;\">US</td><td style = \"text-align: left;\">MILLIKEN &amp; CO</td><td style = \"text-align: right;\">6</td></tr><tr><td class = \"rowNumber\" style = \"font-weight: bold; text-align: right;\">23</td><td style = \"text-align: left;\">WO</td><td style = \"text-align: left;\">2012</td><td style = \"text-align: right;\">22</td><td style = \"text-align: left;\">US</td><td style = \"text-align: left;\">MILLIKEN &amp; CO</td><td style = \"text-align: right;\">2</td></tr><tr><td class = \"rowNumber\" style = \"font-weight: bold; text-align: right;\">24</td><td style = \"text-align: left;\">WO</td><td style = \"text-align: left;\">2013</td><td style = \"text-align: right;\">22</td><td style = \"text-align: left;\">US</td><td style = \"text-align: left;\">MILLIKEN &amp; CO</td><td style = \"text-align: right;\">3</td></tr><tr><td class = \"rowNumber\" style = \"font-weight: bold; text-align: right;\">25</td><td style = \"text-align: left;\">WO</td><td style = \"text-align: left;\">2014</td><td style = \"text-align: right;\">22</td><td style = \"text-align: left;\">US</td><td style = \"text-align: left;\">MILLIKEN &amp; CO</td><td style = \"text-align: right;\">5</td></tr><tr><td class = \"rowNumber\" style = \"font-weight: bold; text-align: right;\">26</td><td style = \"text-align: left;\">WO</td><td style = \"text-align: left;\">2015</td><td style = \"text-align: right;\">22</td><td style = \"text-align: left;\">US</td><td style = \"text-align: left;\">MILLIKEN &amp; CO</td><td style = \"text-align: right;\">6</td></tr><tr><td class = \"rowNumber\" style = \"font-weight: bold; text-align: right;\">27</td><td style = \"text-align: left;\">WO</td><td style = \"text-align: left;\">2015</td><td style = \"text-align: right;\">744</td><td style = \"text-align: left;\">??</td><td style = \"text-align: left;\">UNIV JIANGNAN</td><td style = \"text-align: right;\">1</td></tr></tbody></table></div>"
      ],
      "text/latex": [
       "\\begin{tabular}{r|cccccc}\n",
       "\t& jurisdiction & year & applicant\\_id & country & name & families\\\\\n",
       "\t\\hline\n",
       "\t& String & String & Int64 & String & String & Int64\\\\\n",
       "\t\\hline\n",
       "\t1 & CN & 2010 & 744 & ?? & UNIV JIANGNAN & 11 \\\\\n",
       "\t2 & CN & 2011 & 744 & ?? & UNIV JIANGNAN & 35 \\\\\n",
       "\t3 & CN & 2011 & 852 & ?? & UNIV WUHAN TEXTILE & 9 \\\\\n",
       "\t4 & CN & 2011 & 2764 & ?? & LUTHAI TEXTILE CO LTD & 1 \\\\\n",
       "\t5 & CN & 2012 & 744 & ?? & UNIV JIANGNAN & 39 \\\\\n",
       "\t6 & CN & 2012 & 852 & ?? & UNIV WUHAN TEXTILE & 9 \\\\\n",
       "\t7 & CN & 2013 & 744 & ?? & UNIV JIANGNAN & 36 \\\\\n",
       "\t8 & CN & 2013 & 852 & ?? & UNIV WUHAN TEXTILE & 21 \\\\\n",
       "\t9 & CN & 2014 & 744 & ?? & UNIV JIANGNAN & 9 \\\\\n",
       "\t10 & CN & 2014 & 852 & ?? & UNIV WUHAN TEXTILE & 15 \\\\\n",
       "\t11 & CN & 2014 & 2764 & ?? & LUTHAI TEXTILE CO LTD & 1 \\\\\n",
       "\t12 & CN & 2015 & 744 & ?? & UNIV JIANGNAN & 15 \\\\\n",
       "\t13 & CN & 2015 & 852 & ?? & UNIV WUHAN TEXTILE & 25 \\\\\n",
       "\t14 & US & 2010 & 22 & US & MILLIKEN \\& CO & 4 \\\\\n",
       "\t15 & US & 2011 & 22 & US & MILLIKEN \\& CO & 6 \\\\\n",
       "\t16 & US & 2012 & 22 & US & MILLIKEN \\& CO & 5 \\\\\n",
       "\t17 & US & 2013 & 22 & US & MILLIKEN \\& CO & 5 \\\\\n",
       "\t18 & US & 2014 & 22 & US & MILLIKEN \\& CO & 6 \\\\\n",
       "\t19 & US & 2015 & 22 & US & MILLIKEN \\& CO & 7 \\\\\n",
       "\t20 & US & 2015 & 852 & ?? & UNIV WUHAN TEXTILE & 1 \\\\\n",
       "\t21 & WO & 2010 & 22 & US & MILLIKEN \\& CO & 4 \\\\\n",
       "\t22 & WO & 2011 & 22 & US & MILLIKEN \\& CO & 6 \\\\\n",
       "\t23 & WO & 2012 & 22 & US & MILLIKEN \\& CO & 2 \\\\\n",
       "\t24 & WO & 2013 & 22 & US & MILLIKEN \\& CO & 3 \\\\\n",
       "\t$\\dots$ & $\\dots$ & $\\dots$ & $\\dots$ & $\\dots$ & $\\dots$ & $\\dots$ \\\\\n",
       "\\end{tabular}\n"
      ],
      "text/plain": [
       "\u001b[1m27×6 DataFrame\u001b[0m\n",
       "\u001b[1m Row \u001b[0m│\u001b[1m jurisdiction \u001b[0m\u001b[1m year   \u001b[0m\u001b[1m applicant_id \u001b[0m\u001b[1m country \u001b[0m\u001b[1m name                  \u001b[0m\u001b[1m fam\u001b[0m ⋯\n",
       "     │\u001b[90m String       \u001b[0m\u001b[90m String \u001b[0m\u001b[90m Int64        \u001b[0m\u001b[90m String  \u001b[0m\u001b[90m String                \u001b[0m\u001b[90m Int\u001b[0m ⋯\n",
       "─────┼──────────────────────────────────────────────────────────────────────────\n",
       "   1 │ CN            2010             744  ??       UNIV JIANGNAN              ⋯\n",
       "   2 │ CN            2011             744  ??       UNIV JIANGNAN\n",
       "   3 │ CN            2011             852  ??       UNIV WUHAN TEXTILE\n",
       "   4 │ CN            2011            2764  ??       LUTHAI TEXTILE CO LTD\n",
       "   5 │ CN            2012             744  ??       UNIV JIANGNAN              ⋯\n",
       "   6 │ CN            2012             852  ??       UNIV WUHAN TEXTILE\n",
       "   7 │ CN            2013             744  ??       UNIV JIANGNAN\n",
       "   8 │ CN            2013             852  ??       UNIV WUHAN TEXTILE\n",
       "  ⋮  │      ⋮          ⋮          ⋮           ⋮               ⋮                ⋱\n",
       "  21 │ WO            2010              22  US       MILLIKEN & CO              ⋯\n",
       "  22 │ WO            2011              22  US       MILLIKEN & CO\n",
       "  23 │ WO            2012              22  US       MILLIKEN & CO\n",
       "  24 │ WO            2013              22  US       MILLIKEN & CO\n",
       "  25 │ WO            2014              22  US       MILLIKEN & CO              ⋯\n",
       "  26 │ WO            2015              22  US       MILLIKEN & CO\n",
       "  27 │ WO            2015             744  ??       UNIV JIANGNAN\n",
       "\u001b[36m                                                    1 column and 12 rows omitted\u001b[0m"
      ]
     },
     "metadata": {},
     "output_type": "display_data"
    }
   ],
   "source": [
    "prepdata(\n",
    "    demo_db, \n",
    "    Frequency(), \n",
    "    FamilyLevel(), \n",
    "    Jurisdictions([\"CN\", \"US\", \"WO\"]), \n",
    "    TimeTrend(start = Date(\"2010\"), stop = Date(\"2016\"), resolution = Years()),\n",
    "    Applicants([744, 852, 2764, 22, 5]))"
   ]
  },
  {
   "attachments": {},
   "cell_type": "markdown",
   "metadata": {},
   "source": [
    "## 3. Filters\n",
    "\n",
    "Filters allow subsetting of databases based on composable conditions.\n",
    "They are useful for efficient scanning and selection of data and are a main building block of other concepts like taxonomies.\n",
    "The database is optimized with lookup tables to apply these filters very quickly.\n",
    "\n",
    "### Classification Filters\n",
    "\n",
    "We can create a filter based on [IPC](https://ipcpub.wipo.int/) or [CPC](https://worldwide.espacenet.com/patent/cpc-browser#) classifications, at any level of the classification."
   ]
  },
  {
   "cell_type": "code",
   "execution_count": 30,
   "metadata": {},
   "outputs": [
    {
     "data": {
      "text/plain": [
       "ClassificationFilter(IPC(), Section(), IPCSymbol[IPCSymbol(\"A\")])"
      ]
     },
     "metadata": {},
     "output_type": "display_data"
    }
   ],
   "source": [
    "filter1 = ClassificationFilter(IPC(), Section(), IPCSymbol.([\"A\"]))\n",
    "filter2 = ClassificationFilter(CPC(), Class(), IPCSymbol.([\"D01\", \"D21\"]))"
   ]
  },
  {
   "attachments": {},
   "cell_type": "markdown",
   "metadata": {},
   "source": [
    "### Applying filters in an analysis\n",
    "\n",
    "`prepdata()` allows specifying a filter after the analysis level to specify the subset of the database to be analyzed."
   ]
  },
  {
   "cell_type": "code",
   "execution_count": 31,
   "metadata": {},
   "outputs": [
    {
     "data": {
      "text/html": [
       "<div><div style = \"float: left;\"><span>1×1 DataFrame</span></div><div style = \"clear: both;\"></div></div><div class = \"data-frame\" style = \"overflow-x: scroll;\"><table class = \"data-frame\" style = \"margin-bottom: 6px;\"><thead><tr class = \"header\"><th class = \"rowNumber\" style = \"font-weight: bold; text-align: right;\">Row</th><th style = \"text-align: left;\">families</th></tr><tr class = \"subheader headerLastRow\"><th class = \"rowNumber\" style = \"font-weight: bold; text-align: right;\"></th><th title = \"Int64\" style = \"text-align: left;\">Int64</th></tr></thead><tbody><tr><td class = \"rowNumber\" style = \"font-weight: bold; text-align: right;\">1</td><td style = \"text-align: right;\">4752</td></tr></tbody></table></div>"
      ],
      "text/latex": [
       "\\begin{tabular}{r|c}\n",
       "\t& families\\\\\n",
       "\t\\hline\n",
       "\t& Int64\\\\\n",
       "\t\\hline\n",
       "\t1 & 4752 \\\\\n",
       "\\end{tabular}\n"
      ],
      "text/plain": [
       "\u001b[1m1×1 DataFrame\u001b[0m\n",
       "\u001b[1m Row \u001b[0m│\u001b[1m families \u001b[0m\n",
       "     │\u001b[90m Int64    \u001b[0m\n",
       "─────┼──────────\n",
       "   1 │     4752"
      ]
     },
     "metadata": {},
     "output_type": "display_data"
    }
   ],
   "source": [
    "prepdata(demo_db, Frequency(), FamilyLevel(), filter1) # Count number of patent families in IPC section A \"Human Necessities\" in the database"
   ]
  },
  {
   "attachments": {},
   "cell_type": "markdown",
   "metadata": {},
   "source": [
    "In a grouped analysis, the filter is passed before the groupings."
   ]
  },
  {
   "cell_type": "code",
   "execution_count": 33,
   "metadata": {},
   "outputs": [
    {
     "data": {
      "text/html": [
       "<div><div style = \"float: left;\"><span>14×2 DataFrame</span></div><div style = \"clear: both;\"></div></div><div class = \"data-frame\" style = \"overflow-x: scroll;\"><table class = \"data-frame\" style = \"margin-bottom: 6px;\"><thead><tr class = \"header\"><th class = \"rowNumber\" style = \"font-weight: bold; text-align: right;\">Row</th><th style = \"text-align: left;\">year</th><th style = \"text-align: left;\">families</th></tr><tr class = \"subheader headerLastRow\"><th class = \"rowNumber\" style = \"font-weight: bold; text-align: right;\"></th><th title = \"String\" style = \"text-align: left;\">String</th><th title = \"Int64\" style = \"text-align: left;\">Int64</th></tr></thead><tbody><tr><td class = \"rowNumber\" style = \"font-weight: bold; text-align: right;\">1</td><td style = \"text-align: left;\">2010</td><td style = \"text-align: right;\">129</td></tr><tr><td class = \"rowNumber\" style = \"font-weight: bold; text-align: right;\">2</td><td style = \"text-align: left;\">2011</td><td style = \"text-align: right;\">124</td></tr><tr><td class = \"rowNumber\" style = \"font-weight: bold; text-align: right;\">3</td><td style = \"text-align: left;\">2012</td><td style = \"text-align: right;\">133</td></tr><tr><td class = \"rowNumber\" style = \"font-weight: bold; text-align: right;\">4</td><td style = \"text-align: left;\">2013</td><td style = \"text-align: right;\">155</td></tr><tr><td class = \"rowNumber\" style = \"font-weight: bold; text-align: right;\">5</td><td style = \"text-align: left;\">2014</td><td style = \"text-align: right;\">159</td></tr><tr><td class = \"rowNumber\" style = \"font-weight: bold; text-align: right;\">6</td><td style = \"text-align: left;\">2015</td><td style = \"text-align: right;\">192</td></tr><tr><td class = \"rowNumber\" style = \"font-weight: bold; text-align: right;\">7</td><td style = \"text-align: left;\">2016</td><td style = \"text-align: right;\">189</td></tr><tr><td class = \"rowNumber\" style = \"font-weight: bold; text-align: right;\">8</td><td style = \"text-align: left;\">2017</td><td style = \"text-align: right;\">252</td></tr><tr><td class = \"rowNumber\" style = \"font-weight: bold; text-align: right;\">9</td><td style = \"text-align: left;\">2018</td><td style = \"text-align: right;\">336</td></tr><tr><td class = \"rowNumber\" style = \"font-weight: bold; text-align: right;\">10</td><td style = \"text-align: left;\">2019</td><td style = \"text-align: right;\">368</td></tr><tr><td class = \"rowNumber\" style = \"font-weight: bold; text-align: right;\">11</td><td style = \"text-align: left;\">2020</td><td style = \"text-align: right;\">448</td></tr><tr><td class = \"rowNumber\" style = \"font-weight: bold; text-align: right;\">12</td><td style = \"text-align: left;\">2021</td><td style = \"text-align: right;\">697</td></tr><tr><td class = \"rowNumber\" style = \"font-weight: bold; text-align: right;\">13</td><td style = \"text-align: left;\">2022</td><td style = \"text-align: right;\">617</td></tr><tr><td class = \"rowNumber\" style = \"font-weight: bold; text-align: right;\">14</td><td style = \"text-align: left;\">2023</td><td style = \"text-align: right;\">33</td></tr></tbody></table></div>"
      ],
      "text/latex": [
       "\\begin{tabular}{r|cc}\n",
       "\t& year & families\\\\\n",
       "\t\\hline\n",
       "\t& String & Int64\\\\\n",
       "\t\\hline\n",
       "\t1 & 2010 & 129 \\\\\n",
       "\t2 & 2011 & 124 \\\\\n",
       "\t3 & 2012 & 133 \\\\\n",
       "\t4 & 2013 & 155 \\\\\n",
       "\t5 & 2014 & 159 \\\\\n",
       "\t6 & 2015 & 192 \\\\\n",
       "\t7 & 2016 & 189 \\\\\n",
       "\t8 & 2017 & 252 \\\\\n",
       "\t9 & 2018 & 336 \\\\\n",
       "\t10 & 2019 & 368 \\\\\n",
       "\t11 & 2020 & 448 \\\\\n",
       "\t12 & 2021 & 697 \\\\\n",
       "\t13 & 2022 & 617 \\\\\n",
       "\t14 & 2023 & 33 \\\\\n",
       "\\end{tabular}\n"
      ],
      "text/plain": [
       "\u001b[1m14×2 DataFrame\u001b[0m\n",
       "\u001b[1m Row \u001b[0m│\u001b[1m year   \u001b[0m\u001b[1m families \u001b[0m\n",
       "     │\u001b[90m String \u001b[0m\u001b[90m Int64    \u001b[0m\n",
       "─────┼──────────────────\n",
       "   1 │ 2010         129\n",
       "   2 │ 2011         124\n",
       "   3 │ 2012         133\n",
       "   4 │ 2013         155\n",
       "   5 │ 2014         159\n",
       "   6 │ 2015         192\n",
       "   7 │ 2016         189\n",
       "   8 │ 2017         252\n",
       "   9 │ 2018         336\n",
       "  10 │ 2019         368\n",
       "  11 │ 2020         448\n",
       "  12 │ 2021         697\n",
       "  13 │ 2022         617\n",
       "  14 │ 2023          33"
      ]
     },
     "metadata": {},
     "output_type": "display_data"
    }
   ],
   "source": [
    "prepdata(demo_db, Frequency(), FamilyLevel(), filter1, TimeTrend(start = Date(\"2010\")))"
   ]
  }
 ],
 "metadata": {
  "kernelspec": {
   "display_name": "Julia 1.8.5",
   "language": "julia",
   "name": "julia-1.8"
  },
  "language_info": {
   "file_extension": ".jl",
   "mimetype": "application/julia",
   "name": "julia",
   "version": "1.8.5"
  },
  "orig_nbformat": 4,
  "vscode": {
   "interpreter": {
    "hash": "e7370f93d1d0cde622a1f8e1c04877d8463912d04d973331ad4851f04de6915a"
   }
  }
 },
 "nbformat": 4,
 "nbformat_minor": 2
}
